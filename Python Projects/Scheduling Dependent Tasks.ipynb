{
  "nbformat": 4,
  "nbformat_minor": 0,
  "metadata": {
    "colab": {
      "name": "Homework_11.ipynb",
      "provenance": [],
      "collapsed_sections": []
    },
    "kernelspec": {
      "display_name": "Python 3",
      "language": "python",
      "name": "python3"
    },
    "language_info": {
      "codemirror_mode": {
        "name": "ipython",
        "version": 3
      },
      "file_extension": ".py",
      "mimetype": "text/x-python",
      "name": "python",
      "nbconvert_exporter": "python",
      "pygments_lexer": "ipython3",
      "version": "3.7.10"
    },
    "test_info": {
      "id": "8f8d5e96512b87f9c93aa8b9bcd70ad6f6fcc60f"
    }
  },
  "cells": [
    {
      "cell_type": "markdown",
      "metadata": {
        "id": "W5QEYXDpJeVI"
      },
      "source": [
        "Before you turn this problem in, make sure everything runs as expected. First, **restart the kernel** (in the menubar, select Kernel$\\rightarrow$Restart) and then **run all cells** (in the menubar, select Cell$\\rightarrow$Run All).\n",
        "\n",
        "Make sure you fill in any place that says `YOUR CODE HERE` or \"YOUR ANSWER HERE\", as well as your name and collaborators below:"
      ]
    },
    {
      "cell_type": "code",
      "metadata": {
        "id": "H0IUu6qAJeVM"
      },
      "source": [
        "NAME = \"\"\n",
        "COLLABORATORS = \"\""
      ],
      "execution_count": 1,
      "outputs": []
    },
    {
      "cell_type": "markdown",
      "metadata": {
        "id": "_9invq42JeVO"
      },
      "source": [
        "---"
      ]
    },
    {
      "cell_type": "markdown",
      "metadata": {
        "id": "9UZp88asJeVO"
      },
      "source": [
        "# CSE 30 Fall 2021 - Homework 10\n",
        "\n",
        "## Graphs\n",
        "\n",
        "\n",
        "### Instructions\n",
        "\n",
        "Please disregard the YOUR NAME and COLLABORATORS above.  They are put there atomatically by the grading tool.\n",
        "You can find instructions on how to work on a homework on Canvas.  Here is a short summary: \n",
        "\n",
        "### Submitting your work\n",
        "\n",
        "To submit your work: \n",
        "\n",
        "* First, click on \"Runtime > Restart and run all\", and check that you get no errors.  This enables you to catch any error you might have introduced, and not noticed, due to your running cells out of order. \n",
        "* Second, download the notebook in .ipynb format (File > Download .ipynb) and upload the .ipynb file to [this form](https://docs.google.com/forms/d/e/1FAIpQLSd6nCKj1zOfJMFDyTjqXJdk0WlI3yil3rMDTHKQRsNZ73h6ZQ/viewform?usp=sf_link). \n",
        "\n",
        "You can submit multiple times; the last submission before the deadline is the one that counts.\n",
        "\n",
        "### Homework format\n",
        "\n",
        "For each question in this notebook, there is: \n",
        "\n",
        "* A text description of the problem. \n",
        "* One or more places where you have to insert your solution.  You need to complete every place marked: \n",
        "\n",
        "    `# YOUR CODE HERE`\n",
        "    \n",
        "    and you should not modify any other place. \n",
        "* One or more test cells.  Each cell is worth some number of points, marked at the top.  You should not modify these tests cells.  The tests pass if no error is printed out: when there is a statement that says, for instance: \n",
        "\n",
        "    `assert x == 2`\n",
        "    \n",
        "    then the test passes if `x` has value 2, and fails otherwise.  You can insert a `print(x)` (for this case!) somewhere if you want to debug your work; it is up to you.  \n",
        "    \n",
        "### Notes:\n",
        "\n",
        "* Your code will be tested both according to the tests you can see (the `assert` statements you can see), _and_ additional tests.  This prevents you from hard-coding the answer to the particular questions posed.  Your code should solve the _general_ intended case, not hard-code the particular answer for the values used in the tests. \n",
        "\n",
        "* **Please do not delete or add cells!** The test is autograded, and if you modify the test by adding or deleting cells, even if you re-add cells you delete, you may not receive credit. \n",
        "\n",
        "* **Please do not import modules that are not part of the [standard library](https://docs.python.org/3/library/index.html).** You do not need any, and they will likely not available in the grading environment, leading your code to fail. \n",
        "\n",
        "* **If you are inactive too long, your notebook might get disconnected from the back-end.** Your work is never lost, but you have to re-run all the cells before you continue. \n",
        "\n",
        "* You can write out print statements in your code, to help you test/debug it. But remember: the code is graded on the basis of what it outputs or returns, not on the basis of what it prints.\n",
        "\n",
        "* **TAs and tutors have access to this notebook,** so if you let them know you need their help, they can look at your work and give you advice. \n",
        "\n",
        "### Grading\n",
        "\n",
        "Each cell where there are tests is worth a certain number of points.  You get the points allocated to a cell only if you pass _all_ the tests in the cell. \n",
        "\n",
        "The tests in a cell include both the tests you can see, and other, similar, tests that are used for grading only.  Therefore, you cannot hard-code the solutions: you really have to solve the essence of the problem, to receive the points in a cell. \n",
        "\n",
        "### Code of Conduct\n",
        "\n",
        "* Work on the test yourself, alone. \n",
        "* You can search documentation on the web, on sites such as the Python documentation sites, Stackoverflow, and similar, and you can use the results. \n",
        "* You cannot share your work with others or solicit their help.\n"
      ]
    },
    {
      "cell_type": "markdown",
      "metadata": {
        "id": "3uoDVcoGJeVQ"
      },
      "source": [
        "## About This Homework\n",
        "\n",
        "The homework consists of 4 questions, for a total of 90                            points.\n",
        "\n",
        "The instructions for working on homework assignments are available on Canvas; as a summary:\n",
        "\n",
        "* Write your code only where indicated via \n",
        "\n",
        "        # YOUR CODE HERE\n",
        "    If you write code in other places, it will be discarded during grading.\n",
        "* Do not add/remove cells.\n",
        "* The tests are implemented with assert statements: if they fail, you will see an error (a Python exception). If you see no error, you can assume that they pass.\n",
        "\n",
        "Once you are done working on it, you can download the .ipynb and [submit to this Google Form](https://docs.google.com/forms/d/e/1FAIpQLSe7gGOiIELvfI9ImU5Xf8idU44DbS9zEtskln5wBoP2OS2giw/viewform?usp=sf_link)."
      ]
    },
    {
      "cell_type": "markdown",
      "metadata": {
        "id": "7xUscln_JeVQ"
      },
      "source": [
        "Assume you have to prepare Pasta Carbonara.   My version of the recipe goes like this: \n",
        "\n",
        "> Dice onions and pancetta, and fry in a mix of olive oil and butter, slowly.  Separately, put in a bowl as many eggs as there are dinner guests; you can either put in the bowls the yolks only, or you can add a few whites if you wish.  Beat the eggs.  \n",
        "> Bring water to a boil, and when it boils, salt it.  Put the pasta in (I like Penne Rigate).   When cooked, colander the water away, and quickly unite in the bowl the beaten eggs, the pasta, and the pancetta.  Mix well and serve immediately. \n",
        "\n",
        "If you have to invite people over, you could do this recipe sequentially, and first worry about cooking the pasta: warming the water, putting the pasta in, then colandering it.  Then you could worry about cooking the pancetta and onions.  When that's done, you can start to beat the eggs. Finally, you could unite everything.  Technically, that would work, but there would be two problems.  The first is that, of course, the pasta would be rather cold by the time it would be served, a capital sin (pasta must be served immediately after it is cooked).  Secondly, even if you rehash the order so that you first cook the pancetta, then beat the eggs, then cook the pasta, then technically this works -- but it would take you well over one hour to have everything ready.  You want to do things in parallel, cooking the pancetta while heating up the water for the pasta, and so forth.  You want to discover what are the things that need to be done one after the other, and what are the things that can be done in parallel, and in which order to do everything.  \n",
        "\n",
        "Great cooking, by the way, is much about the perfect timing, not only the perfect preparation.  You have to have the various preparations ready at the same time, to unite them just right.  We will worry about timing in the second part of this chapter; first, we worry about what we can do and in which order.\n",
        "\n",
        "As an aside for those of you who are more interested in compiling code than in cooking, the problem of how to compile C or C++ code is very similar.  A makefile defines dependencies between tasks: you have to have compiled pathlib.c before you can link the result together with something else.  The task of the make program is to figure out how to parallelize the compilation, so that independent tasks can happen in different processes (possibly on different CPU cores), while respecting the precedence constraints between tasks.  We will mention this application in some of the exercises of the chapter. \n",
        "\n",
        "\n",
        "\n"
      ]
    },
    {
      "cell_type": "markdown",
      "metadata": {
        "id": "tMjiIweEJeVR"
      },
      "source": [
        "## Scheduling dependent tasks"
      ]
    },
    {
      "cell_type": "markdown",
      "metadata": {
        "id": "tx0yQBzQJeVR"
      },
      "source": [
        "We first disregard the problem of cooking (or compiling) time, and ask about the order in which we should be doing the tasks.  We want to create a _Scheduler_ object, that can tell us what to do at the same time.  What operations should this object support? \n",
        "\n",
        "* **add_task:** we should be able to add a task, along with the task dependencies. \n",
        "* **reset:** indicating that we are about to run the sequences of tasks again.\n",
        "* **available_tasks:** this property should return the set of things that we can do in parallel. \n",
        "* **mark_completed:** used to notify the scheduler that we have completed a task.  This should return the set of new tasks that we can do due to this task being completed; we can do these tasks in parallel alongside with the others that we are already doing. \n",
        "* **all_done:** returns True/False according to whether we have completed all tasks. \n",
        "\n",
        "Choosing these operations is perhaps the most important step in the design of the scheduler.  The operations need to have a simple, clear definition, and be useful in a concrete implementation of the service which will run the tasks.  Of the above operations, they are all uncontroversial, except for the choice of behavior of _completed_.  In theory, there is no need for _completed_ to return the set of _new_ tasks that can now be undertaken.  If one remembers the set of tasks $T_1$ one can a do before a task $t \\in T_1$ is completed, and marks $t$ as completed, one can simply ask the scheduler for the set of tasks $T_2$ that can now be done, and add those in $T_{21t} = T_2 \\setminus (\\{t\\} \\cup T_1)$ for execution.  However, we guess (as we have not yet written the task execution engine) that being told this set of tasks directly will simplify the design of the task execution engine. "
      ]
    },
    {
      "cell_type": "markdown",
      "metadata": {
        "id": "7saBNtdMJeVS"
      },
      "source": [
        "Our scheduler class will be implemented in similar fashion to our graph class, with tasks corresponding to graph vertices, and dependencies represented as edges.\n",
        "The difference is that here, given a vertex (that is, a task) $v$, it will be useful to be able to access both:\n",
        "\n",
        "* the _predecessors_ of $v$, that is, the tasks $u$ that are declared as prerequisites of $v$, and \n",
        "* the _successors_ of $v$, that is, the tasks $u$ such that $v$ was declared as a prerequisite for $u$. \n",
        "\n",
        "When we add a task, we would have to initialize its set of successors and predecessors to empty.  This is somewhat tedious, and so we resort to a defaultdict, which is a special type of dictionary such that, if the mapping for a key has not been defined, it returns a default value; in our case, an empty set.  [You can read more about defaultdict and related types here](https://docs.python.org/3.7/library/collections.html#collections.defaultdict). \n",
        "\n",
        "Our first implementation of the class is as follows.  We let you complete the `available_tasks` and `mark_completed` methods. \n"
      ]
    },
    {
      "cell_type": "code",
      "metadata": {
        "id": "0IreQzCcJeVT"
      },
      "source": [
        "from collections import defaultdict\n",
        "import networkx as nx # Library for displaying graphs.\n",
        "import matplotlib.pyplot as plt\n",
        "\n",
        "class DependencyScheduler(object):\n",
        "\n",
        "    def __init__(self):\n",
        "        self.tasks = set()\n",
        "        # The successors of a task are the tasks that depend on it, and can\n",
        "        # only be done once the task is completed.\n",
        "        self.successors = defaultdict(set)\n",
        "        # The predecessors of a task have to be done before the task.\n",
        "        self.predecessors = defaultdict(set)\n",
        "        self.completed_tasks = set() # completed tasks\n",
        "\n",
        "    def add_task(self, t, dependencies):\n",
        "        \"\"\"Adds a task t with given dependencies.\"\"\"\n",
        "        # Makes sure we know about all tasks mentioned.\n",
        "        assert t not in self.tasks or len(self.predecessors[t]) == 0, \"The task was already present.\"\n",
        "        self.tasks.add(t)\n",
        "        self.tasks.update(dependencies)\n",
        "        # The predecessors are the tasks that need to be done before.\n",
        "        self.predecessors[t] = set(dependencies)\n",
        "        # The new task is a successor of its dependencies.\n",
        "        for u in dependencies:\n",
        "            self.successors[u].add(t)\n",
        "\n",
        "    def reset(self):\n",
        "        self.completed_tasks = set()\n",
        "\n",
        "    @property\n",
        "    def done(self):\n",
        "        return self.completed_tasks == self.tasks\n",
        "\n",
        "\n",
        "    def show(self):\n",
        "        \"\"\"We use the nx graph to display the graph.\"\"\"\n",
        "        g = nx.DiGraph()\n",
        "        g.add_nodes_from(self.tasks)\n",
        "        g.add_edges_from([(u, v) for u in self.tasks for v in self.successors[u]])\n",
        "        node_colors = ''.join([('g' if v in self.completed_tasks else 'r')\n",
        "                           for v in self.tasks])\n",
        "        nx.draw(g, with_labels=True, node_color=node_colors)\n",
        "        plt.show()\n",
        "\n",
        "    @property\n",
        "    def uncompleted(self):\n",
        "        \"\"\"Returns the tasks that have not been completed.\n",
        "        This is a property, so you can say scheduler.uncompleted rather than\n",
        "        scheduler.uncompleted()\"\"\"\n",
        "        return self.tasks - self.completed_tasks\n",
        "\n",
        "    def _check(self):\n",
        "        \"\"\"We check that if t is a successor of u, then u is a predecessor\n",
        "        of t.\"\"\"\n",
        "        for u in self.tasks:\n",
        "            for t in self.successors[u]:\n",
        "                assert u in self.predecessors[t]\n"
      ],
      "execution_count": 2,
      "outputs": []
    },
    {
      "cell_type": "markdown",
      "metadata": {
        "id": "JMarxxK4JeVU"
      },
      "source": [
        "## Question 1: implement `available_tasks` and `mark_completed`. "
      ]
    },
    {
      "cell_type": "code",
      "metadata": {
        "id": "1NgHnLppJeVU"
      },
      "source": [
        "### Implementation of `available_tasks` and `mark_completed`.\n",
        "\n",
        "def scheduler_available_tasks(self):\n",
        "    \"\"\"Returns the set of tasks that can be done in parallel.\n",
        "    A task can be done if all its predecessors have been completed.\n",
        "    And of course, we don't return any task that has already been\n",
        "    completed.\"\"\"\n",
        "    #iterate through everything in the loop\n",
        "    #then check each one to see if it can be done\n",
        "    #do so by checking if the length of predecessors is 0\n",
        "    #if so add to the set that you will return\n",
        "\n",
        "    s = set()\n",
        "\n",
        "    for i in self.uncompleted:\n",
        "        if len(self.predecessors[i]) == 0:\n",
        "            s.add(i)\n",
        "        else:\n",
        "            a = True\n",
        "            for k in self.predecessors[i]:\n",
        "                if k not in self.completed_tasks:\n",
        "                    a = False\n",
        "            if a == True:\n",
        "                s.add(i)\n",
        "    return s\n",
        "\n",
        "def scheduler_mark_completed(self, t):\n",
        "    \"\"\"Marks the task t as completed, and returns the additional\n",
        "    set of tasks that can be done (and that could not be\n",
        "    previously done) once t is completed.\"\"\"\n",
        "\n",
        "    l = self.available_tasks\n",
        "    self.completed_tasks.add(t)\n",
        "    \n",
        "    return self.available_tasks - l\n",
        "\n",
        "DependencyScheduler.available_tasks = property(scheduler_available_tasks)\n",
        "DependencyScheduler.mark_completed = scheduler_mark_completed\n"
      ],
      "execution_count": 3,
      "outputs": []
    },
    {
      "cell_type": "code",
      "metadata": {
        "id": "ePEO8m4wJeVU"
      },
      "source": [
        ""
      ],
      "execution_count": 3,
      "outputs": []
    },
    {
      "cell_type": "markdown",
      "metadata": {
        "id": "cWQXGIUbJeVV"
      },
      "source": [
        "Let us check if this works."
      ]
    },
    {
      "cell_type": "code",
      "metadata": {
        "colab": {
          "base_uri": "https://localhost:8080/",
          "height": 374
        },
        "id": "h9_YE6rHJeVV",
        "outputId": "d15b1fc3-834f-4be5-e0c9-8501f6f88eba"
      },
      "source": [
        "s = DependencyScheduler()\n",
        "s.add_task('a', ['b', 'c'])\n",
        "s.add_task('b', ['c', 'e'])\n",
        "s._check()\n",
        "s.show()\n"
      ],
      "execution_count": 4,
      "outputs": [
        {
          "output_type": "stream",
          "name": "stderr",
          "text": [
            "/usr/local/lib/python3.7/dist-packages/networkx/drawing/nx_pylab.py:474: MatplotlibDeprecationWarning: Using a string of single character colors as a color sequence is deprecated. Use an explicit list instead.\n",
            "  label=label,\n"
          ]
        },
        {
          "output_type": "display_data",
          "data": {
            "image/png": "[encoded data removed]",
            "text/plain": [
              "<Figure size 432x288 with 1 Axes>"
            ]
          },
          "metadata": {}
        }
      ]
    },
    {
      "cell_type": "markdown",
      "metadata": {
        "id": "hTkdW4xmJeVV"
      },
      "source": [
        "We note that in the above drawing, the edges denote temporal succession, that is, an edge from $c$ to $a$ means that $c$ must happen before $a$. \n",
        "Let us execute the schedule manually."
      ]
    },
    {
      "cell_type": "markdown",
      "metadata": {
        "id": "fZ6qGrF4JeVW"
      },
      "source": [
        "Here are some tests for `available_tasks` and `mark_completed`. "
      ]
    },
    {
      "cell_type": "code",
      "metadata": {
        "id": "ys0BYAHTJeVW"
      },
      "source": [
        "### Simple tests. 5 points. \n",
        "\n",
        "s = DependencyScheduler()\n",
        "s.add_task('a', [])\n",
        "assert s.available_tasks == {'a'}\n",
        "\n",
        "s = DependencyScheduler()\n",
        "assert s.available_tasks == set()\n"
      ],
      "execution_count": 5,
      "outputs": []
    },
    {
      "cell_type": "code",
      "metadata": {
        "id": "ho67uaYmJeVW"
      },
      "source": [
        "### Slightly more complicated. 4 points. \n",
        "\n",
        "s = DependencyScheduler()\n",
        "s.add_task('a', ['b', 'c'])\n",
        "s.add_task('b', ['c', 'e'])\n",
        "assert s.available_tasks == {'e', 'c'}\n",
        "\n",
        "s = DependencyScheduler()\n",
        "s.add_task('a', ['b'])\n",
        "s.add_task('b', ['a'])\n",
        "assert s.available_tasks == set()"
      ],
      "execution_count": 6,
      "outputs": []
    },
    {
      "cell_type": "code",
      "metadata": {
        "id": "dEWSzdLHJeVW"
      },
      "source": [
        "# Hidden tests, 6 points. \n"
      ],
      "execution_count": 7,
      "outputs": []
    },
    {
      "cell_type": "code",
      "metadata": {
        "id": "FkdNjzkRJeVW",
        "colab": {
          "base_uri": "https://localhost:8080/"
        },
        "outputId": "86ea82c5-c989-4a92-d20b-be3f9825ff7a"
      },
      "source": [
        "### Now, let's test `mark_completed`.  Simple tests first. 2 points. \n",
        "\n",
        "s = DependencyScheduler()\n",
        "s.add_task('a', [])\n",
        "assert s.available_tasks, {'a'}\n",
        "r = s.mark_completed('a')\n",
        "assert r == set()\n",
        "\n",
        "s = DependencyScheduler()\n",
        "s.add_task('a', ['b'])\n",
        "assert s.available_tasks == {'b'}\n",
        "r = s.mark_completed('b')\n",
        "print(r)\n",
        "assert r == {'a'}"
      ],
      "execution_count": 8,
      "outputs": [
        {
          "output_type": "stream",
          "name": "stdout",
          "text": [
            "{'a'}\n"
          ]
        }
      ]
    },
    {
      "cell_type": "code",
      "metadata": {
        "id": "ME2yTp7kJeVX"
      },
      "source": [
        "### Hidden tests.  3 points. \n",
        "\n",
        "\n"
      ],
      "execution_count": 9,
      "outputs": []
    },
    {
      "cell_type": "code",
      "metadata": {
        "id": "SkSeIlZ_JeVX"
      },
      "source": [
        "### Slightly more complicated. 4 points. \n",
        "\n",
        "def assert_equal(a, b):\n",
        "    assert a == b\n",
        "\n",
        "s = DependencyScheduler()\n",
        "s.add_task('a', ['b', 'c'])\n",
        "assert_equal(s.available_tasks, {'b', 'c'})\n",
        "r = s.mark_completed('b')\n",
        "assert_equal(r, set())\n",
        "assert_equal(s.available_tasks, {'c'})\n",
        "r = s.mark_completed('c')\n",
        "assert_equal(r, {'a'})\n",
        "\n",
        "s = DependencyScheduler()\n",
        "s.add_task('a', ['b', 'c'])\n",
        "s.add_task('b', ['c', 'e'])\n",
        "s.add_task('c', [])\n",
        "assert_equal(s.available_tasks, {'c', 'e'})\n",
        "r = s.mark_completed('e')\n",
        "assert_equal(r, set())\n",
        "r = s.mark_completed('c')\n",
        "assert_equal(r, {'b'})\n",
        "r = s.mark_completed('b')\n",
        "assert_equal(r, {'a'})\n",
        "r = s.mark_completed('a')\n",
        "assert_equal(r, set())\n",
        "assert_equal(s.available_tasks, set())\n",
        "\n"
      ],
      "execution_count": 10,
      "outputs": []
    },
    {
      "cell_type": "code",
      "metadata": {
        "id": "TaD99AtoJeVX"
      },
      "source": [
        "### Hidden tests. 6 points. \n"
      ],
      "execution_count": 11,
      "outputs": []
    },
    {
      "cell_type": "markdown",
      "metadata": {
        "id": "031N6UzSJeVX"
      },
      "source": [
        "## Executing the tasks\n",
        "\n",
        "Here is an execution engine for our tasks with dependencies."
      ]
    },
    {
      "cell_type": "code",
      "metadata": {
        "id": "UxETygyFJeVY"
      },
      "source": [
        "import random\n",
        "\n",
        "def execute_schedule(s, show=False):\n",
        "    s.reset()\n",
        "    in_process = s.available_tasks\n",
        "    print(\"Starting by doing:\", in_process)\n",
        "    while len(in_process) > 0:\n",
        "        # Picks one random task to be the first to be completed.\n",
        "        t = random.choice(list(in_process))\n",
        "        print(\"Completed:\", t)\n",
        "        in_process = in_process - {t} | s.mark_completed(t)\n",
        "        print(\"Now doing:\", in_process)\n",
        "        if show:\n",
        "            s.show()\n",
        "    # Have we done all?\n",
        "    if not s.done:\n",
        "        print(\"Error, there are tasks that could not be completed:\", s.uncompleted)\n"
      ],
      "execution_count": 12,
      "outputs": []
    },
    {
      "cell_type": "markdown",
      "metadata": {
        "id": "UQXUVmSgJeVY"
      },
      "source": [
        "Let's try it on our old schedule:"
      ]
    },
    {
      "cell_type": "code",
      "metadata": {
        "id": "08brIsdJJeVY",
        "colab": {
          "base_uri": "https://localhost:8080/",
          "height": 374
        },
        "outputId": "faceffca-4b91-45aa-aab9-8b18fe2bcd73"
      },
      "source": [
        "s = DependencyScheduler()\n",
        "s.add_task('a', ['b', 'c'])\n",
        "s.add_task('b', ['c', 'e'])\n",
        "s._check()\n",
        "s.show()\n"
      ],
      "execution_count": 13,
      "outputs": [
        {
          "output_type": "stream",
          "name": "stderr",
          "text": [
            "/usr/local/lib/python3.7/dist-packages/networkx/drawing/nx_pylab.py:474: MatplotlibDeprecationWarning: Using a string of single character colors as a color sequence is deprecated. Use an explicit list instead.\n",
            "  label=label,\n"
          ]
        },
        {
          "output_type": "display_data",
          "data": {
            "image/png": "[encoded data removed]",
            "text/plain": [
              "<Figure size 432x288 with 1 Axes>"
            ]
          },
          "metadata": {}
        }
      ]
    },
    {
      "cell_type": "code",
      "metadata": {
        "id": "1TJiYKWqJeVY",
        "colab": {
          "base_uri": "https://localhost:8080/",
          "height": 1000
        },
        "outputId": "aafe3f4a-f2da-4470-a7d5-6ae2e452c661"
      },
      "source": [
        "execute_schedule(s, show=True)\n"
      ],
      "execution_count": 14,
      "outputs": [
        {
          "output_type": "stream",
          "name": "stdout",
          "text": [
            "Starting by doing: {'e', 'c'}\n",
            "Completed: e\n",
            "Now doing: {'c'}\n"
          ]
        },
        {
          "output_type": "stream",
          "name": "stderr",
          "text": [
            "/usr/local/lib/python3.7/dist-packages/networkx/drawing/nx_pylab.py:474: MatplotlibDeprecationWarning: Using a string of single character colors as a color sequence is deprecated. Use an explicit list instead.\n",
            "  label=label,\n"
          ]
        },
        {
          "output_type": "display_data",
          "data": {
            "image/png": "[encoded data removed]",
            "text/plain": [
              "<Figure size 432x288 with 1 Axes>"
            ]
          },
          "metadata": {}
        },
        {
          "output_type": "stream",
          "name": "stdout",
          "text": [
            "Completed: c\n",
            "Now doing: {'b'}\n"
          ]
        },
        {
          "output_type": "display_data",
          "data": {
            "image/png": "[encoded data removed]",
            "text/plain": [
              "<Figure size 432x288 with 1 Axes>"
            ]
          },
          "metadata": {}
        },
        {
          "output_type": "stream",
          "name": "stdout",
          "text": [
            "Completed: b\n",
            "Now doing: {'a'}\n"
          ]
        },
        {
          "output_type": "display_data",
          "data": {
            "image/png": "[encoded data removed]",
            "text/plain": [
              "<Figure size 432x288 with 1 Axes>"
            ]
          },
          "metadata": {}
        },
        {
          "output_type": "stream",
          "name": "stdout",
          "text": [
            "Completed: a\n",
            "Now doing: set()\n"
          ]
        },
        {
          "output_type": "display_data",
          "data": {
            "image/png": "[encoded data removed]",
            "text/plain": [
              "<Figure size 432x288 with 1 Axes>"
            ]
          },
          "metadata": {}
        }
      ]
    },
    {
      "cell_type": "markdown",
      "metadata": {
        "id": "UNtsm5hUJeVY"
      },
      "source": [
        "What happens if there is a loop? "
      ]
    },
    {
      "cell_type": "code",
      "metadata": {
        "id": "LyKSluZrJeVY",
        "colab": {
          "base_uri": "https://localhost:8080/"
        },
        "outputId": "796e4432-3c79-4961-870f-e97f2320689c"
      },
      "source": [
        "s = DependencyScheduler()\n",
        "s.add_task('a', ['b'])\n",
        "s.add_task('b', ['a'])\n",
        "s.add_task('c', ['a'])\n",
        "execute_schedule(s)\n"
      ],
      "execution_count": 15,
      "outputs": [
        {
          "output_type": "stream",
          "name": "stdout",
          "text": [
            "Starting by doing: set()\n",
            "Error, there are tasks that could not be completed: {'c', 'b', 'a'}\n"
          ]
        }
      ]
    },
    {
      "cell_type": "markdown",
      "metadata": {
        "id": "nMyIGkHhJeVY"
      },
      "source": [
        "Ok, this is reasonable!  Let us now encode our Carbonara pasta recipe. "
      ]
    },
    {
      "cell_type": "code",
      "metadata": {
        "id": "J9G5HjIpJeVZ",
        "colab": {
          "base_uri": "https://localhost:8080/",
          "height": 374
        },
        "outputId": "6e766b55-3088-4bf7-9162-8537ebf8dd9e"
      },
      "source": [
        "carbonara = DependencyScheduler()\n",
        "\n",
        "# First, the part about cooking the pancetta.\n",
        "carbonara.add_task('dice onions', [])\n",
        "carbonara.add_task('dice pancetta', [])\n",
        "carbonara.add_task('put oil and butter in pan', [])\n",
        "carbonara.add_task('put pancetta in pan', ['dice pancetta'])\n",
        "carbonara.add_task('put onions in pan', ['dice onions'])\n",
        "carbonara.add_task('cook pancetta', ['put oil and butter in pan',\n",
        "                                     'put pancetta in pan',\n",
        "                                     'put onions in pan'])\n",
        "\n",
        "# Second, the part about beating the eggs.\n",
        "carbonara.add_task('put eggs in bowl', [])\n",
        "carbonara.add_task('beat eggs', ['put eggs in bowl'])\n",
        "\n",
        "# Third, cooking the pasta.\n",
        "carbonara.add_task('fill pot with water', [])\n",
        "carbonara.add_task('bring pot of water to a boil', ['fill pot with water'])\n",
        "carbonara.add_task('add salt to water', ['bring pot of water to a boil'])\n",
        "carbonara.add_task('put pasta in water', ['bring pot of water to a boil',\n",
        "                                         'add salt to water'])\n",
        "carbonara.add_task('colander pasta', ['put pasta in water'])\n",
        "\n",
        "# And finally, we can put everything together.\n",
        "carbonara.add_task('serve', ['beat eggs', 'cook pancetta', 'colander pasta'])\n",
        "\n",
        "# Let's look at our schedule!\n",
        "carbonara.show()\n"
      ],
      "execution_count": 16,
      "outputs": [
        {
          "output_type": "stream",
          "name": "stderr",
          "text": [
            "/usr/local/lib/python3.7/dist-packages/networkx/drawing/nx_pylab.py:474: MatplotlibDeprecationWarning: Using a string of single character colors as a color sequence is deprecated. Use an explicit list instead.\n",
            "  label=label,\n"
          ]
        },
        {
          "output_type": "display_data",
          "data": {
            "image/png": "[encoded data removed]",
            "text/plain": [
              "<Figure size 432x288 with 1 Axes>"
            ]
          },
          "metadata": {}
        }
      ]
    },
    {
      "cell_type": "code",
      "metadata": {
        "id": "mp6eY0uoJeVZ",
        "colab": {
          "base_uri": "https://localhost:8080/"
        },
        "outputId": "81438e91-dba4-41ab-c055-377f8e5767b4"
      },
      "source": [
        "# And let's finally prepare carbonara!\n",
        "execute_schedule(carbonara)\n"
      ],
      "execution_count": 17,
      "outputs": [
        {
          "output_type": "stream",
          "name": "stdout",
          "text": [
            "Starting by doing: {'put eggs in bowl', 'dice onions', 'put oil and butter in pan', 'dice pancetta', 'fill pot with water'}\n",
            "Completed: dice onions\n",
            "Now doing: {'put eggs in bowl', 'put oil and butter in pan', 'dice pancetta', 'fill pot with water', 'put onions in pan'}\n",
            "Completed: put eggs in bowl\n",
            "Now doing: {'put oil and butter in pan', 'dice pancetta', 'fill pot with water', 'beat eggs', 'put onions in pan'}\n",
            "Completed: put onions in pan\n",
            "Now doing: {'put oil and butter in pan', 'beat eggs', 'dice pancetta', 'fill pot with water'}\n",
            "Completed: beat eggs\n",
            "Now doing: {'put oil and butter in pan', 'dice pancetta', 'fill pot with water'}\n",
            "Completed: put oil and butter in pan\n",
            "Now doing: {'dice pancetta', 'fill pot with water'}\n",
            "Completed: dice pancetta\n",
            "Now doing: {'put pancetta in pan', 'fill pot with water'}\n",
            "Completed: put pancetta in pan\n",
            "Now doing: {'cook pancetta', 'fill pot with water'}\n",
            "Completed: fill pot with water\n",
            "Now doing: {'bring pot of water to a boil', 'cook pancetta'}\n",
            "Completed: bring pot of water to a boil\n",
            "Now doing: {'cook pancetta', 'add salt to water'}\n",
            "Completed: cook pancetta\n",
            "Now doing: {'add salt to water'}\n",
            "Completed: add salt to water\n",
            "Now doing: {'put pasta in water'}\n",
            "Completed: put pasta in water\n",
            "Now doing: {'colander pasta'}\n",
            "Completed: colander pasta\n",
            "Now doing: {'serve'}\n",
            "Completed: serve\n",
            "Now doing: set()\n"
          ]
        }
      ]
    },
    {
      "cell_type": "markdown",
      "metadata": {
        "id": "rD47VfrPJeVZ"
      },
      "source": [
        "This is not necessarily the best order of actions to prepare pasta carbonara, but it definitely works as a schedule."
      ]
    },
    {
      "cell_type": "markdown",
      "metadata": {
        "id": "7Zz-SlNyJeVZ"
      },
      "source": [
        "## Building a Better Execution Engine"
      ]
    },
    {
      "cell_type": "markdown",
      "metadata": {
        "id": "VA__o_EQJeVZ"
      },
      "source": [
        "Let us build a better execution engine for our schedules.  Right now, we have a function:"
      ]
    },
    {
      "cell_type": "code",
      "metadata": {
        "id": "ku8cSAHCJeVZ"
      },
      "source": [
        "def execute_schedule(s, show=False):\n",
        "    s.reset()\n",
        "    in_process = s.available_tasks\n",
        "    print(\"Starting by doing:\", in_process)\n",
        "    while len(in_process) > 0:\n",
        "        # Picks one random task to be the first to be completed.\n",
        "        t = random.choice(list(in_process))\n",
        "        print(\"Completed:\", t)\n",
        "        in_process = in_process - {t} | s.mark_completed(t)\n",
        "        print(\"Now doing:\", in_process)\n",
        "        if show:\n",
        "            s.show()\n",
        "    # Have we done all?\n",
        "    if not s.done:\n",
        "        print(\"Error, there are tasks that could not be completed:\", s.uncompleted)\n"
      ],
      "execution_count": 18,
      "outputs": []
    },
    {
      "cell_type": "markdown",
      "metadata": {
        "id": "_0iZxfUSJeVa"
      },
      "source": [
        "We want to wrap these methods into a class, RunSchedule.  This will allow us more flexibility in executing a schedule, as we will be able to specify parameters that guide the execution policy, interrupt and resume the execution, and so on.  \n",
        "An object of class RunSchedule is initialized with a DependencyScheduler.  It then has the following methods: \n",
        "\n",
        "* **reset:** mark all tasks as not completed. \n",
        "* **step:** perform one step in the schedule, completing a single task.\n",
        "* **run:** performs all steps in the schedule, until completion. \n",
        "* **done:** indicates that all tasks have been done.\n",
        "\n",
        "What should these methods return?  _step_ will return the task executed, while _run_ will return the whole list of tasks, in the order in which they were done. "
      ]
    },
    {
      "cell_type": "code",
      "metadata": {
        "id": "AWNcHnsIJeVa"
      },
      "source": [
        "class RunSchedule(object):\n",
        "\n",
        "    def __init__(self, scheduler):\n",
        "        self.scheduler = scheduler\n",
        "        self.in_process = None # Indicating, we don't know yet.\n",
        "\n",
        "    def reset(self):\n",
        "        self.scheduler.reset()\n",
        "        self.in_process = None\n",
        "\n",
        "    def step(self):\n",
        "        \"\"\"Performs a step, returning the task, if any, or None,\n",
        "        if there is no step that can be done.\"\"\"\n",
        "        # If we don't know what steps are in process, we get them.\n",
        "        if self.in_process is None:\n",
        "            self.in_process = self.scheduler.available_tasks\n",
        "        if len(self.in_process) == 0:\n",
        "            return None\n",
        "        t = random.choice(list(self.in_process))\n",
        "        self.in_process = self.in_process - {t} | self.scheduler.mark_completed(t)\n",
        "        return t\n",
        "\n",
        "    @property\n",
        "    def done(self):\n",
        "        return self.scheduler.done\n",
        "\n",
        "    def run(self):\n",
        "        \"\"\"Runs the scheduler from the current configuration to completion.\n",
        "        You must call reset() first, if you want to run the whole schedule.\"\"\"\n",
        "        tasks = []\n",
        "        while not self.done:\n",
        "            t = self.step()\n",
        "            if t is not None:\n",
        "                tasks.append(t)\n",
        "        return tasks\n"
      ],
      "execution_count": 19,
      "outputs": []
    },
    {
      "cell_type": "markdown",
      "metadata": {
        "id": "2T0y19l2JeVa"
      },
      "source": [
        "We can run our pasta carbonara with this RunSchedule class:"
      ]
    },
    {
      "cell_type": "code",
      "metadata": {
        "id": "0LRHHHGqJeVa",
        "colab": {
          "base_uri": "https://localhost:8080/"
        },
        "outputId": "f432da42-b326-458f-81e8-321afaeb769c"
      },
      "source": [
        "runner = RunSchedule(carbonara)\n",
        "runner.reset()\n",
        "runner.run()\n"
      ],
      "execution_count": 20,
      "outputs": [
        {
          "output_type": "execute_result",
          "data": {
            "text/plain": [
              "['fill pot with water',\n",
              " 'dice pancetta',\n",
              " 'bring pot of water to a boil',\n",
              " 'dice onions',\n",
              " 'put pancetta in pan',\n",
              " 'put oil and butter in pan',\n",
              " 'put onions in pan',\n",
              " 'add salt to water',\n",
              " 'cook pancetta',\n",
              " 'put pasta in water',\n",
              " 'colander pasta',\n",
              " 'put eggs in bowl',\n",
              " 'beat eggs',\n",
              " 'serve']"
            ]
          },
          "metadata": {},
          "execution_count": 20
        }
      ]
    },
    {
      "cell_type": "markdown",
      "metadata": {
        "id": "hiEGdLt7JeVa"
      },
      "source": [
        "Let us pause for a moment and ask: did we really need to create a new class? Could we not have done the above in the scheduler class? \n",
        "\n",
        "This is debatable.  The idea in keeping the two classes separate is clarity of goals: \n",
        "\n",
        "* The scheduler is concerned with what _can_ be done next. \n",
        "* The runner is concerned with any practical constraint to the execution, and with the choice of _what_, among the possible, is actually done. \n",
        "\n",
        "We will have occasion below to rely on this division of concerns."
      ]
    },
    {
      "cell_type": "markdown",
      "metadata": {
        "id": "kdWTQgfoJeVa"
      },
      "source": [
        "### Code changes and rotten eggs"
      ]
    },
    {
      "cell_type": "markdown",
      "metadata": {
        "id": "dSGodHJwJeVa"
      },
      "source": [
        "#### Code changes\n",
        "\n",
        "Imagine that you need to compile three programs, `a`, `b`, `c`, and then link together the results into `f.out`.   Once this is done, you compile `d` and `e`, and link into `g.out`.  As the last step, you link the two libraries `g.out` and `f.out` together, and produce `h`. You do it once.  Great.  But now you realize that you need to change `b`.  Do you have to start from scratch? \n",
        "\n",
        "You may think, who cares, it's the CPU doing the work, not me.  Fair enough, but there are some large systems that take minutes, dozen of minutes, to compile.  If you are compiling the linux kernel on a low power CPU, it might take hours.  Surely you don't want to redo everything from scratch!  \n",
        "\n",
        "So imagine you have the tasks in an intermediate state, with some being completed (possibly all of them), and some not.  You can now mark one of the tasks as incomplete, to signal you need to do it again.  What is the set of tasks that as a consequence should also be marked incomplete? \n",
        "If you have two tasks $x$ and $y$, with $y$ being a successor to $x$, if $x$ is marked as \"undone\" as it needs to be redone, then also $y$ will need to be redone, as it might use the results of $x$.\n",
        "\n",
        "To implement this, we will perform two modifications.  First, we will endow our scheduler with a _redo_ method, which marks a task and all its successors (and the successors of the successors, and so forth) to be redone -- that is, it _unmarks_ them as done.  We let you implement this; you have already seen how to compute reachability in the graph chapter. \n"
      ]
    },
    {
      "cell_type": "markdown",
      "metadata": {
        "id": "tkpAxj20JeVb"
      },
      "source": [
        "## Question 2: redo for code"
      ]
    },
    {
      "cell_type": "code",
      "metadata": {
        "id": "jnt_x_cKJeVb"
      },
      "source": [
        "### Implementation of `redo`\n",
        "\n",
        "def dependency_scheduler_redo(self, t):\n",
        "    \"\"\"Mark the task t, and all its successors, as undone.\n",
        "    Returns the set of successor tasks of t, with t included.\"\"\"\n",
        "\n",
        "    self.completed_tasks.remove(t)\n",
        "    for i in self.successors[t]:\n",
        "        if i in self.completed_tasks:\n",
        "            self.completed_tasks.remove(i)\n",
        "\n",
        "    a = set(t)\n",
        "    a = a.update(self.successors[t])\n",
        "\n",
        "    return a\n",
        "\n",
        "DependencyScheduler.redo = dependency_scheduler_redo\n"
      ],
      "execution_count": 21,
      "outputs": []
    },
    {
      "cell_type": "code",
      "metadata": {
        "id": "YidO6kCPJeVb"
      },
      "source": [
        "# Here is a place where you can test your code. \n",
        "\n",
        "# YOUR CODE HERE"
      ],
      "execution_count": 22,
      "outputs": []
    },
    {
      "cell_type": "markdown",
      "metadata": {
        "id": "vkjUSlBjJeVb"
      },
      "source": [
        "Let us test the implementation."
      ]
    },
    {
      "cell_type": "code",
      "metadata": {
        "id": "6WE_csL7JeVb"
      },
      "source": [
        "### Tests for `redo` for code. 5 points. \n",
        "\n",
        "def assert_equal(a, b):\n",
        "    assert a == b\n",
        "\n",
        "s = DependencyScheduler()\n",
        "s.add_task('a', [])\n",
        "s.add_task('b', ['a'])\n",
        "s.add_task('c', ['a'])\n",
        "s.add_task('d', ['b', 'c'])\n",
        "s.add_task('e', ['a', 'd'])\n",
        "\n",
        "s.mark_completed('a')\n",
        "s.mark_completed('b')\n",
        "s.mark_completed('c')\n",
        "assert_equal(s.available_tasks, {'d'})\n",
        "s.redo('b')\n",
        "assert_equal(s.available_tasks, {'b'})\n",
        "\n",
        "# Additional test\n",
        "s = DependencyScheduler()\n",
        "s.add_task('a', [])\n",
        "s.add_task('b', ['a'])\n",
        "s.add_task('c', ['a'])\n",
        "s.add_task('d', ['b', 'c'])\n",
        "s.add_task('e', ['a', 'd'])\n",
        "\n",
        "s.mark_completed('a')\n",
        "s.mark_completed('b')\n",
        "s.mark_completed('c')\n",
        "s.mark_completed('d')\n",
        "s.redo('a')\n",
        "assert_equal(s.available_tasks, {'a'})\n",
        "\n",
        "s = DependencyScheduler()\n",
        "s.add_task('a', [])\n",
        "s.add_task('b', ['a'])\n",
        "s.add_task('c', ['a'])\n",
        "s.add_task('d', ['b', 'c'])\n",
        "s.add_task('e', ['a', 'd'])\n",
        "s.mark_completed('a')\n",
        "s.mark_completed('b')\n",
        "s.mark_completed('c')\n",
        "assert_equal(s.available_tasks, {'d'})\n",
        "s.mark_completed('d')\n",
        "s.mark_completed('e')\n",
        "s.redo('e')\n",
        "assert_equal(s.available_tasks, {'e'})\n"
      ],
      "execution_count": 23,
      "outputs": []
    },
    {
      "cell_type": "code",
      "metadata": {
        "id": "HuvNQH1eJeVb"
      },
      "source": [
        "### Hidden tests.  5 points. \n"
      ],
      "execution_count": 24,
      "outputs": []
    },
    {
      "cell_type": "markdown",
      "metadata": {
        "id": "G2r-sjcGJeVc"
      },
      "source": [
        "Next, we implement a runner that has an additional operation _redo(t)_ for a task t. "
      ]
    },
    {
      "cell_type": "code",
      "metadata": {
        "id": "PMrlblASJeVc"
      },
      "source": [
        "def run_schedule_redo(self, t):\n",
        "    \"\"\"Marks t as to be redone.\"\"\"\n",
        "    # We drop everything that was in progress.\n",
        "    # This also forces us to ask the scheduler for what to redo.\n",
        "    self.in_process = None\n",
        "    return self.scheduler.redo(t)\n",
        "\n",
        "RunSchedule.redo = run_schedule_redo\n"
      ],
      "execution_count": 25,
      "outputs": []
    },
    {
      "cell_type": "markdown",
      "metadata": {
        "id": "in6VnACwJeVc"
      },
      "source": [
        "We can now play with it. "
      ]
    },
    {
      "cell_type": "code",
      "metadata": {
        "id": "H4w7q40iJeVc",
        "colab": {
          "base_uri": "https://localhost:8080/"
        },
        "outputId": "84d3fda8-5a88-4875-e7ee-e146d9e727ea"
      },
      "source": [
        "runner = RunSchedule(carbonara)\n",
        "runner.reset()\n",
        "for _ in range(10):\n",
        "    print(runner.step())\n",
        "print(\"---> readd salt\")\n",
        "print(\"marking undone:\", runner.redo(\"add salt to water\"))\n",
        "print(\"completed:\", runner.scheduler.completed_tasks)\n",
        "for _ in range(10):\n",
        "    print(runner.step())\n",
        "print(\"--->redo dice pancetta\")\n",
        "print(\"marking undone:\", runner.redo(\"dice pancetta\"))\n",
        "print(\"completed:\", runner.scheduler.completed_tasks)\n",
        "for t in runner.run():\n",
        "    print(t)\n"
      ],
      "execution_count": 26,
      "outputs": [
        {
          "output_type": "stream",
          "name": "stdout",
          "text": [
            "dice pancetta\n",
            "fill pot with water\n",
            "put pancetta in pan\n",
            "put oil and butter in pan\n",
            "put eggs in bowl\n",
            "dice onions\n",
            "beat eggs\n",
            "bring pot of water to a boil\n",
            "add salt to water\n",
            "put onions in pan\n",
            "---> readd salt\n",
            "marking undone: None\n",
            "completed: {'put eggs in bowl', 'dice onions', 'beat eggs', 'put onions in pan', 'put oil and butter in pan', 'dice pancetta', 'fill pot with water', 'bring pot of water to a boil', 'put pancetta in pan'}\n",
            "add salt to water\n",
            "cook pancetta\n",
            "put pasta in water\n",
            "colander pasta\n",
            "serve\n",
            "None\n",
            "None\n",
            "None\n",
            "None\n",
            "None\n",
            "--->redo dice pancetta\n",
            "marking undone: None\n",
            "completed: {'put eggs in bowl', 'put pasta in water', 'dice onions', 'beat eggs', 'cook pancetta', 'colander pasta', 'serve', 'put onions in pan', 'put oil and butter in pan', 'add salt to water', 'fill pot with water', 'bring pot of water to a boil'}\n",
            "dice pancetta\n",
            "put pancetta in pan\n"
          ]
        }
      ]
    },
    {
      "cell_type": "markdown",
      "metadata": {
        "id": "f72BzXYYJeVc"
      },
      "source": [
        "You have learned to sequence the order in which to do tasks so as to respect their dependencies.  In the next chapter, we will learn how to also take into account the time it takes for us to do the tasks.  In the meantime, bon appetit, or rather, guten appetit, or rather, buon appetito!"
      ]
    },
    {
      "cell_type": "markdown",
      "metadata": {
        "id": "D-brw_YNJeVc"
      },
      "source": [
        "#### Redoing in cooking\n",
        "\n",
        "The act of redoing a cooking step is somewhat different than the act of redoing something in code.  Suppose you cook pasta, unite with it the fried bacon and onions, and then -- terrible mishap -- you unite with it the beaten egg yolks in which one of the eggs is rotten. \n",
        "\n",
        "In code, when one file changes, you only need to redo the things that _depend_ on that file.  In cooking, it is different: even if nothing changed in the bacon, onions, and cooked pasta, once you add to it rotten eggs you have to redo the pasta, bacon, onions, etc, as well, as they have now been contaminated.  The root of the problem is that in a makefile, when you combine two files to compute a result, you do not destroy the original files, whereas in cooking, once you combine foods, you don't have the original foods any longer.  Cooking is like a makefile in which, once you combine files, you immediately delete them. \n",
        "\n",
        "So let us come up with a precise definition of what needs to be redone in cooking, when one of the steps goes bad (the eggs are rotten, you burn the food on the stove, and so on). \n",
        "\n",
        "Initially, we label _redo_ the task that needs redoing.  We then propagate the label according to these two phases:\n",
        "\n",
        "**Phase 1: Forward** \n",
        "Apply the following rule as long as it can be applied: \n",
        "\n",
        "* Consider a task $v$ labeled _redo_. If $u$ is a successor of $v$ and $u$ is completed, then $u$ is also labeled _redo_. \n",
        "\n",
        "**Phase 2: Backward**\n",
        "Apply the following rule as long as it can be applied: \n",
        "\n",
        "* Consider a task $v$ labeled _redo_. If $u$ is a predecessor of $v$, then $u$ is also labeled _redo_ (note that in this case, we are guaranteed that $u$ is completed). \n",
        "\n",
        "The first rule corresponds to a _forward_ pass in the dependency garph; the second rule corresponds to a _backward_ pass in the dependency relation. \n",
        "Once the _redo_ label is propagated, all tasks that are marked _redo_ are changed from completed, to uncompleted. \n",
        "\n",
        "Note that you have to implement _once_ the forward phase, followed by _once_ the backward phase.  Example: you press some lemons, and you use a bit of the juice to make a mayonnaise, and another part to marinate shrimp.  If it turns out that the egg yolk used for the mayonnaise was rotten, you need to press a bit of lemon again, but you do not need to marinate the shrimp once more.\n",
        "\n",
        "We ask you to implement this in code."
      ]
    },
    {
      "cell_type": "markdown",
      "metadata": {
        "id": "0J7j6iu6JeVd"
      },
      "source": [
        "## Question 3: redo for recipes"
      ]
    },
    {
      "cell_type": "code",
      "metadata": {
        "id": "hj9BtdhWJeVd"
      },
      "source": [
        "### Implementation of `cooking_redo`\n",
        "\n",
        "def dependency_scheduler_cooking_redo(self, v):\n",
        "    \"\"\"Indicates that the task v needs to be redone, as something went bad.\n",
        "    This is the \"cooking\" version of the redo, in which the redo propagates\n",
        "    to both successors (as for code) and predecessors.\"\"\"\n",
        "\n",
        "    self.redo(v)\n",
        "    for x in self.predecessors[v]:\n",
        "        self.completed_tasks.remove(x)\n",
        "\n",
        "        if len(self.predecessors[x]) > 0:\n",
        "            self.cooking_redo(x)\n",
        "\n",
        "DependencyScheduler.cooking_redo = dependency_scheduler_cooking_redo\n"
      ],
      "execution_count": 27,
      "outputs": []
    },
    {
      "cell_type": "code",
      "metadata": {
        "id": "KBpepqtDJeVd"
      },
      "source": [
        "# Here is a place where you can test your code. \n",
        "\n",
        "# YOUR CODE HERE"
      ],
      "execution_count": 28,
      "outputs": []
    },
    {
      "cell_type": "markdown",
      "metadata": {
        "id": "r3NRGctHJeVd"
      },
      "source": [
        "Let us check that the code works.  First, a simple example. "
      ]
    },
    {
      "cell_type": "code",
      "metadata": {
        "id": "Ll2Ay8wKJeVd",
        "colab": {
          "base_uri": "https://localhost:8080/"
        },
        "outputId": "06fbe5d4-f8b0-4d48-bee7-65c8cbf33bfc"
      },
      "source": [
        "### Basic tests for `cooking_redo`. 5 points. \n",
        "\n",
        "def assert_equal(a, b):\n",
        "    assert a == b\n",
        "\n",
        "s = DependencyScheduler()\n",
        "s.add_task('a', [])\n",
        "s.add_task('b', [])\n",
        "s.add_task('c', ['a', 'b'])\n",
        "s.add_task('e', [])\n",
        "s.add_task('f', ['e'])\n",
        "s.add_task('g', ['f', 'd'])\n",
        "s.add_task('d', ['c'])\n",
        "\n",
        "s.mark_completed('a')\n",
        "s.mark_completed('b')\n",
        "s.mark_completed('c')\n",
        "s.mark_completed('d')\n",
        "assert_equal(s.available_tasks, {'e'})\n",
        "s.cooking_redo('c')\n",
        "# When we redo c, both its successor d, and predecessors a, b have to be redone.\n",
        "assert_equal(s.available_tasks, {'a', 'b', 'e'})\n",
        "print(s.completed_tasks)\n",
        "assert_equal(s.completed_tasks, set())\n"
      ],
      "execution_count": 29,
      "outputs": [
        {
          "output_type": "stream",
          "name": "stdout",
          "text": [
            "set()\n"
          ]
        }
      ]
    },
    {
      "cell_type": "code",
      "metadata": {
        "id": "wgMPh_dTJeVd"
      },
      "source": [
        "### Hidden tests.  5 points. \n"
      ],
      "execution_count": 30,
      "outputs": []
    },
    {
      "cell_type": "markdown",
      "metadata": {
        "id": "Own_lwnRJeVd"
      },
      "source": [
        "And now, some slightly more sophisticated tests."
      ]
    },
    {
      "cell_type": "code",
      "metadata": {
        "id": "JqYFkL30JeVd"
      },
      "source": [
        "### Advanced tests for `cooking_redo`. 5 points. \n",
        "\n",
        "def assert_equal(a, b):\n",
        "    assert a == b\n",
        "\n",
        "s = DependencyScheduler()\n",
        "s.add_task('a', [])\n",
        "s.add_task('b', [])\n",
        "s.add_task('c', ['a', 'b'])\n",
        "s.add_task('d', ['c'])\n",
        "s.add_task('e', [])\n",
        "s.add_task('f', ['e'])\n",
        "s.add_task('g', ['f', 'd'])\n",
        "\n",
        "s.mark_completed('a')\n",
        "s.mark_completed('b')\n",
        "s.mark_completed('c')\n",
        "s.mark_completed('d')\n",
        "s.mark_completed('e')\n",
        "assert_equal(s.available_tasks, {'f'})\n",
        "s.cooking_redo('c')\n",
        "# When we redo c, both its successor d, and predecessors a, b have to be redone.\n",
        "assert_equal(s.available_tasks, {'a', 'b', 'f'})\n",
        "assert_equal(s.completed_tasks, {'e'})\n",
        "\n",
        "s = DependencyScheduler()\n",
        "s.add_task('mayo', ['lemon juice', 'egg yolks', 'oil'])\n",
        "s.add_task('marinated shrimp', ['shrimp', 'lemon juice'])\n",
        "s.add_task('crevettes', ['marinated shrimp', 'mayo'])\n",
        "s.mark_completed('lemon juice')\n",
        "s.mark_completed('egg yolks')\n",
        "s.mark_completed('oil')\n",
        "s.mark_completed('shrimp')\n",
        "s.mark_completed('marinated shrimp')\n",
        "s.mark_completed('mayo')\n",
        "assert s.available_tasks == {'crevettes'}\n",
        "s.cooking_redo('egg yolks')\n",
        "assert 'mayo' not in s.completed_tasks\n",
        "assert 'marinated shrimp' in s.completed_tasks\n",
        "assert 'egg yolks' not in s.completed_tasks"
      ],
      "execution_count": 31,
      "outputs": []
    },
    {
      "cell_type": "code",
      "metadata": {
        "id": "znWS8hrFJeVe"
      },
      "source": [
        "### Hidden tests. 5 points. \n"
      ],
      "execution_count": 32,
      "outputs": []
    },
    {
      "cell_type": "markdown",
      "metadata": {
        "id": "_BlQEf-eJeVe"
      },
      "source": [
        "## Question 4: Implement And-Or Schedules\n",
        "\n",
        "In the schedules we have seen so far, the dependencies are in _and_ one with the other: if a task $a$ depends on $b, c$, then _both_ $b$ _and $c$ need to be completed before $a$ can be started. \n",
        "It is possible to consider also cases where dependencies are in an _or_ relation: if $a$ depends on $b, c$ in an _or_ way, then it suffices to complete one of $b$ _or_ $c$ before starting $a$. \n",
        "For instance, in our Carbonara Pasta example, it is possible (even though not necessarily advisable) to use shallots in place of onions. \n",
        "In that case, instead of \n",
        "\n",
        "    carbonara.add_task('put onions in pan', ['dice onions'])\n",
        "\n",
        "we could have:\n",
        "\n",
        "    carbonara.add_or_task('put onions in pan', ['dice onions', 'dice shallots'])\n",
        "\n",
        "so that before putting the (now generally named) onions in a pan, we could choose to dice either shallots or onions. \n",
        "\n",
        "Formally, the idea is to endow the Scheduler class with _two_ methods: \n",
        "\n",
        "* `add_and_task(self, t, dependencies)` adds a task `t` with list of dependencies `dependencies`, so that `t` can be done when _all_ of the dependencies are done.  The task `t` is called an AND node in the dependency graph. \n",
        "\n",
        "* `add_or_task(self, t, dependencies)` adds a task `t` with list of dependencies `dependencies`, so that `t` can be done when _at least one_ of the dependencies is done.  The task `t` is called an OR node in the dependency graph. \n",
        "\n",
        "You need to find a way to remember which dependency graph nodes are AND or OR nodes, and you need to implement the properties `done`, `available_tasks`, `uncompleted`, and the method `mark_completed`, to make this class work. \n",
        "Implementing the `show` method is optional; do it if it helps you debug your code. "
      ]
    },
    {
      "cell_type": "code",
      "metadata": {
        "id": "4tTxatkjJeVe"
      },
      "source": [
        "### `AND_OR_Scheduler` implementation\n",
        "\n",
        "class AND_OR_Scheduler(object):\n",
        "\n",
        "    def __init__(self):\n",
        "        # It is up to you to implement the initialization.\n",
        "        self.tasks = set()\n",
        "        self.successors = defaultdict(set)\n",
        "        self.predecessors = defaultdict(set)\n",
        "        self.completed_tasks = set() # completed tasks\n",
        "        \n",
        "        self.and_list = []\n",
        "        self.or_list = []\n",
        "\n",
        "    def add_and_task(self, t, dependencies):\n",
        "        \"\"\"Adds an AND task t with given dependencies.\"\"\"\n",
        "        assert t not in self.tasks or len(self.predecessors[t]) == 0, \"The task was already present.\"\n",
        "        self.tasks.add(t)\n",
        "        self.tasks.update(dependencies)\n",
        "            \n",
        "        self.predecessors[t] = set(dependencies)\n",
        "\n",
        "        for u in dependencies:\n",
        "            self.successors[u].add(t)\n",
        "\n",
        "        self.and_list.append(t)\n",
        "\n",
        "    def add_or_task(self, t, dependencies):\n",
        "        \"\"\"Adds an OR task t with given dependencies.\"\"\"\n",
        "        assert t not in self.tasks or len(self.predecessors[t]) == 0, \"The task was already present.\"\n",
        "        self.tasks.add(t)\n",
        "\n",
        "        self.tasks.update(dependencies)\n",
        "\n",
        "        self.predecessors[t] = set(dependencies)\n",
        "\n",
        "        for u in dependencies:\n",
        "            self.successors[u].add(t)\n",
        "        \n",
        "        self.or_list.append(t)\n",
        "\n",
        "    @property\n",
        "    def done(self):\n",
        "        return self.completed_tasks == self.tasks\n",
        "\n",
        "    @property\n",
        "    def available_tasks(self):\n",
        "        \"\"\"Returns the set of tasks that can be done in parallel.\n",
        "        A task can be done if:\n",
        "        - It is an AND task, and all its predecessors have been completed, or\n",
        "        - It is an OR task, and at least one of its predecessors has been completed.\n",
        "        And of course, we don't return any task that has already been\n",
        "        completed.\"\"\"\n",
        "        s = set()\n",
        "        uncompleted = self.tasks - self.completed_tasks\n",
        "\n",
        "        for i in uncompleted:\n",
        "            if i in self.and_list:\n",
        "                if len(self.predecessors[i]) == 0:\n",
        "                    s.add(i)\n",
        "                else:\n",
        "                    a = True\n",
        "                    for k in self.predecessors[i]:\n",
        "                        if k not in self.completed_tasks:\n",
        "                            a = False\n",
        "                    if a == True:\n",
        "                        s.add(i)\n",
        "            elif i in self.or_list:\n",
        "                if len(self.predecessors[i]) == 0:\n",
        "                    s.add(i)\n",
        "                else:\n",
        "                    a = False\n",
        "                    for k in self.predecessors[i]:\n",
        "                        if k in self.completed_tasks:\n",
        "                            a = True\n",
        "                    if a == True:\n",
        "                        s.add(i)\n",
        "            else:\n",
        "                if len(self.predecessors[i]) == 0:\n",
        "                    s.add(i)\n",
        "                else:\n",
        "                    a = True\n",
        "                    for k in self.predecessors[i]:\n",
        "                        if k not in self.completed_tasks:\n",
        "                            a = False\n",
        "                    if a == True:\n",
        "                        s.add(i)\n",
        "        return s\n",
        "\n",
        "    def mark_completed(self, t):\n",
        "        \"\"\"Marks the task t as completed, and returns the additional\n",
        "        set of tasks that can be done (and that could not be\n",
        "        previously done) once t is completed.\"\"\"\n",
        "        l = self.available_tasks\n",
        "        self.completed_tasks.add(t)\n",
        "        \n",
        "        return self.available_tasks - l\n",
        "\n",
        "    def show(self):\n",
        "        \"\"\"You can use the nx graph to display the graph.  You may want to ensure\n",
        "        that you display AND and OR nodes differently.\"\"\"\n",
        "        g = nx.DiGraph()\n",
        "        g.add_nodes_from(self.tasks)\n",
        "        g.add_edges_from([(u, v) for u in self.tasks for v in self.successors[u]])\n",
        "        node_colors = ''.join([('g' if v in self.completed_tasks else 'r')\n",
        "                           for v in self.tasks])\n",
        "        nx.draw(g, with_labels=True, node_color=node_colors)\n",
        "        plt.show()\n"
      ],
      "execution_count": 33,
      "outputs": []
    },
    {
      "cell_type": "code",
      "metadata": {
        "id": "0jnaGZoAJeVe"
      },
      "source": [
        "# Here is a place where you can test your code. \n",
        "\n",
        "# YOUR CODE HERE"
      ],
      "execution_count": 34,
      "outputs": []
    },
    {
      "cell_type": "markdown",
      "metadata": {
        "id": "FdmUTqw5JeVe"
      },
      "source": [
        "Let us do some simple tests.  First, for good old AND nodes. "
      ]
    },
    {
      "cell_type": "code",
      "metadata": {
        "id": "AuvUn5aTJeVe"
      },
      "source": [
        "### Simple tests for AND nodes. 4 points. \n",
        "\n",
        "def assert_equal(a, b):\n",
        "    assert a == b\n",
        "\n",
        "s = AND_OR_Scheduler()\n",
        "s.add_and_task('a', ['b', 'c'])\n",
        "assert_equal(s.available_tasks, {'b', 'c'})\n",
        "r = s.mark_completed('b')\n",
        "assert_equal(r, set())\n",
        "assert_equal(s.available_tasks, {'c'})\n",
        "r = s.mark_completed('c')\n",
        "assert_equal(r, {'a'})\n",
        "assert_equal(s.available_tasks, {'a'})\n",
        "r = s.mark_completed('a')\n",
        "assert_equal(r, set())\n",
        "assert_equal(s.available_tasks, set())\n",
        "\n"
      ],
      "execution_count": 35,
      "outputs": []
    },
    {
      "cell_type": "code",
      "metadata": {
        "id": "dV7gRqzUJeVe"
      },
      "source": [
        "### Hidden tests.  6 points. \n"
      ],
      "execution_count": 36,
      "outputs": []
    },
    {
      "cell_type": "markdown",
      "metadata": {
        "id": "TBwE_R1BJeVf"
      },
      "source": [
        "Then, some simple tests for OR nodes. "
      ]
    },
    {
      "cell_type": "code",
      "metadata": {
        "id": "15lxSCI_JeVf"
      },
      "source": [
        "### Simple tests for OR nodes. 4 points. \n",
        "\n",
        "def assert_equal(a, b):\n",
        "    assert a == b\n",
        "\n",
        "s = AND_OR_Scheduler()\n",
        "s.add_or_task('a', ['b', 'c'])\n",
        "assert_equal(s.available_tasks, {'b', 'c'})\n",
        "r = s.mark_completed('b')\n",
        "# Now 'a' becomes available.\n",
        "assert_equal(r, {'a'})\n",
        "# But note that 'c' is also available, even if useless.\n",
        "assert_equal(s.available_tasks, {'a', 'c'})\n",
        "r = s.mark_completed('a')\n",
        "assert_equal(r, set())\n",
        "assert_equal(s.available_tasks, {'c'})\n",
        "r = s.mark_completed('c')\n",
        "assert_equal(r, set())\n",
        "assert_equal(s.available_tasks, set())\n"
      ],
      "execution_count": 37,
      "outputs": []
    },
    {
      "cell_type": "code",
      "metadata": {
        "id": "P105r-B6JeVf"
      },
      "source": [
        "### Hidden tests.  6 points. \n",
        "\n"
      ],
      "execution_count": 38,
      "outputs": []
    },
    {
      "cell_type": "markdown",
      "metadata": {
        "id": "uzh7DsGNJeVf"
      },
      "source": [
        "Note that a drawback of this simple solution, as illustrated by the above test case, is that we do not distinguish between the tasks that are useful to do the root task, and the tasks that are useless, that is, not part of a minimal solution.  We simply call them available, as they can be done, even though there is no advantage in doing them. "
      ]
    },
    {
      "cell_type": "code",
      "metadata": {
        "id": "NwlLhbo8JeVf"
      },
      "source": [
        "### Tests with both AND and OR nodes. 5 points. \n",
        "\n",
        "def assert_equal(a, b):\n",
        "    assert a == b\n",
        "    \n",
        "\n",
        "s = AND_OR_Scheduler()\n",
        "s.add_and_task('a', ['b', 'c'])\n",
        "s.add_or_task('b', ['b1', 'b2'])\n",
        "s.add_or_task('c', ['c1', 'c2'])\n",
        "r = s.mark_completed('b1')\n",
        "assert_equal(s.available_tasks, {'b', 'b2', 'c1', 'c2'})\n",
        "r = s.mark_completed('b')\n",
        "assert 'a' not in s.available_tasks\n",
        "r = s.mark_completed('c1')\n",
        "assert 'a' not in s.available_tasks\n",
        "r = s.mark_completed('c')\n",
        "assert 'a' in s.available_tasks\n",
        "\n",
        "s = AND_OR_Scheduler()\n",
        "s.add_or_task('a', ['b', 'c'])\n",
        "s.add_and_task('b', ['b1', 'b2'])\n",
        "s.add_and_task('c', ['c1', 'c2'])\n",
        "r = s.mark_completed('b1')\n",
        "assert_equal(s.available_tasks, {'b2', 'c1', 'c2'})\n",
        "r = s.mark_completed('c1')\n",
        "assert_equal(s.available_tasks, {'b2', 'c2'})\n",
        "r = s.mark_completed('c2')\n",
        "assert_equal(s.available_tasks, {'b2', 'c'})\n",
        "r = s.mark_completed('c')\n",
        "assert 'a' in s.available_tasks\n"
      ],
      "execution_count": 39,
      "outputs": []
    },
    {
      "cell_type": "code",
      "metadata": {
        "id": "7xxScWrtJeVf"
      },
      "source": [
        "### Hidden tests.  5 points. \n",
        "\n"
      ],
      "execution_count": 40,
      "outputs": []
    }
  ]
}