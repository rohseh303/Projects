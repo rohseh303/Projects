{
  "nbformat": 4,
  "nbformat_minor": 0,
  "metadata": {
    "colab": {
      "name": "Homework_12.ipynb",
      "provenance": [],
      "collapsed_sections": []
    },
    "kernelspec": {
      "display_name": "Python 3",
      "language": "python",
      "name": "python3"
    },
    "language_info": {
      "codemirror_mode": {
        "name": "ipython",
        "version": 3
      },
      "file_extension": ".py",
      "mimetype": "text/x-python",
      "name": "python",
      "nbconvert_exporter": "python",
      "pygments_lexer": "ipython3",
      "version": "3.7.10"
    },
    "test_info": {
      "id": "8f8d5e96512b87f9c93aa8b9bcd70ad6f6fcc60f"
    }
  },
  "cells": [
    {
      "cell_type": "markdown",
      "metadata": {
        "id": "n_fEsGjoqDQL"
      },
      "source": [
        "Before you turn this problem in, make sure everything runs as expected. First, **restart the kernel** (in the menubar, select Kernel$\\rightarrow$Restart) and then **run all cells** (in the menubar, select Cell$\\rightarrow$Run All).\n",
        "\n",
        "Make sure you fill in any place that says `YOUR CODE HERE` or \"YOUR ANSWER HERE\", as well as your name and collaborators below:"
      ]
    },
    {
      "cell_type": "code",
      "metadata": {
        "id": "vT4oY0OkqDQO"
      },
      "source": [
        "NAME = \"\"\n",
        "COLLABORATORS = \"\""
      ],
      "execution_count": 1,
      "outputs": []
    },
    {
      "cell_type": "markdown",
      "metadata": {
        "id": "jQO8owjyqDQO"
      },
      "source": [
        "---"
      ]
    },
    {
      "cell_type": "markdown",
      "metadata": {
        "deletable": false,
        "editable": false,
        "nbgrader": {
          "cell_type": "markdown",
          "checksum": "3eb63903195eeec75af067eb1755698c",
          "grade": false,
          "grade_id": "cell-dc989f8dcd148822",
          "locked": true,
          "schema_version": 3,
          "solution": false
        },
        "id": "w0mCCOsnqDQP"
      },
      "source": [
        "# CSE 30 Fall 2021 - Homework 12\n",
        "\n",
        "## Cheapest Path\n",
        "\n",
        "\n",
        "### Instructions\n",
        "\n",
        "Please disregard the YOUR NAME and COLLABORATORS above.  They are put there atomatically by the grading tool.\n",
        "You can find instructions on how to work on a homework on Canvas.  Here is a short summary: \n",
        "\n",
        "### Submitting your work\n",
        "\n",
        "To submit your work: \n",
        "\n",
        "* First, click on \"Runtime > Restart and run all\", and check that you get no errors.  This enables you to catch any error you might have introduced, and not noticed, due to your running cells out of order. \n",
        "* Second, download the notebook in .ipynb format (File > Download .ipynb) and upload the .ipynb file to [this form](https://docs.google.com/forms/d/e/1FAIpQLSfRaOL643ZtXzI4R8TVpmfGoAcSjgLmXTEeUDqN0ZHoVNO6ow/viewform?usp=sf_link). \n",
        "\n",
        "You can submit multiple times; the last submission before the deadline is the one that counts.\n",
        "\n",
        "### Homework format\n",
        "\n",
        "For each question in this notebook, there is: \n",
        "\n",
        "* A text description of the problem. \n",
        "* One or more places where you have to insert your solution.  You need to complete every place marked: \n",
        "\n",
        "    `# YOUR CODE HERE`\n",
        "    \n",
        "    and you should not modify any other place. \n",
        "* One or more test cells.  Each cell is worth some number of points, marked at the top.  You should not modify these tests cells.  The tests pass if no error is printed out: when there is a statement that says, for instance: \n",
        "\n",
        "    `assert x == 2`\n",
        "    \n",
        "    then the test passes if `x` has value 2, and fails otherwise.  You can insert a `print(x)` (for this case!) somewhere if you want to debug your work; it is up to you.  \n",
        "    \n",
        "### Notes:\n",
        "\n",
        "* Your code will be tested both according to the tests you can see (the `assert` statements you can see), _and_ additional tests.  This prevents you from hard-coding the answer to the particular questions posed.  Your code should solve the _general_ intended case, not hard-code the particular answer for the values used in the tests. \n",
        "\n",
        "* **Please do not delete or add cells!** The test is autograded, and if you modify the test by adding or deleting cells, even if you re-add cells you delete, you may not receive credit. \n",
        "\n",
        "* **Please do not import modules that are not part of the [standard library](https://docs.python.org/3/library/index.html).** You do not need any, and they will likely not available in the grading environment, leading your code to fail. \n",
        "\n",
        "* **If you are inactive too long, your notebook might get disconnected from the back-end.** Your work is never lost, but you have to re-run all the cells before you continue. \n",
        "\n",
        "* You can write out print statements in your code, to help you test/debug it. But remember: the code is graded on the basis of what it outputs or returns, not on the basis of what it prints.\n",
        "\n",
        "* **TAs and tutors have access to this notebook,** so if you let them know you need their help, they can look at your work and give you advice. \n",
        "\n",
        "### Grading\n",
        "\n",
        "Each cell where there are tests is worth a certain number of points.  You get the points allocated to a cell only if you pass _all_ the tests in the cell. \n",
        "\n",
        "The tests in a cell include both the tests you can see, and other, similar, tests that are used for grading only.  Therefore, you cannot hard-code the solutions: you really have to solve the essence of the problem, to receive the points in a cell. \n",
        "\n",
        "### Code of Conduct\n",
        "\n",
        "* Work on the test yourself, alone. \n",
        "* You can search documentation on the web, on sites such as the Python documentation sites, Stackoverflow, and similar, and you can use the results. \n",
        "* You cannot share your work with others or solicit their help.\n"
      ]
    },
    {
      "cell_type": "markdown",
      "metadata": {
        "deletable": false,
        "editable": false,
        "nbgrader": {
          "cell_type": "markdown",
          "checksum": "cd58b7acda0784f3bf1a44c63fa1d2ae",
          "grade": false,
          "grade_id": "cell-591a2e266c0d3958",
          "locked": true,
          "schema_version": 3,
          "solution": false
        },
        "id": "3Zx3V1PjqDQQ"
      },
      "source": [
        "# Cheapest Path\n",
        "\n",
        "In this notebook, we will implement an algorithm for finding the cheapest path between a source node and a destination node in a graph.  \n",
        "\n",
        "For every node $x$, we will keep its set of successors $s(x)$, and its set of predecessors $p(x)$; these will be represented in code as dictionaries mapping nodes to sets of nodes.\n",
        "Every edge $(x, y)$ (that is, going from $x$ to $y$) has a cost $c(x, y)$, which we will also keep as a dictinary mapping pairs of nodes to their cost. \n",
        "\n",
        "You can find the cheapest path in two steps.  \n",
        "\n",
        "## Finding the minimum cost of going from every node to the destination\n",
        "\n",
        "First, you need to compute the cost of going from every node to the destination.  In code, this happens in response to the method call \n",
        "`g.compute_cost(z)`, where `g` is the graph, and `z` is the destination. \n",
        "You can compute the minimum cost $c(x)$ of reaching the destination $z$ from a node $x$ as follows. \n",
        "\n",
        "Initially, you set $c(z) = 0$, and $c(x) = +\\infty$ for all nodes $x \\neq z$.  In Python, $+\\infty$ is simply `float(\"inf\")`, and yes, it's a number. \n",
        "\n",
        "Then, for all nodes $x \\neq z$ with $s(x) \\neq \\emptyset$, you update $c(x)$ via: \n",
        "\n",
        "$$\n",
        "c(x) := min_{y \\in s(x)} [c(x, y) + c(y)] .\n",
        "$$\n",
        "\n",
        "You continue doing the above update until the costs no longer change. If you wish, you can do an optimization of the algorithm in which you only propagate change from the nodes whose cost has changed, as we did in the class notebook.  This is up to you. \n",
        "\n",
        "The initialization $c(x) = +\\infty$ for $x \\neq z$ ensures that nodes that _cannot_ get to $z$ will have infinite cost (as they should); if it were not for this, also using $c(x) = 0$ as initialization would work. \n",
        "\n",
        "You need to write a method `cost` so that `g.cost(x)` will return the cost $c(x)$ of node $x$; this will be useful in debugging (and grading) your code. \n",
        "\n",
        "## Finding the cheapest path \n",
        "\n",
        "The method `g.cheapest(w, z)` should return the list of nodes along the cheapest path from $w$ to $z$, starting from $w$, and ending with $z$, as a list. \n",
        "\n",
        "The method should first call `self.compute_cost(z)`, so that all the costs of nodes are known.  Then, the algorithm proceeds as follows.  First, as a sanity check, if $c(w) = +\\infty$, you return `None` to indicate that there is no path.\n",
        "\n",
        "Otherwise, the algorithm initializes the path $\\sigma$ to $w$, as $\\sigma = [w]$. \n",
        "Then, the algorithm picks the last state $x$ of $\\sigma$, and repeatedly: \n",
        "\n",
        "* If $x = z$, we are done; we can return $\\sigma$.\n",
        "* Otherwise, we append to $\\sigma$ the node $y \\in s(x)$ such that $c(x, y) + c(y)$ is minimal. \n",
        "\n",
        "As edge costs are strictly positive, you don't need to worry about loops. \n",
        "\n",
        "This is it.  It's not too hard really, and it is quite related to the problem of timed scheduling as you see. \n",
        "\n",
        "Here is the class for the graph, with the methods for you to complete."
      ]
    },
    {
      "cell_type": "code",
      "metadata": {
        "deletable": false,
        "nbgrader": {
          "cell_type": "code",
          "checksum": "3fcc3503c70d6d155db191c19e648209",
          "grade": false,
          "grade_id": "cell-12a69ca6d1c29780",
          "locked": false,
          "schema_version": 3,
          "solution": true
        },
        "id": "fF6sQ5ZBqDQQ"
      },
      "source": [
        "from collections import defaultdict\n",
        "\n",
        "# This is infinity.  Not kidding.\n",
        "INFINITY = float(\"inf\")\n",
        "\n",
        "class PricedGraph(object):\n",
        "\n",
        "    def __init__(self):\n",
        "        self.s = defaultdict(set) # Successors\n",
        "        self.p = defaultdict(set) # Predecessors\n",
        "        self.c = {} # Cost of edges\n",
        "        # Below you can put any other initialization you think is necessary.\n",
        "        self.nodes = set()\n",
        "\n",
        "    def add_edge(self, x, y, c):\n",
        "        \"\"\"Adds an edge from x to y with cost c.\"\"\"\n",
        "        assert c > 0, \"Costs need to be strictly positive.\"\n",
        "        self.s[x].add(y)\n",
        "        self.p[y].add(x)\n",
        "        self.c[(x, y)] = c\n",
        "        # Below, you can put any other thing you like to do.\n",
        "        self.nodes.add(x)\n",
        "        self.nodes.add(y)\n",
        "\n",
        "    def compute_cost(self, z):\n",
        "        \"\"\"Computes the minimum cost of reaching z from every node.\n",
        "        Store this somewhere.\"\"\"\n",
        "        self.c[z] = 0\n",
        "        x = True\n",
        "\n",
        "        for i in self.nodes: \n",
        "            if i!= z:\n",
        "                self.c[i] = INFINITY   \n",
        "                \n",
        "        while x:\n",
        "            prev = dict(self.c)\n",
        "            for i in self.nodes:      \n",
        "                if self.s[i] != set() and i!= z:\n",
        "                    costs = [self.c[(i,y)] + self.c[y] for y in self.s[i]]\n",
        "                    self.c[i] = min(costs)\n",
        "\n",
        "            if prev == self.c:\n",
        "                x = False\n",
        "\n",
        "    def cost(self, x):\n",
        "        \"\"\"Returns the cost of going from x to z.  You should have stored this\n",
        "        cost somewhere in the above method compute_cost, for every x.\"\"\"\n",
        "        return self.c[x]\n",
        "\n",
        "    def cheapest_path(self, w, z):\n",
        "        \"\"\"Returns the cheapest path from w to z, as a list beginning with w\n",
        "        and ending with z.  Note: you need to call self.compute(z) first thing\n",
        "        inside the implementation of this method.  If you CANNOT reach z,\n",
        "        which is indicated by w having infinite cost, return None.\"\"\"\n",
        "        self.compute_cost(z)\n",
        "\n",
        "        if self.c[w] == INFINITY:\n",
        "            return None\n",
        "        else:\n",
        "            s = [w]\n",
        "            while True:\n",
        "                if s[-1] == z:\n",
        "                    return s\n",
        "                else:\n",
        "                    x = s[-1]\n",
        "                    c = [self.c[(x, y)] + self.c[y] for y in self.s[x]]\n",
        "                    m = min(c)\n",
        "                    minIndex = c.index(m)\n",
        "                    l = list(self.s[x])\n",
        "                    s.append(l[minIndex])"
      ],
      "execution_count": 2,
      "outputs": []
    },
    {
      "cell_type": "markdown",
      "metadata": {
        "deletable": false,
        "editable": false,
        "nbgrader": {
          "cell_type": "markdown",
          "checksum": "62666201b033ad14daa776445d62150a",
          "grade": false,
          "grade_id": "cell-cdb902acaaf2b00b",
          "locked": true,
          "schema_version": 3,
          "solution": false
        },
        "id": "Deb5BT2kqDQQ"
      },
      "source": [
        "Here you can play with your code. "
      ]
    },
    {
      "cell_type": "code",
      "metadata": {
        "deletable": false,
        "nbgrader": {
          "cell_type": "code",
          "checksum": "a924efbc73f6c36ba0614b8d5c6f648d",
          "grade": false,
          "grade_id": "cell-442d36dc32c06807",
          "locked": false,
          "schema_version": 3,
          "solution": true
        },
        "id": "kLbbJ0iuqDQR"
      },
      "source": [
        "### Here you can play with your code.\n",
        "\n",
        "# YOUR CODE HERE"
      ],
      "execution_count": 3,
      "outputs": []
    },
    {
      "cell_type": "markdown",
      "metadata": {
        "deletable": false,
        "editable": false,
        "nbgrader": {
          "cell_type": "markdown",
          "checksum": "b724e9d6be1b9dd467782a97eddc8c8c",
          "grade": false,
          "grade_id": "cell-c3a428b6d2ee7026",
          "locked": true,
          "schema_version": 3,
          "solution": false
        },
        "id": "9-_x1O4TqDQR"
      },
      "source": [
        "### Testing the cost\n",
        "\n",
        "Let's start trying how it works on simple examples."
      ]
    },
    {
      "cell_type": "code",
      "metadata": {
        "deletable": false,
        "editable": false,
        "nbgrader": {
          "cell_type": "code",
          "checksum": "3d53460942d207277e5de0f1c9c95344",
          "grade": true,
          "grade_id": "cell-7d9a0983ec4f2b89",
          "locked": true,
          "points": 5,
          "schema_version": 3,
          "solution": false,
          "task": false
        },
        "id": "IoKjEM9YqDQS"
      },
      "source": [
        "# 5 points\n",
        "\n",
        "g = PricedGraph()\n",
        "g.add_edge('a', 'b', 1)\n",
        "\n",
        "# You can go from a to b\n",
        "g.compute_cost('b')\n",
        "assert g.cost('a') == 1\n",
        "assert g.cost('b') == 0\n",
        "\n",
        "# But you can't go from b to a.\n",
        "g.compute_cost('a')\n",
        "assert g.cost('a') == 0\n",
        "assert g.cost('b') == INFINITY\n"
      ],
      "execution_count": 4,
      "outputs": []
    },
    {
      "cell_type": "markdown",
      "metadata": {
        "deletable": false,
        "editable": false,
        "nbgrader": {
          "cell_type": "markdown",
          "checksum": "b00fd3a80614d871dd0ab63db1979833",
          "grade": false,
          "grade_id": "cell-16109670d39fdb3e",
          "locked": true,
          "schema_version": 3,
          "solution": false
        },
        "id": "N7mKVNEzqDQS"
      },
      "source": [
        "Now, a tiny bit more complicated. "
      ]
    },
    {
      "cell_type": "code",
      "metadata": {
        "deletable": false,
        "editable": false,
        "nbgrader": {
          "cell_type": "code",
          "checksum": "a9e69c9a71b42a93abce88111bd004be",
          "grade": true,
          "grade_id": "cell-d08eebdae54fa2b6",
          "locked": true,
          "points": 5,
          "schema_version": 3,
          "solution": false,
          "task": false
        },
        "id": "xvwk_MoBqDQS",
        "colab": {
          "base_uri": "https://localhost:8080/"
        },
        "outputId": "c8d8cdbe-f49f-4fa5-9a4d-be9c934764ad"
      },
      "source": [
        "# 5 points\n",
        "\n",
        "g = PricedGraph()\n",
        "g.add_edge('a', 'b', 2)\n",
        "g.add_edge('b', 'c', 3)\n",
        "g.add_edge('a', 'c', 6)\n",
        "g.add_edge('d', 'a', 4)\n",
        "\n",
        "g.compute_cost('c')\n",
        "assert g.cost('c') == 0\n",
        "assert g.cost('b') == 3\n",
        "print(g.cost('a'))\n",
        "assert g.cost('a') == 5\n",
        "assert g.cost('d') == 9\n",
        "\n",
        "g = PricedGraph()\n",
        "g.add_edge('a', 'b', 2)\n",
        "g.add_edge('b', 'c', 3)\n",
        "g.add_edge('a', 'c', 4)\n",
        "g.add_edge('d', 'a', 4)\n",
        "\n",
        "g.compute_cost('c')\n",
        "assert g.cost('c') == 0\n",
        "assert g.cost('b') == 3\n",
        "assert g.cost('a') == 4\n",
        "assert g.cost('d') == 8\n"
      ],
      "execution_count": 5,
      "outputs": [
        {
          "output_type": "stream",
          "name": "stdout",
          "text": [
            "5\n"
          ]
        }
      ]
    },
    {
      "cell_type": "code",
      "metadata": {
        "deletable": false,
        "editable": false,
        "nbgrader": {
          "cell_type": "code",
          "checksum": "636821acdd02979bfa1bde6bd2e184a5",
          "grade": true,
          "grade_id": "cell-7a159695bf7b4773",
          "locked": true,
          "points": 2,
          "schema_version": 3,
          "solution": false,
          "task": false
        },
        "id": "SasVlx8VqDQS"
      },
      "source": [
        "# 2 points\n",
        "\n",
        "# Let's take you for a loop.\n",
        "g = PricedGraph()\n",
        "g.add_edge('a', 'b', 2)\n",
        "g.add_edge('b', 'c', 3)\n",
        "g.add_edge('a', 'd', 1)\n",
        "g.add_edge('d', 'a', 3)\n",
        "\n",
        "g.compute_cost('c')\n",
        "assert g.cost('c') == 0\n",
        "assert g.cost('b') == 3\n",
        "assert g.cost('a') == 5\n",
        "assert g.cost('d') == 8\n"
      ],
      "execution_count": 6,
      "outputs": []
    },
    {
      "cell_type": "code",
      "metadata": {
        "deletable": false,
        "editable": false,
        "nbgrader": {
          "cell_type": "code",
          "checksum": "1e448b224bb5e3c85be18b136226d8d5",
          "grade": true,
          "grade_id": "cell-9d947f3511464c88",
          "locked": true,
          "points": 5,
          "schema_version": 3,
          "solution": false,
          "task": false
        },
        "id": "71CKAI1aqDQS"
      },
      "source": [
        "# 5 points\n",
        "\n",
        "# Let's do the example from class.\n",
        "g = PricedGraph()\n",
        "g.add_edge('a', 'b', 2)\n",
        "g.add_edge('a', 'c', 1)\n",
        "g.add_edge('a', 'd', 2)\n",
        "g.add_edge('b', 'e', 5)\n",
        "g.add_edge('b', 'f', 1)\n",
        "g.add_edge('c', 'b', 2)\n",
        "g.add_edge('c', 'd', 3)\n",
        "g.add_edge('d', 'f', 2)\n",
        "g.add_edge('e', 'h', 2)\n",
        "g.add_edge('f', 'g', 1)\n",
        "g.add_edge('g', 'h', 2)\n",
        "\n",
        "g.compute_cost('h')\n",
        "assert g.cost('e') == 2\n",
        "assert g.cost('f') == 3\n",
        "assert g.cost('g') == 2\n",
        "assert g.cost('b') == 4\n",
        "assert g.cost('c') == 6\n",
        "assert g.cost('d') == 5\n",
        "assert g.cost('a') == 6\n"
      ],
      "execution_count": 7,
      "outputs": []
    },
    {
      "cell_type": "markdown",
      "metadata": {
        "deletable": false,
        "editable": false,
        "nbgrader": {
          "cell_type": "markdown",
          "checksum": "cb8779f54cd7822dad2014a7f0ba3e31",
          "grade": false,
          "grade_id": "cell-964022888b3cc44f",
          "locked": true,
          "schema_version": 3,
          "solution": false
        },
        "id": "qmz5AlaFqDQT"
      },
      "source": [
        "### Let's test the paths now."
      ]
    },
    {
      "cell_type": "code",
      "metadata": {
        "deletable": false,
        "editable": false,
        "nbgrader": {
          "cell_type": "code",
          "checksum": "898f0d0dde7f0d2700f98fb31fc85bcc",
          "grade": true,
          "grade_id": "cell-4e5b944aa497a690",
          "locked": true,
          "points": 5,
          "schema_version": 3,
          "solution": false,
          "task": false
        },
        "id": "iZ4iWY4pqDQT"
      },
      "source": [
        "# 5 points\n",
        "\n",
        "g = PricedGraph()\n",
        "g.add_edge('a', 'b', 1)\n",
        "\n",
        "assert g.cheapest_path('a', 'a') == ['a']\n",
        "assert g.cheapest_path('a', 'b') == ['a', 'b']\n",
        "assert g.cheapest_path('b', 'b') == ['b']\n",
        "assert g.cheapest_path('b', 'a') == None\n"
      ],
      "execution_count": 8,
      "outputs": []
    },
    {
      "cell_type": "code",
      "metadata": {
        "deletable": false,
        "editable": false,
        "nbgrader": {
          "cell_type": "code",
          "checksum": "adf2a231afac23e4d7c23c74b6f4ccda",
          "grade": true,
          "grade_id": "cell-2cba94cede9a617",
          "locked": true,
          "points": 5,
          "schema_version": 3,
          "solution": false,
          "task": false
        },
        "id": "M1U6qvyBqDQT"
      },
      "source": [
        "# 5 points\n",
        "\n",
        "g = PricedGraph()\n",
        "g.add_edge('a', 'b', 2)\n",
        "g.add_edge('b', 'c', 3)\n",
        "g.add_edge('a', 'c', 6)\n",
        "g.add_edge('d', 'a', 4)\n",
        "\n",
        "assert g.cheapest_path('a', 'c') == ['a', 'b', 'c']\n",
        "assert g.cheapest_path('d', 'c') == ['d', 'a', 'b', 'c']\n",
        "assert g.cheapest_path('d', 'b') == ['d', 'a', 'b']\n",
        "\n",
        "g = PricedGraph()\n",
        "g.add_edge('a', 'b', 2)\n",
        "g.add_edge('b', 'c', 3)\n",
        "g.add_edge('a', 'c', 4)\n",
        "g.add_edge('d', 'a', 4)\n",
        "\n",
        "assert g.cheapest_path('a', 'c') == ['a', 'c']\n",
        "assert g.cheapest_path('d', 'c') == ['d', 'a', 'c']\n"
      ],
      "execution_count": 9,
      "outputs": []
    },
    {
      "cell_type": "code",
      "metadata": {
        "deletable": false,
        "editable": false,
        "nbgrader": {
          "cell_type": "code",
          "checksum": "f66289e9ca8a6f5b9a220e1bfe8ee825",
          "grade": true,
          "grade_id": "cell-e73872042d7373ca",
          "locked": true,
          "points": 3,
          "schema_version": 3,
          "solution": false,
          "task": false
        },
        "id": "KhRBaHa_qDQT"
      },
      "source": [
        "# 3 points\n",
        "\n",
        "g = PricedGraph()\n",
        "g.add_edge('a', 'b', 2)\n",
        "g.add_edge('b', 'c', 3)\n",
        "g.add_edge('a', 'd', 1)\n",
        "g.add_edge('d', 'a', 3)\n",
        "\n",
        "assert g.cheapest_path('a', 'a') == ['a']\n",
        "assert g.cheapest_path('d', 'd') == ['d']\n",
        "assert g.cheapest_path('a', 'd') == ['a', 'd']\n",
        "assert g.cheapest_path('a', 'c') == ['a', 'b', 'c']\n",
        "assert g.cheapest_path('c', 'a') == None\n"
      ],
      "execution_count": 10,
      "outputs": []
    },
    {
      "cell_type": "code",
      "metadata": {
        "deletable": false,
        "editable": false,
        "nbgrader": {
          "cell_type": "code",
          "checksum": "f9176b453eb5f4004c88a9823b920f4f",
          "grade": true,
          "grade_id": "cell-ee37946dc787944f",
          "locked": true,
          "points": 5,
          "schema_version": 3,
          "solution": false,
          "task": false
        },
        "id": "FJw7Vg-AqDQT"
      },
      "source": [
        "# 5 points\n",
        "\n",
        "# Let's do the example from class.\n",
        "g = PricedGraph()\n",
        "g.add_edge('a', 'b', 2)\n",
        "g.add_edge('a', 'c', 1)\n",
        "g.add_edge('a', 'd', 2)\n",
        "g.add_edge('b', 'e', 5)\n",
        "g.add_edge('b', 'f', 1)\n",
        "g.add_edge('c', 'b', 2)\n",
        "g.add_edge('c', 'd', 3)\n",
        "g.add_edge('d', 'f', 2)\n",
        "g.add_edge('e', 'h', 2)\n",
        "g.add_edge('f', 'g', 1)\n",
        "g.add_edge('g', 'h', 2)\n",
        "\n",
        "assert g.cheapest_path('a', 'h') == ['a', 'b', 'f', 'g', 'h']\n",
        "assert g.cheapest_path('c', 'h') == ['c', 'b', 'f', 'g', 'h']\n",
        "assert g.cheapest_path('d', 'h') == ['d', 'f', 'g', 'h']\n"
      ],
      "execution_count": 11,
      "outputs": []
    },
    {
      "cell_type": "code",
      "metadata": {
        "deletable": false,
        "editable": false,
        "nbgrader": {
          "cell_type": "code",
          "checksum": "3735bcd794fb89da9b777e5ad29b526e",
          "grade": true,
          "grade_id": "cell-25be00a2206854fa",
          "locked": true,
          "points": 5,
          "schema_version": 3,
          "solution": false,
          "task": false
        },
        "id": "cj578z38qDQT"
      },
      "source": [
        "# 5 points\n",
        "\n",
        "## Note that nodes can be anything.\n",
        "g = PricedGraph()\n",
        "g.add_edge(0, 1, 2)\n",
        "g.add_edge(1, 2, 3)\n",
        "g.add_edge(2, (3, 4), 4)\n",
        "g.add_edge((3, 4), 4, 1)\n",
        "assert g.cheapest_path(0, 4) == [0, 1, 2, (3, 4), 4]\n"
      ],
      "execution_count": 12,
      "outputs": []
    },
    {
      "cell_type": "markdown",
      "metadata": {
        "deletable": false,
        "editable": false,
        "nbgrader": {
          "cell_type": "markdown",
          "checksum": "60abf90b599e44e181697cf4b3bbed0e",
          "grade": false,
          "grade_id": "cell-c7877927f505d7fb",
          "locked": true,
          "schema_version": 3,
          "solution": false
        },
        "id": "oGxXrf1pqDQU"
      },
      "source": [
        "## DO NOT MODIFY THE NOTEBOOK BELOW THIS LINE"
      ]
    },
    {
      "cell_type": "code",
      "metadata": {
        "deletable": false,
        "editable": false,
        "nbgrader": {
          "cell_type": "code",
          "checksum": "d5231ba66c21bf5468941316d83e2860",
          "grade": true,
          "grade_id": "cell-3990050ee21ecaa6",
          "locked": true,
          "points": 5,
          "schema_version": 3,
          "solution": false
        },
        "id": "kyFae8nmqDQU"
      },
      "source": [
        "## And now for some hidden tests.\n",
        "# 5 points\n",
        "\n"
      ],
      "execution_count": 13,
      "outputs": []
    },
    {
      "cell_type": "code",
      "metadata": {
        "deletable": false,
        "editable": false,
        "nbgrader": {
          "cell_type": "code",
          "checksum": "3f7b5d16b4ef555acf796e52bed9893a",
          "grade": true,
          "grade_id": "cell-a0e592b43faa8925",
          "locked": true,
          "points": 5,
          "schema_version": 3,
          "solution": false
        },
        "id": "nEhcBahiqDQU"
      },
      "source": [
        "# Hidden tests.  Do not remove this cell.\n",
        "# 5 points\n"
      ],
      "execution_count": 14,
      "outputs": []
    },
    {
      "cell_type": "code",
      "metadata": {
        "deletable": false,
        "editable": false,
        "nbgrader": {
          "cell_type": "code",
          "checksum": "eda42522360af2e30eafda9adb01e296",
          "grade": true,
          "grade_id": "cell-10028b8c67552d2e",
          "locked": true,
          "points": 5,
          "schema_version": 3,
          "solution": false
        },
        "id": "qFeFOoMPqDQU"
      },
      "source": [
        "# Hidden tests.  Do not remove this cell.\n",
        "# 5 points\n"
      ],
      "execution_count": 15,
      "outputs": []
    },
    {
      "cell_type": "code",
      "metadata": {
        "deletable": false,
        "editable": false,
        "nbgrader": {
          "cell_type": "code",
          "checksum": "815dcbe9be0fd9c65990345512949e50",
          "grade": true,
          "grade_id": "cell-5d9d1bb3ef2cb625",
          "locked": true,
          "points": 5,
          "schema_version": 3,
          "solution": false
        },
        "id": "ZWcWS6eBqDQU"
      },
      "source": [
        "# Hidden tests.  Do not remove this cell.\n",
        "# 5 points\n"
      ],
      "execution_count": 16,
      "outputs": []
    },
    {
      "cell_type": "code",
      "metadata": {
        "deletable": false,
        "editable": false,
        "nbgrader": {
          "cell_type": "code",
          "checksum": "8872f8a944989bfe933c1a7abd08f02c",
          "grade": true,
          "grade_id": "cell-e38f4cdb23391d19",
          "locked": true,
          "points": 5,
          "schema_version": 3,
          "solution": false
        },
        "id": "6D5uClhoqDQU"
      },
      "source": [
        "# Hidden tests.  Do not remove this cell.\n",
        "# 5 points\n"
      ],
      "execution_count": 17,
      "outputs": []
    },
    {
      "cell_type": "code",
      "metadata": {
        "deletable": false,
        "editable": false,
        "nbgrader": {
          "cell_type": "code",
          "checksum": "bb0b57f5dd96774c1b9e10310392b98a",
          "grade": true,
          "grade_id": "cell-adb86bb64686c0da",
          "locked": true,
          "points": 5,
          "schema_version": 3,
          "solution": false
        },
        "id": "N5XCcSbBqDQU"
      },
      "source": [
        "# Hidden tests.  Do not remove this cell.\n",
        "# 5 points\n"
      ],
      "execution_count": 18,
      "outputs": []
    }
  ]
}