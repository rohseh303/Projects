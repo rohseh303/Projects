{
  "nbformat": 4,
  "nbformat_minor": 5,
  "metadata": {
    "kernelspec": {
      "display_name": "exams",
      "language": "python",
      "name": "exams"
    },
    "language_info": {
      "codemirror_mode": {
        "name": "ipython",
        "version": 3
      },
      "file_extension": ".py",
      "mimetype": "text/x-python",
      "name": "python",
      "nbconvert_exporter": "python",
      "pygments_lexer": "ipython3",
      "version": "3.7.10"
    },
    "test_info": {
      "id": "8f8d5e96512b87f9c93aa8b9bcd70ad6f6fcc60f"
    },
    "colab": {
      "name": "Homework_3.ipynb",
      "provenance": [],
      "collapsed_sections": []
    }
  },
  "cells": [
    {
      "cell_type": "markdown",
      "metadata": {
        "id": "c3de3f82"
      },
      "source": [
        "Before you turn this problem in, make sure everything runs as expected. First, **restart the kernel** (in the menubar, select Kernel$\\rightarrow$Restart) and then **run all cells** (in the menubar, select Cell$\\rightarrow$Run All).\n",
        "\n",
        "Make sure you fill in any place that says `YOUR CODE HERE` or \"YOUR ANSWER HERE\", as well as your name and collaborators below:"
      ],
      "id": "c3de3f82"
    },
    {
      "cell_type": "code",
      "metadata": {
        "id": "pXbfEVfohN7p"
      },
      "source": [
        ""
      ],
      "id": "pXbfEVfohN7p",
      "execution_count": null,
      "outputs": []
    },
    {
      "cell_type": "code",
      "metadata": {
        "id": "0214a196"
      },
      "source": [
        "NAME = \"\"\n",
        "COLLABORATORS = \"\""
      ],
      "id": "0214a196",
      "execution_count": 1,
      "outputs": []
    },
    {
      "cell_type": "markdown",
      "metadata": {
        "id": "ec773496"
      },
      "source": [
        "---"
      ],
      "id": "ec773496"
    },
    {
      "cell_type": "markdown",
      "metadata": {
        "deletable": false,
        "editable": false,
        "nbgrader": {
          "cell_type": "markdown",
          "checksum": "192c3bedfb2415da821b01de329cff47",
          "grade": false,
          "grade_id": "cell-0a8534f22170e259",
          "locked": true,
          "schema_version": 3,
          "solution": false,
          "task": false
        },
        "id": "732fb118"
      },
      "source": [
        "# CSE 30 Fall 2021 - Homework 3\n",
        "\n",
        "\n",
        "### Instructions\n",
        "\n",
        "Please disregard the YOUR NAME and COLLABORATORS above.  They are put there atomatically by the grading tool.\n",
        "You can find instructions on how to work on a homework on Canvas.  Here is a short summary: \n",
        "\n",
        "### Submitting your work\n",
        "\n",
        "To submit your work: \n",
        "\n",
        "* First, click on \"Runtime > Restart and run all\", and check that you get no errors.  This enables you to catch any error you might have introduced, and not noticed, due to your running cells out of order. \n",
        "* Second, download the notebook in .ipynb format (File > Download .ipynb) and upload the .ipynb file to [this form](https://docs.google.com/forms/d/e/1FAIpQLSfQer4bnPY5DfMDbF3qmawpFnYJdh4Ls3mbK0yqSKQcUDV98g/viewform?usp=sf_link). \n",
        "\n",
        "You can submit multiple times; the last submission before the deadline is the one that counts.\n",
        "\n",
        "### Homework format\n",
        "\n",
        "For each question in this notebook, there is: \n",
        "\n",
        "* A text description of the problem. \n",
        "* One or more places where you have to insert your solution.  You need to complete every place marked: \n",
        "\n",
        "    `# YOUR CODE HERE`\n",
        "    \n",
        "    and you should not modify any other place. \n",
        "* One or more test cells.  Each cell is worth some number of points, marked at the top.  You should not modify these tests cells.  The tests pass if no error is printed out: when there is a statement that says, for instance: \n",
        "\n",
        "    `assert x == 2`\n",
        "    \n",
        "    then the test passes if `x` has value 2, and fails otherwise.  You can insert a `print(x)` (for this case!) somewhere if you want to debug your work; it is up to you.  \n",
        "    \n",
        "### Notes:\n",
        "\n",
        "* Your code will be tested both according to the tests you can see (the `assert` statements you can see), _and_ additional tests.  This prevents you from hard-coding the answer to the particular questions posed.  Your code should solve the _general_ intended case, not hard-code the particular answer for the values used in the tests. \n",
        "\n",
        "* **Please do not delete or add cells!** The test is autograded, and if you modify the test by adding or deleting cells, even if you re-add cells you delete, you may not receive credit. \n",
        "\n",
        "* **Please do not import modules that are not part of the [standard library](https://docs.python.org/3/library/index.html).** You do not need any, and they will likely not available in the grading environment, leading your code to fail. \n",
        "\n",
        "* **If you are inactive too long, your notebook might get disconnected from the back-end.** Your work is never lost, but you have to re-run all the cells before you continue. \n",
        "\n",
        "* You can write out print statements in your code, to help you test/debug it. But remember: the code is graded on the basis of what it outputs or returns, not on the basis of what it prints.\n",
        "\n",
        "* **TAs and tutors have access to this notebook,** so if you let them know you need their help, they can look at your work and give you advice. \n",
        "\n",
        "### Grading\n",
        "\n",
        "Each cell where there are tests is worth a certain number of points.  You get the points allocated to a cell only if you pass _all_ the tests in the cell. \n",
        "\n",
        "The tests in a cell include both the tests you can see, and other, similar, tests that are used for grading only.  Therefore, you cannot hard-code the solutions: you really have to solve the essence of the problem, to receive the points in a cell. \n",
        "\n",
        "### Code of Conduct\n",
        "\n",
        "* Work on the test yourself, alone. \n",
        "* You can search documentation on the web, on sites such as the Python documentation sites, Stackoverflow, and similar, and you can use the results. \n",
        "* You cannot share your work with others or solicit their help.\n"
      ],
      "id": "732fb118"
    },
    {
      "cell_type": "markdown",
      "metadata": {
        "deletable": false,
        "editable": false,
        "nbgrader": {
          "cell_type": "markdown",
          "checksum": "8bb6e03f7f17129f422175caff1a2214",
          "grade": false,
          "grade_id": "cell-14d5c417947dd0b6",
          "locked": true,
          "schema_version": 3,
          "solution": false,
          "task": false
        },
        "id": "02e0b712"
      },
      "source": [
        "## Problem: Dicothomic Search"
      ],
      "id": "02e0b712"
    },
    {
      "cell_type": "markdown",
      "metadata": {
        "deletable": false,
        "editable": false,
        "nbgrader": {
          "cell_type": "markdown",
          "checksum": "e74c06a4cee07e33e84c4b3aab50a34e",
          "grade": false,
          "grade_id": "cell-7de923e90fa2c4ef",
          "locked": true,
          "schema_version": 3,
          "solution": false,
          "task": false
        },
        "id": "45414df8"
      },
      "source": [
        "You are given a sorted list `l`, and you need to look into it for an element `x`.  Of course, you could start looking at the beginning for `x`, and continue until you are done: \n",
        "\n",
        "    for el in l:\n",
        "        if el == x:\n",
        "            ...\n",
        "\n",
        "or you can do the same with `l.index(x)`, but these approaches do not take advantage of the fact that `l` is sorted, and take an amount of time that is proportional to the length of the list `l`: on average, you will find `x` about halfway through. \n",
        "\n",
        "When you search in a dictionary, you don't take this approach. If you look for \"hedgehog\", you open the dictionary in the middle, and based on that you decide whether to search in the first half or the second half. This continues until you narrow the range of search to a single page. \n",
        "\n",
        "We want to follow the same idea to search in our list. We ask you to write a _recursive_ function `search(l, x, i, k)` which searches for _the earliest_ occurrence of `x` in the list `l` from position `i` to position `k - 1`, inclusive, and returns the smallest index at which `x` has been found, or `None` if it has not been found. \n",
        "\n",
        "To find if `x` is in the list, you would call `search(l, x, 0, len(l))`. \n",
        "\n",
        "The function `search` should work as follows:\n",
        "\n",
        "* If `k <= i`, there is nowhere you can search, and you return `None`. \n",
        "* If `k = i + 1`, then you know what to check! \n",
        "* If `k > i + 1`, then there is more than one position to consider.  You split the range you have to search in the middle, say, at `j = i + (k - i) // 2`, and then look at `l[j]`.  Based on that, you decide whether to search (calling `search` recursively) from `i` to `j`, or from `j` to `k`. "
      ],
      "id": "45414df8"
    },
    {
      "cell_type": "markdown",
      "metadata": {
        "deletable": false,
        "editable": false,
        "nbgrader": {
          "cell_type": "markdown",
          "checksum": "e088359046f13ab800c965c97c9bc113",
          "grade": false,
          "grade_id": "cell-c8e2ba4dda04304c",
          "locked": true,
          "schema_version": 3,
          "solution": false,
          "task": false
        },
        "id": "61fd3b3b"
      },
      "source": [
        "Note: in this exercise, the whole point is to use recursion, and to avoid accessing the list too many times. \n",
        "If you have code that reads (for example): \n",
        "\n",
        "    if l[k] == ... \n",
        "        ... \n",
        "    if l[k] < ... \n",
        "        ...\n",
        "        \n",
        "then that code would be accessing `l[k]` twice.  You may want to cache the value of `l[k]` in an intermediate place to avoid such accesses:\n",
        "\n",
        "    lk = l[k]\n",
        "    if lk == ...\n",
        "        ...\n",
        "    if lk < ...\n",
        "        ...\n",
        "        \n",
        "This is only an example; the actual piece of code is not like the one above, but the idea is what matters: do not access twice in a row the same list element; rather, cache its value."
      ],
      "id": "61fd3b3b"
    },
    {
      "cell_type": "code",
      "metadata": {
        "deletable": false,
        "nbgrader": {
          "cell_type": "code",
          "checksum": "691d5d23575cf07c6ec14b9782312cba",
          "grade": false,
          "grade_id": "cell-90e2f8ed6c0d03f1",
          "locked": false,
          "schema_version": 3,
          "solution": true,
          "task": false
        },
        "id": "6df31d83"
      },
      "source": [
        "from IPython.core.display import Javascript\n",
        "def search(l, x, i, k):\n",
        "    \"\"\"Searches for an occurrence of x in list l, from position i to position k - 1 inclusive, \n",
        "    using recursion.\"\"\"\n",
        "    if k <= i:\n",
        "        return None\n",
        "    elif k == i + 1:\n",
        "        li = l[i]\n",
        "        if li == x:\n",
        "            #print(\"Found at index \", i)\n",
        "            return i\n",
        "    elif k > i + 1:\n",
        "        j = (int)(i + ((k-i)/2))\n",
        "        #print(\"Midpoint Index: \", j)\n",
        "        lj = l[j]\n",
        "        #print(\"value @midpoint: \", lj)\n",
        "        if lj > x:\n",
        "            return search(l, x, i, j)\n",
        "        elif lj < x:\n",
        "            return search(l, x, j+1, k)\n",
        "        elif lj == x:\n",
        "            a = search(l, x, i, j)\n",
        "            if a != None:\n",
        "                return a\n",
        "            else:\n",
        "                return j\n",
        "            return j"
      ],
      "id": "6df31d83",
      "execution_count": 2,
      "outputs": []
    },
    {
      "cell_type": "code",
      "metadata": {
        "deletable": false,
        "editable": false,
        "nbgrader": {
          "cell_type": "code",
          "checksum": "4246ccc10e3d2f79c2c5089bf573fed3",
          "grade": false,
          "grade_id": "cell-37d51769d031d867",
          "locked": true,
          "schema_version": 3,
          "solution": false,
          "task": false
        },
        "id": "3be02be6"
      },
      "source": [
        "def binary_search(l, x):\n",
        "    \"\"\"Helper function.\"\"\"\n",
        "    return search(l, x, 0, len(l))"
      ],
      "id": "3be02be6",
      "execution_count": 3,
      "outputs": []
    },
    {
      "cell_type": "code",
      "metadata": {
        "deletable": false,
        "nbgrader": {
          "cell_type": "code",
          "checksum": "8d8bba879e57135d82512cfcf45e75c6",
          "grade": false,
          "grade_id": "cell-d0d027ce89f9a31f",
          "locked": false,
          "schema_version": 3,
          "solution": true,
          "task": false
        },
        "id": "c5a88b8c"
      },
      "source": [
        "## Here is a place for you to play with your code."
      ],
      "id": "c5a88b8c",
      "execution_count": 13,
      "outputs": []
    },
    {
      "cell_type": "markdown",
      "metadata": {
        "deletable": false,
        "editable": false,
        "nbgrader": {
          "cell_type": "markdown",
          "checksum": "b3d081d92f7fe219b8df3ed07d7eb41d",
          "grade": false,
          "grade_id": "cell-78be010e7f775aa0",
          "locked": true,
          "schema_version": 3,
          "solution": false,
          "task": false
        },
        "id": "15a98b5b"
      },
      "source": [
        "First, let's do a small sanity check, checking that at least you find the correct element. "
      ],
      "id": "15a98b5b"
    },
    {
      "cell_type": "code",
      "metadata": {
        "deletable": false,
        "editable": false,
        "nbgrader": {
          "cell_type": "code",
          "checksum": "cf13fde055da5f6fd90e096bb6ee4c4a",
          "grade": true,
          "grade_id": "cell-00951d19f2b632db",
          "locked": true,
          "points": 5,
          "schema_version": 3,
          "solution": false,
          "task": false
        },
        "id": "c1977384"
      },
      "source": [
        "# 5 points. \n",
        "\n",
        "assert binary_search([1, 2, 3, 4, 5, 6], 2) == 1\n",
        "assert binary_search([1, 2, 3, 5, 6, 7], 4) is None\n",
        "\n",
        "# We did say, the earliest occurrence.\n",
        "assert binary_search([1, 2, 3, 3, 3, 4, 5], 3) == 2\n",
        "assert binary_search([1, 2, 2, 2, 2, 3, 4, 5], 2) == 1\n",
        "assert binary_search([1, 1, 1, 1, 1, 2, 3], 1) == 0"
      ],
      "id": "c1977384",
      "execution_count": 5,
      "outputs": []
    },
    {
      "cell_type": "markdown",
      "metadata": {
        "deletable": false,
        "editable": false,
        "nbgrader": {
          "cell_type": "markdown",
          "checksum": "c65e0b1483db4e35f60a724c89baa1fc",
          "grade": false,
          "grade_id": "cell-0b00142bc2170a8e",
          "locked": true,
          "schema_version": 3,
          "solution": false,
          "task": false
        },
        "id": "a518ba52"
      },
      "source": [
        "To keep you honest, we implement two tricks.  First, we will not let you work on a list, but rather, on a WeakList, which counts how many times it has been accessed, and if you access it too many times, it raises an exception.  This will force you to implement dicothomic search rather than just scanning the list. \n",
        "\n",
        "To help in debugging, we make a WeakList also print out where it is accessed. "
      ],
      "id": "a518ba52"
    },
    {
      "cell_type": "code",
      "metadata": {
        "deletable": false,
        "editable": false,
        "nbgrader": {
          "cell_type": "code",
          "checksum": "afda972db2ad74840a7f7240c92410c2",
          "grade": false,
          "grade_id": "cell-30c6e536b14c518a",
          "locked": true,
          "schema_version": 3,
          "solution": false,
          "task": false
        },
        "id": "e28e3e4e"
      },
      "source": [
        "import math\n",
        "\n",
        "class TooManyAccesses(Exception):\n",
        "    pass\n",
        "\n",
        "class WeakList(object):\n",
        "    \n",
        "    def __init__(self, *args, verbose=True):\n",
        "        \"\"\"You create a tired list passing it the elements as arguments.\"\"\"\n",
        "        self.l = list(args) # Do not rely on this being called l... it will be renamed in grading.\n",
        "        self.num_accesses = 0\n",
        "        self.max_accesses = int(math.log2(len(self.l))) + 2\n",
        "        self.verbose = verbose\n",
        "\n",
        "    def __len__(self):\n",
        "        \"\"\"This implements the len() method.\"\"\"\n",
        "        return len(self.l)\n",
        "    \n",
        "    def __getitem__(self, i):\n",
        "        \"\"\"This implements the lookup via [i] syntax.\"\"\"\n",
        "        if self.verbose:\n",
        "            print(\"Accessed position\", i)\n",
        "        self.num_accesses += 1\n",
        "        if self.num_accesses > self.max_accesses:\n",
        "            raise TooManyAccesses(\"You have exceeded the maximum of {} accesses\".format(self.num_accesses))\n",
        "        return self.l[i]"
      ],
      "id": "e28e3e4e",
      "execution_count": 6,
      "outputs": []
    },
    {
      "cell_type": "code",
      "metadata": {
        "deletable": false,
        "nbgrader": {
          "cell_type": "code",
          "checksum": "a570ce640222031242dfe537c9009380",
          "grade": false,
          "grade_id": "cell-2e5f804d441ef2a3",
          "locked": false,
          "schema_version": 3,
          "solution": true,
          "task": false
        },
        "id": "80bcdb08"
      },
      "source": [
        "## Here is a place for you to play with your code. \n",
        "\n",
        "# YOUR CODE HERE"
      ],
      "id": "80bcdb08",
      "execution_count": 7,
      "outputs": []
    },
    {
      "cell_type": "markdown",
      "metadata": {
        "deletable": false,
        "editable": false,
        "nbgrader": {
          "cell_type": "markdown",
          "checksum": "321203ce468ae2bc6bac71bf8e754313",
          "grade": false,
          "grade_id": "cell-1e73501ad2265ac1",
          "locked": true,
          "schema_version": 3,
          "solution": false,
          "task": false
        },
        "id": "2540b2c4"
      },
      "source": [
        "We can now test that you can find the earliest occurrence of an element in a list without accessing too many elements. "
      ],
      "id": "2540b2c4"
    },
    {
      "cell_type": "code",
      "metadata": {
        "deletable": false,
        "editable": false,
        "nbgrader": {
          "cell_type": "code",
          "checksum": "d7850e9a3b15632b02b0e5ec8b945f9a",
          "grade": true,
          "grade_id": "cell-1a16c4fe3decdef2",
          "locked": true,
          "points": 5,
          "schema_version": 3,
          "solution": false,
          "task": false
        },
        "id": "0fda25db",
        "colab": {
          "base_uri": "https://localhost:8080/"
        },
        "outputId": "73a0bcc4-ae5d-417e-b938-8ef4b0c3448e"
      },
      "source": [
        "# 5 points. Some simple tests. \n",
        "\n",
        "l = WeakList(3, 4, 5, 6, 7, 8)\n",
        "assert binary_search(l, 8) == 5\n",
        "\n",
        "l = WeakList(3, 4, 4, 5, 7, 8)\n",
        "assert binary_search(l, 4) == 1\n",
        "l = WeakList(3, 4, 4, 5, 7, 8)\n",
        "assert binary_search(l, 5) == 3\n",
        "l = WeakList(3, 5, 6, 7)\n",
        "assert binary_search(l, 8) is None"
      ],
      "id": "0fda25db",
      "execution_count": 8,
      "outputs": [
        {
          "output_type": "stream",
          "name": "stdout",
          "text": [
            "Accessed position 3\n",
            "Accessed position 5\n",
            "Accessed position 4\n",
            "Accessed position 3\n",
            "Accessed position 1\n",
            "Accessed position 0\n",
            "Accessed position 3\n",
            "Accessed position 1\n",
            "Accessed position 2\n",
            "Accessed position 2\n",
            "Accessed position 3\n"
          ]
        }
      ]
    },
    {
      "cell_type": "code",
      "metadata": {
        "deletable": false,
        "editable": false,
        "nbgrader": {
          "cell_type": "code",
          "checksum": "337b01e06eaf9f4fbfc775ca0e191708",
          "grade": true,
          "grade_id": "cell-87f67e58a8c41266",
          "locked": true,
          "points": 15,
          "schema_version": 3,
          "solution": false,
          "task": false
        },
        "id": "04094dee"
      },
      "source": [
        "# 15 points.  Now, some randomized tests. \n",
        "\n",
        "import random\n",
        "\n",
        "for _ in range(1000):\n",
        "    n = random.randint(10, 100)\n",
        "    l = list(random.choices(list(range(100)), k=n))\n",
        "    l.sort()\n",
        "    k = random.randint(0, 99)\n",
        "    wl = WeakList(*l, verbose=False)\n",
        "    # print(\"Searching\", l, \"for\", k)\n",
        "    if k in l:\n",
        "        # print(\"It should be there.\")\n",
        "        bs = binary_search(wl, k)\n",
        "        ix = l.index(k)\n",
        "        assert bs == ix, \"Error: l: {}, k: {}, index: {}, binary: {}\".format(l, k, ix, bs)\n",
        "    else:\n",
        "        # print(\"It should not be there.\")\n",
        "        assert binary_search(wl, k) is None, \"Error: {} found in {}\".format(k, l)\n",
        "    "
      ],
      "id": "04094dee",
      "execution_count": 9,
      "outputs": []
    },
    {
      "cell_type": "markdown",
      "metadata": {
        "deletable": false,
        "editable": false,
        "nbgrader": {
          "cell_type": "markdown",
          "checksum": "55055bbebc82499fe9f0908b7c32bb7d",
          "grade": false,
          "grade_id": "cell-1229f761d4b7051c",
          "locked": true,
          "schema_version": 3,
          "solution": false,
          "task": false
        },
        "id": "7e86c40a"
      },
      "source": [
        "Next, we know that students typically loathe recursion, and would rather write unfathomable goops of code rather than use a simple recursive solution.  We are not talking about you obviously.  But just to keep the other students honest, we define here a decorator that checks that the function is indeed called recursively. "
      ],
      "id": "7e86c40a"
    },
    {
      "cell_type": "code",
      "metadata": {
        "deletable": false,
        "editable": false,
        "nbgrader": {
          "cell_type": "code",
          "checksum": "aa820f8749f60a8e0fe60aa5ae74a095",
          "grade": false,
          "grade_id": "cell-8d4b7cde044ae157",
          "locked": true,
          "schema_version": 3,
          "solution": false,
          "task": false
        },
        "id": "90ca0d85"
      },
      "source": [
        "from bdb import Bdb\n",
        "import sys\n",
        "import traceback\n",
        "\n",
        "class NonRecursive(Exception):\n",
        "    pass\n",
        "\n",
        "class RecursionDetector(Bdb):\n",
        "    \n",
        "    def do_clear(self, arg):\n",
        "        pass\n",
        "\n",
        "    def __init__(self, depth=1):\n",
        "        Bdb.__init__(self)\n",
        "        self.depth = depth\n",
        "        self.stack = []\n",
        "        self.passed = False\n",
        "        \n",
        "    def user_call(self, frame, argument_list):\n",
        "        code = frame.f_code\n",
        "        depth = sum([code == c for c in self.stack])\n",
        "        if depth >= self.depth:\n",
        "            self.passed = True\n",
        "        self.stack.append(code)\n",
        "\n",
        "    def user_return(self, frame, return_value):\n",
        "        assert self.stack[-1] == frame.f_code\n",
        "        self.stack.pop()\n",
        "\n",
        "def test_recursion(func, depth=1):\n",
        "    detector = RecursionDetector(depth=depth)\n",
        "    detector.set_trace()\n",
        "    try:\n",
        "        r = func()\n",
        "    except:\n",
        "        traceback.print_exc()\n",
        "        r = None\n",
        "    finally:\n",
        "        sys.settrace(None)\n",
        "    return r\n",
        "        \n",
        "def test_enough_recursion(wl, el):\n",
        "    \"\"\"Tests that you do enough recursion when calling binary_search(wl, el)\"\"\"\n",
        "    n = int(math.log2(len(wl))) - 1\n",
        "    return test_recursion(lambda: binary_search(wl, el), depth=n)"
      ],
      "id": "90ca0d85",
      "execution_count": 10,
      "outputs": []
    },
    {
      "cell_type": "code",
      "metadata": {
        "deletable": false,
        "editable": false,
        "nbgrader": {
          "cell_type": "code",
          "checksum": "558c89f942dbad0b5579e552a0d2308b",
          "grade": false,
          "grade_id": "cell-d0cf391696060712",
          "locked": true,
          "schema_version": 3,
          "solution": false,
          "task": false
        },
        "id": "1394e815",
        "colab": {
          "base_uri": "https://localhost:8080/"
        },
        "outputId": "bbed7ea1-79d6-409c-85ed-f17e72aab3b2"
      },
      "source": [
        "assert test_recursion(lambda: binary_search([2, 3, 4, 5, 5, 6, 7, 8, 10, 11, 12], 5)) == 3"
      ],
      "id": "1394e815",
      "execution_count": 11,
      "outputs": [
        {
          "output_type": "stream",
          "name": "stderr",
          "text": [
            "\n",
            "PYDEV DEBUGGER WARNING:\n",
            "sys.settrace() should not be used when the debugger is being used.\n",
            "This may cause the debugger to stop working correctly.\n",
            "If this is needed, please check: \n",
            "http://pydev.blogspot.com/2007/06/why-cant-pydev-debugger-work-with.html\n",
            "to see how to restore the debug tracing back correctly.\n",
            "Call Location:\n",
            "  File \"/usr/lib/python3.7/bdb.py\", line 332, in set_trace\n",
            "    sys.settrace(self.trace_dispatch)\n",
            "\n",
            "\n",
            "PYDEV DEBUGGER WARNING:\n",
            "sys.settrace() should not be used when the debugger is being used.\n",
            "This may cause the debugger to stop working correctly.\n",
            "If this is needed, please check: \n",
            "http://pydev.blogspot.com/2007/06/why-cant-pydev-debugger-work-with.html\n",
            "to see how to restore the debug tracing back correctly.\n",
            "Call Location:\n",
            "  File \"<ipython-input-10-4e4376c94487>\", line 39, in test_recursion\n",
            "    sys.settrace(None)\n",
            "\n"
          ]
        }
      ]
    },
    {
      "cell_type": "code",
      "metadata": {
        "deletable": false,
        "editable": false,
        "nbgrader": {
          "cell_type": "code",
          "checksum": "f5ae129400b4961d4116324b42e30861",
          "grade": true,
          "grade_id": "cell-4fcdbfbaa9ca20de",
          "locked": true,
          "points": 15,
          "schema_version": 3,
          "solution": false,
          "task": false
        },
        "id": "1ede5077"
      },
      "source": [
        "# 15 points: Let's check that you solved the problem through recursion.\n",
        "\n",
        "for _ in range(1000):\n",
        "    n = random.randint(10, 100)\n",
        "    l = list(random.choices(list(range(100)), k=n))\n",
        "    l.sort()\n",
        "    k = random.randint(0, 99)\n",
        "    wl = WeakList(*l, verbose=False)\n",
        "    idx = test_enough_recursion(wl, k)\n",
        "    if k in l:\n",
        "        assert l.index(k) == idx\n",
        "    else:\n",
        "        assert idx is None\n"
      ],
      "id": "1ede5077",
      "execution_count": 12,
      "outputs": []
    }
  ]
}