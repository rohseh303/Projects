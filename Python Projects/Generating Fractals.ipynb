{
  "nbformat": 4,
  "nbformat_minor": 5,
  "metadata": {
    "kernelspec": {
      "display_name": "exams",
      "language": "python",
      "name": "exams"
    },
    "language_info": {
      "codemirror_mode": {
        "name": "ipython",
        "version": 3
      },
      "file_extension": ".py",
      "mimetype": "text/x-python",
      "name": "python",
      "nbconvert_exporter": "python",
      "pygments_lexer": "ipython3",
      "version": "3.7.10"
    },
    "test_info": {
      "id": "8f8d5e96512b87f9c93aa8b9bcd70ad6f6fcc60f"
    },
    "colab": {
      "name": "Homework_2.ipynb",
      "provenance": []
    }
  },
  "cells": [
    {
      "cell_type": "markdown",
      "metadata": {
        "id": "0bb25a6e"
      },
      "source": [
        "Before you turn this problem in, make sure everything runs as expected. First, **restart the kernel** (in the menubar, select Kernel$\\rightarrow$Restart) and then **run all cells** (in the menubar, select Cell$\\rightarrow$Run All).\n",
        "\n",
        "Make sure you fill in any place that says `YOUR CODE HERE` or \"YOUR ANSWER HERE\", as well as your name and collaborators below:"
      ],
      "id": "0bb25a6e"
    },
    {
      "cell_type": "code",
      "metadata": {
        "id": "0bd5766f"
      },
      "source": [
        "NAME = \"\"\n",
        "COLLABORATORS = \"\""
      ],
      "id": "0bd5766f",
      "execution_count": 1,
      "outputs": []
    },
    {
      "cell_type": "markdown",
      "metadata": {
        "id": "16758037"
      },
      "source": [
        "---"
      ],
      "id": "16758037"
    },
    {
      "cell_type": "markdown",
      "metadata": {
        "deletable": false,
        "editable": false,
        "nbgrader": {
          "cell_type": "markdown",
          "checksum": "00ca9fdbdc92fb2f72f3322832642063",
          "grade": false,
          "grade_id": "cell-0a8534f22170e259",
          "locked": true,
          "schema_version": 3,
          "solution": false,
          "task": false
        },
        "id": "952461d2"
      },
      "source": [
        "# CSE 30 Fall 2021 - Homework 2\n",
        "\n",
        "\n",
        "### Instructions\n",
        "\n",
        "Please disregard the YOUR NAME and COLLABORATORS above.  They are put there atomatically by the grading tool.\n",
        "You can find instructions on how to work on a homework on Canvas.  Here is a short summary: \n",
        "\n",
        "### Submitting your work\n",
        "\n",
        "To submit your work: \n",
        "\n",
        "* First, click on \"Runtime > Restart and run all\", and check that you get no errors.  This enables you to catch any error you might have introduced, and not noticed, due to your running cells out of order. \n",
        "* Second, download the notebook in .ipynb format (File > Download .ipynb) and upload the .ipynb file to [this form](https://docs.google.com/forms/d/e/1FAIpQLSc-5NOPlCCsHoTxWTzGVikdHDf1fzKyhXywWqFQNYj84yaYag/viewform?usp=sf_link). \n",
        "\n",
        "You can submit multiple times; the last submission before the deadline is the one that counts.\n",
        "\n",
        "### Homework format\n",
        "\n",
        "For each question in this notebook, there is: \n",
        "\n",
        "* A text description of the problem. \n",
        "* One or more places where you have to insert your solution.  You need to complete every place marked: \n",
        "\n",
        "    `# YOUR CODE HERE`\n",
        "    \n",
        "    and you should not modify any other place. \n",
        "* One or more test cells.  Each cell is worth some number of points, marked at the top.  You should not modify these tests cells.  The tests pass if no error is printed out: when there is a statement that says, for instance: \n",
        "\n",
        "    `assert x == 2`\n",
        "    \n",
        "    then the test passes if `x` has value 2, and fails otherwise.  You can insert a `print(x)` (for this case!) somewhere if you want to debug your work; it is up to you.  \n",
        "    \n",
        "### Notes:\n",
        "\n",
        "* Your code will be tested both according to the tests you can see (the `assert` statements you can see), _and_ additional tests.  This prevents you from hard-coding the answer to the particular questions posed.  Your code should solve the _general_ intended case, not hard-code the particular answer for the values used in the tests. \n",
        "\n",
        "* **Please do not delete or add cells!** The test is autograded, and if you modify the test by adding or deleting cells, even if you re-add cells you delete, you may not receive credit. \n",
        "\n",
        "* **Please do not import modules that are not part of the [standard library](https://docs.python.org/3/library/index.html).** You do not need any, and they will likely not available in the grading environment, leading your code to fail. \n",
        "\n",
        "* **If you are inactive too long, your notebook might get disconnected from the back-end.** Your work is never lost, but you have to re-run all the cells before you continue. \n",
        "\n",
        "* You can write out print statements in your code, to help you test/debug it. But remember: the code is graded on the basis of what it outputs or returns, not on the basis of what it prints.\n",
        "\n",
        "* **TAs and tutors have access to this notebook,** so if you let them know you need their help, they can look at your work and give you advice. \n",
        "\n",
        "### Grading\n",
        "\n",
        "Each cell where there are tests is worth a certain number of points.  You get the points allocated to a cell only if you pass _all_ the tests in the cell. \n",
        "\n",
        "The tests in a cell include both the tests you can see, and other, similar, tests that are used for grading only.  Therefore, you cannot hard-code the solutions: you really have to solve the essence of the problem, to receive the points in a cell. \n",
        "\n",
        "### Code of Conduct\n",
        "\n",
        "* Work on the test yourself, alone. \n",
        "* You can search documentation on the web, on sites such as the Python documentation sites, Stackoverflow, and similar, and you can use the results. \n",
        "* You cannot share your work with others or solicit their help.\n"
      ],
      "id": "952461d2"
    },
    {
      "cell_type": "markdown",
      "metadata": {
        "deletable": false,
        "editable": false,
        "nbgrader": {
          "cell_type": "markdown",
          "checksum": "44ec768ba21999d2aad1ad3f615b496d",
          "grade": false,
          "grade_id": "cell-5bed484f5754dae1",
          "locked": true,
          "schema_version": 3,
          "solution": false,
          "task": false
        },
        "id": "f5c3aad0"
      },
      "source": [
        "## Problem: Fractals"
      ],
      "id": "f5c3aad0"
    },
    {
      "cell_type": "markdown",
      "metadata": {
        "deletable": false,
        "editable": false,
        "nbgrader": {
          "cell_type": "markdown",
          "checksum": "e8ad6e0ca32f081a1a1ff65bf0d25998",
          "grade": false,
          "grade_id": "cell-ec2b68ff6747b3d3",
          "locked": true,
          "schema_version": 3,
          "solution": false,
          "task": false
        },
        "id": "bf71f371"
      },
      "source": [
        "We want to have a bit of fun genrating fractals.  Let's first write a function that, given a sequence of (x,y) points, draws the corresponding polygon: "
      ],
      "id": "bf71f371"
    },
    {
      "cell_type": "code",
      "metadata": {
        "deletable": false,
        "editable": false,
        "nbgrader": {
          "cell_type": "code",
          "checksum": "a06a1b4ac3d78c6f09d3a69d19476061",
          "grade": false,
          "grade_id": "cell-344b4fced6af793a",
          "locked": true,
          "schema_version": 3,
          "solution": false,
          "task": false
        },
        "id": "ba97ec86"
      },
      "source": [
        "import matplotlib.pyplot as plt\n",
        "\n",
        "def draw_polygon(*coords, closed=True):\n",
        "    co = list(coords)\n",
        "    fix, ax = plt.subplots(1, 1)\n",
        "    if closed and co[0] != co[-1]:\n",
        "        co.append(co[0]) # Repeat first point\n",
        "    xs, ys = zip(*co) # Splits coordinates\n",
        "    ax.set_aspect('equal', 'box')\n",
        "    ax.plot(xs, ys)\n",
        "    plt.show()"
      ],
      "id": "ba97ec86",
      "execution_count": 2,
      "outputs": []
    },
    {
      "cell_type": "code",
      "metadata": {
        "deletable": false,
        "editable": false,
        "nbgrader": {
          "cell_type": "code",
          "checksum": "7cf7c230cd7d20d2e369168eefcfed0d",
          "grade": false,
          "grade_id": "cell-10fa6735ba35b26e",
          "locked": true,
          "schema_version": 3,
          "solution": false,
          "task": false
        },
        "id": "8b3f9158",
        "colab": {
          "base_uri": "https://localhost:8080/",
          "height": 265
        },
        "outputId": "bb43b799-782c-4fbc-f92a-dc2fd9a279c2"
      },
      "source": [
        "draw_polygon((0, 0), (1, 2), (2, 0))"
      ],
      "id": "8b3f9158",
      "execution_count": 3,
      "outputs": [
        {
          "output_type": "display_data",
          "data": {
            "image/png": "[encoded data removed]",
            "text/plain": [
              "<Figure size 432x288 with 1 Axes>"
            ]
          },
          "metadata": {
            "needs_background": "light"
          }
        }
      ]
    },
    {
      "cell_type": "markdown",
      "metadata": {
        "deletable": false,
        "editable": false,
        "nbgrader": {
          "cell_type": "markdown",
          "checksum": "15e934aadce7f37b3ec27662e2085738",
          "grade": false,
          "grade_id": "cell-9404c308a3fbebc3",
          "locked": true,
          "schema_version": 3,
          "solution": false,
          "task": false
        },
        "id": "d5328e8b"
      },
      "source": [
        "## Kinking lines"
      ],
      "id": "d5328e8b"
    },
    {
      "cell_type": "markdown",
      "metadata": {
        "deletable": false,
        "editable": false,
        "nbgrader": {
          "cell_type": "markdown",
          "checksum": "915c38b5181d31890c9c88138bb0c5a5",
          "grade": false,
          "grade_id": "cell-60c42e850090bec3",
          "locked": true,
          "schema_version": 3,
          "solution": false,
          "task": false
        },
        "id": "9e7d2dc9"
      },
      "source": [
        "Whenever you have a line like this, from $(x_0, y_0)$ to $(x_1, y_1)$: "
      ],
      "id": "9e7d2dc9"
    },
    {
      "cell_type": "code",
      "metadata": {
        "deletable": false,
        "editable": false,
        "nbgrader": {
          "cell_type": "code",
          "checksum": "0ddbfb0db8a0981be5c329bedbb3d4a6",
          "grade": false,
          "grade_id": "cell-2cdefb773e7e27a0",
          "locked": true,
          "schema_version": 3,
          "solution": false,
          "task": false
        },
        "id": "7073eba4",
        "colab": {
          "base_uri": "https://localhost:8080/",
          "height": 84
        },
        "outputId": "cde8cd72-9588-4679-d148-092d0a8f8246"
      },
      "source": [
        "draw_polygon((0, 0), (1, 0), closed=False)"
      ],
      "id": "7073eba4",
      "execution_count": 4,
      "outputs": [
        {
          "output_type": "display_data",
          "data": {
            "image/png": "[encoded data removed]",
            "text/plain": [
              "<Figure size 432x288 with 1 Axes>"
            ]
          },
          "metadata": {
            "needs_background": "light"
          }
        }
      ]
    },
    {
      "cell_type": "markdown",
      "metadata": {
        "deletable": false,
        "editable": false,
        "nbgrader": {
          "cell_type": "markdown",
          "checksum": "48477cbd0873157ec6c2ef4c67939a8d",
          "grade": false,
          "grade_id": "cell-9ff877bc1b9850b9",
          "locked": true,
          "schema_version": 3,
          "solution": false,
          "task": false
        },
        "id": "a24915ef"
      },
      "source": [
        "You need to add a \"kink\" to it, as follows: "
      ],
      "id": "a24915ef"
    },
    {
      "cell_type": "code",
      "metadata": {
        "deletable": false,
        "editable": false,
        "nbgrader": {
          "cell_type": "code",
          "checksum": "9983d599d79a706ad0d5ad2db0cea516",
          "grade": false,
          "grade_id": "cell-ce9bef0303cf478f",
          "locked": true,
          "schema_version": 3,
          "solution": false,
          "task": false
        },
        "id": "9cedf9df",
        "colab": {
          "base_uri": "https://localhost:8080/",
          "height": 132
        },
        "outputId": "2f47cc07-6bb1-4496-ccc0-b31ac5c5d308"
      },
      "source": [
        "draw_polygon((0, 0), (0.25, 0), (0.5, 0.25), (0.75, 0), (1, 0), closed=False)"
      ],
      "id": "9cedf9df",
      "execution_count": 5,
      "outputs": [
        {
          "output_type": "display_data",
          "data": {
            "image/png": "[encoded data removed]",
            "text/plain": [
              "<Figure size 432x288 with 1 Axes>"
            ]
          },
          "metadata": {
            "needs_background": "light"
          }
        }
      ]
    },
    {
      "cell_type": "markdown",
      "metadata": {
        "deletable": false,
        "editable": false,
        "nbgrader": {
          "cell_type": "markdown",
          "checksum": "4ad0cdf2ceb94d2a277f8e0d6abb5a34",
          "grade": false,
          "grade_id": "cell-f5b47c3fedb79a29",
          "locked": true,
          "schema_version": 3,
          "solution": false,
          "task": false
        },
        "id": "9120b0ee"
      },
      "source": [
        "Now this kink must be invariant with respect to directions and scaling.  For example, if the original line was from up to down: "
      ],
      "id": "9120b0ee"
    },
    {
      "cell_type": "code",
      "metadata": {
        "deletable": false,
        "editable": false,
        "nbgrader": {
          "cell_type": "code",
          "checksum": "e76740d4278553474b37a38d22c434f5",
          "grade": false,
          "grade_id": "cell-18cce172c9285213",
          "locked": true,
          "schema_version": 3,
          "solution": false,
          "task": false
        },
        "id": "a26e6149",
        "colab": {
          "base_uri": "https://localhost:8080/",
          "height": 265
        },
        "outputId": "1819f061-664e-4e22-b30c-0c8e58b71ae8"
      },
      "source": [
        "draw_polygon((0, 0), (0, -1), closed=False)"
      ],
      "id": "a26e6149",
      "execution_count": 6,
      "outputs": [
        {
          "output_type": "display_data",
          "data": {
            "image/png": "[encoded data removed]",
            "text/plain": [
              "<Figure size 432x288 with 1 Axes>"
            ]
          },
          "metadata": {
            "needs_background": "light"
          }
        }
      ]
    },
    {
      "cell_type": "markdown",
      "metadata": {
        "deletable": false,
        "editable": false,
        "nbgrader": {
          "cell_type": "markdown",
          "checksum": "4d65b4e72fcb8a9ce1dc28e5ab11df8e",
          "grade": false,
          "grade_id": "cell-e0e3c9d15420135d",
          "locked": true,
          "schema_version": 3,
          "solution": false,
          "task": false
        },
        "id": "2a0b08a4"
      },
      "source": [
        "Then adding the kind will result in: "
      ],
      "id": "2a0b08a4"
    },
    {
      "cell_type": "code",
      "metadata": {
        "deletable": false,
        "editable": false,
        "nbgrader": {
          "cell_type": "code",
          "checksum": "e82ee6a27952b034291a9cd9f5be9612",
          "grade": false,
          "grade_id": "cell-5dcc0dfc38239482",
          "locked": true,
          "schema_version": 3,
          "solution": false,
          "task": false
        },
        "id": "ca22ab48",
        "colab": {
          "base_uri": "https://localhost:8080/",
          "height": 265
        },
        "outputId": "26ce2ab5-59f9-448c-c70d-751b995ce3d7"
      },
      "source": [
        "draw_polygon((0, 0), (0, -0.25), (0.25, -0.5), (0, -0.75), (0, -1), closed=False)"
      ],
      "id": "ca22ab48",
      "execution_count": 7,
      "outputs": [
        {
          "output_type": "display_data",
          "data": {
            "image/png": "[encoded data removed]",
            "text/plain": [
              "<Figure size 432x288 with 1 Axes>"
            ]
          },
          "metadata": {
            "needs_background": "light"
          }
        }
      ]
    },
    {
      "cell_type": "markdown",
      "metadata": {
        "deletable": false,
        "editable": false,
        "nbgrader": {
          "cell_type": "markdown",
          "checksum": "bbe1cbe55a99cee9c71e15862272e231",
          "grade": false,
          "grade_id": "cell-ab5d5aacd7ad0066",
          "locked": true,
          "schema_version": 3,
          "solution": false,
          "task": false
        },
        "id": "53398c7e"
      },
      "source": [
        "We call the above operation \"adding a kink\".  To define it mathematically, we need to use _vector addition_, so here is a quick reminder. If you have two vectors $v = (v_x, v_y)$ and $w = (w_x, w_y)$, their sum $z = v + w$ is computed in _componentwise fashion_, which in code you can do for instance as follows: \n",
        "\n",
        "    vx, vy = v\n",
        "    wx, wy = w\n",
        "    z = (vx + wv, vy + wy)"
      ],
      "id": "53398c7e"
    },
    {
      "cell_type": "markdown",
      "metadata": {
        "deletable": false,
        "editable": false,
        "nbgrader": {
          "cell_type": "markdown",
          "checksum": "5177ed3796a95cd1b9d7c49a2306c4e3",
          "grade": false,
          "grade_id": "cell-7a575f4802983341",
          "locked": true,
          "schema_version": 3,
          "solution": false,
          "task": false
        },
        "id": "2c7d5370"
      },
      "source": [
        "With that notation, we can define adding a kink as follows. If you have a segment from point $p_0 = (x_0, y_0)$ to point $p_1 = (x_1, y_1)$, its direction is $\\Delta = (x_1, y_1) - (x_0, y_0) = (x_1 - x_0, y_1 - y_0) = (\\Delta_x, \\Delta_y)$, and its perpendicular direction is $\\nu = (-\\Delta_y, \\Delta_x)$.  The points along the kink are then: \n",
        "\n",
        "* $q_0 = p_0$ (initial point);\n",
        "* $q_1 = p_0 + \\frac{1}{4} \\Delta$ (points where it \"kinks up\");\n",
        "* $q_2 = p_0 + \\frac{1}{2} \\Delta + \\frac{1}{4} \\nu$ (tip of the kink); \n",
        "* $q_3 = p_0 + \\frac{3}{4} \\Delta$ (points where it kinks back to straight);\n",
        "* $p_1$ (final point). \n",
        "\n",
        "The first task for you in implementing fractals is to implement a function `kink` that, given a segment from $p_0$ to $p_1$, returns the points $q_0, q_1, q_2, q_3$.  Every point here is represented as a tuple.  Note that the last point $p_1$ is _not_ returned (this will make it easier to kink a polygon).\n"
      ],
      "id": "2c7d5370"
    },
    {
      "cell_type": "code",
      "metadata": {
        "deletable": false,
        "nbgrader": {
          "cell_type": "code",
          "checksum": "659676319940ac073cdde1b02686fa0d",
          "grade": false,
          "grade_id": "cell-3a0c8f99a28e1068",
          "locked": false,
          "schema_version": 3,
          "solution": true,
          "task": false
        },
        "id": "6b2324d1"
      },
      "source": [
        "def kink(p0, p1):\n",
        "    \"\"\"Returns the tuple of the four points q0, q1, q2, q3, resulting from kinking p0, p1.\n",
        "    Note that each q is returned as a two-element tuple.\"\"\"\n",
        "\n",
        "    changeX = p1[0] - p0[0]\n",
        "    changeY =  p1[1] - p0[1]\n",
        "    v = (-changeY, changeX)\n",
        "    #print(v)\n",
        "    #print(changeY)\n",
        "    \n",
        "    q0 = p0\n",
        "    q1 = (p0[0] + 0.25*changeX, p0[1] + 0.25*changeY)\n",
        "    q2 = (p0[0] + 0.50*changeX + 0.25*v[0], p0[1] + 0.5*changeY + 0.25*v[1])\n",
        "    q3 = (p0[0] + 0.75*changeX, p0[1] + 0.75*changeY)\n",
        "    #print(q0,q1,q2,q3)\n",
        "    return (q0,q1,q2,q3)\n",
        "    #draw_polygon(q0, q1, q2, q3, p1, closed=False)"
      ],
      "id": "6b2324d1",
      "execution_count": 8,
      "outputs": []
    },
    {
      "cell_type": "code",
      "metadata": {
        "deletable": false,
        "nbgrader": {
          "cell_type": "code",
          "checksum": "974cbd0b6b695419f8ef305cf545cbf2",
          "grade": false,
          "grade_id": "cell-d3f8ee3adfae5572",
          "locked": false,
          "schema_version": 3,
          "solution": true,
          "task": false
        },
        "id": "0953a398"
      },
      "source": [
        "## Here you can test your code. \n",
        "\n",
        "# YOUR CODE HERE"
      ],
      "id": "0953a398",
      "execution_count": 9,
      "outputs": []
    },
    {
      "cell_type": "markdown",
      "metadata": {
        "deletable": false,
        "editable": false,
        "nbgrader": {
          "cell_type": "markdown",
          "checksum": "1991d63faf631fb52a437ac1fe9e9ea4",
          "grade": false,
          "grade_id": "cell-f4bcea98fd86c8e1",
          "locked": true,
          "schema_version": 3,
          "solution": false,
          "task": false
        },
        "id": "ac40ea4c"
      },
      "source": [
        "Let's check that this works for the two cases above. "
      ],
      "id": "ac40ea4c"
    },
    {
      "cell_type": "code",
      "metadata": {
        "deletable": false,
        "editable": false,
        "nbgrader": {
          "cell_type": "code",
          "checksum": "d00f9ec39c10481c93066b8107dfed6a",
          "grade": true,
          "grade_id": "cell-a52a30937990e848",
          "locked": true,
          "points": 5,
          "schema_version": 3,
          "solution": false,
          "task": false
        },
        "id": "39897fcf"
      },
      "source": [
        "# 5 pt\n",
        "\n",
        "assert kink((0, 0), (1, 0)) == ((0, 0), (0.25, 0.0), (0.5, 0.25), (0.75, 0.0))\n",
        "assert kink((0, 0), (0, -1)) == ((0, 0), (0.0, -0.25), (0.25, -0.5), (0.0, -0.75))"
      ],
      "id": "39897fcf",
      "execution_count": 10,
      "outputs": []
    },
    {
      "cell_type": "markdown",
      "metadata": {
        "deletable": false,
        "editable": false,
        "nbgrader": {
          "cell_type": "markdown",
          "checksum": "34bb327b13db06bde648d8e43f10f790",
          "grade": false,
          "grade_id": "cell-335b288932a2cfa0",
          "locked": true,
          "schema_version": 3,
          "solution": false,
          "task": false
        },
        "id": "789ae5c9"
      },
      "source": [
        "For the general case, let us define an approximate comparison of a list of points. "
      ],
      "id": "789ae5c9"
    },
    {
      "cell_type": "code",
      "metadata": {
        "deletable": false,
        "editable": false,
        "nbgrader": {
          "cell_type": "code",
          "checksum": "2b54ba03574801fbb0be198f6866e837",
          "grade": false,
          "grade_id": "cell-bde056d2947dfba4",
          "locked": true,
          "schema_version": 3,
          "solution": false,
          "task": false
        },
        "id": "d94bddda"
      },
      "source": [
        "def approxeq(list1, list2, epsilon=0.001):\n",
        "    assert len(list1) == len(list2)\n",
        "    for p1, p2 in zip(list1, list2):\n",
        "        x1, y1 = p1\n",
        "        x2, y2 = p2\n",
        "        assert abs(x2 - x1) < epsilon and abs(y2 - y1) < epsilon"
      ],
      "id": "d94bddda",
      "execution_count": 11,
      "outputs": []
    },
    {
      "cell_type": "code",
      "metadata": {
        "deletable": false,
        "editable": false,
        "nbgrader": {
          "cell_type": "code",
          "checksum": "e6cc9c46e60147f01eb1461b186457a4",
          "grade": true,
          "grade_id": "cell-b7754134f8311708",
          "locked": true,
          "points": 0,
          "schema_version": 3,
          "solution": false,
          "task": false
        },
        "id": "4ec5013a"
      },
      "source": [
        "approxeq(kink((0, 0), (1, 0)), ((0, 0), (0.25, 0.0), (0.5, 0.25), (0.75, 0.0)))"
      ],
      "id": "4ec5013a",
      "execution_count": 12,
      "outputs": []
    },
    {
      "cell_type": "code",
      "metadata": {
        "deletable": false,
        "editable": false,
        "nbgrader": {
          "cell_type": "code",
          "checksum": "534953b0a672f79f560cc222e96d0c33",
          "grade": true,
          "grade_id": "cell-cabd67db5025422c",
          "locked": true,
          "points": 10,
          "schema_version": 3,
          "solution": false,
          "task": false
        },
        "id": "c4a26c88"
      },
      "source": [
        "# 10 points: The kink should work in general. \n",
        "\n",
        "approxeq(kink((0, 0), (4, 5)), ((0, 0), (1.0, 1.25), (0.75, 3.5), (3.0, 3.75)))\n",
        "approxeq(kink((4, 3), (-9, -1)), ((4, 3), (0.75, 2.0), (-1.5, -2.25), (-5.75, 0.0)))\n"
      ],
      "id": "c4a26c88",
      "execution_count": 13,
      "outputs": []
    },
    {
      "cell_type": "markdown",
      "metadata": {
        "deletable": false,
        "editable": false,
        "nbgrader": {
          "cell_type": "markdown",
          "checksum": "0e6b8ed755ef5e67d4a02cfb7d0d4e11",
          "grade": false,
          "grade_id": "cell-0cc0dac02d295c51",
          "locked": true,
          "schema_version": 3,
          "solution": false,
          "task": false
        },
        "id": "83ae9e5c"
      },
      "source": [
        "## Kinking polygons"
      ],
      "id": "83ae9e5c"
    },
    {
      "cell_type": "markdown",
      "metadata": {
        "deletable": false,
        "editable": false,
        "nbgrader": {
          "cell_type": "markdown",
          "checksum": "0a1e6d66f037ed7abc3e37f7ca689e90",
          "grade": false,
          "grade_id": "cell-92cfc2787d3b2c01",
          "locked": true,
          "schema_version": 3,
          "solution": false,
          "task": false
        },
        "id": "3703fd07"
      },
      "source": [
        "To kink a polygon, we simply kink every one of its segments.  It looks like this.  If the basic polygon is: "
      ],
      "id": "3703fd07"
    },
    {
      "cell_type": "code",
      "metadata": {
        "deletable": false,
        "editable": false,
        "nbgrader": {
          "cell_type": "code",
          "checksum": "2a8373dddb68db8ee69904487c1cec8c",
          "grade": false,
          "grade_id": "cell-17c3de4f0030d865",
          "locked": true,
          "schema_version": 3,
          "solution": false,
          "task": false
        },
        "id": "9e85bb28",
        "colab": {
          "base_uri": "https://localhost:8080/",
          "height": 265
        },
        "outputId": "564f8710-7e83-40c1-95a4-c632c3f067ef"
      },
      "source": [
        "poly1 = [(0, 0), (1, 2), (2, 0)]\n",
        "draw_polygon(*poly1)"
      ],
      "id": "9e85bb28",
      "execution_count": 14,
      "outputs": [
        {
          "output_type": "display_data",
          "data": {
            "image/png": "[encoded data removed]",
            "text/plain": [
              "<Figure size 432x288 with 1 Axes>"
            ]
          },
          "metadata": {
            "needs_background": "light"
          }
        }
      ]
    },
    {
      "cell_type": "markdown",
      "metadata": {
        "deletable": false,
        "editable": false,
        "nbgrader": {
          "cell_type": "markdown",
          "checksum": "31fee60f2223765515b6c5b9daf2dbfb",
          "grade": false,
          "grade_id": "cell-42a5fae00ddcb0cb",
          "locked": true,
          "schema_version": 3,
          "solution": false,
          "task": false
        },
        "id": "d6e808f8"
      },
      "source": [
        "Then its kinked version has to look like this: "
      ],
      "id": "d6e808f8"
    },
    {
      "cell_type": "markdown",
      "metadata": {
        "deletable": false,
        "editable": false,
        "nbgrader": {
          "cell_type": "markdown",
          "checksum": "debec83de67a1a824e4d982413d10be2",
          "grade": false,
          "grade_id": "cell-362e68ab18c84d53",
          "locked": true,
          "schema_version": 3,
          "solution": false,
          "task": false
        },
        "id": "42d98970"
      },
      "source": [
        "![Kinked Polygon](data:image/png;base64,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)"
      ],
      "id": "42d98970"
    },
    {
      "cell_type": "markdown",
      "metadata": {
        "deletable": false,
        "editable": false,
        "nbgrader": {
          "cell_type": "markdown",
          "checksum": "1416c71f14e5252f9b1e6e505aa66f12",
          "grade": false,
          "grade_id": "cell-73f0a8dad69e70f5",
          "locked": true,
          "schema_version": 3,
          "solution": false,
          "task": false
        },
        "id": "e9500e68"
      },
      "source": [
        "Write below the kinked polygon function. "
      ],
      "id": "e9500e68"
    },
    {
      "cell_type": "code",
      "metadata": {
        "deletable": false,
        "nbgrader": {
          "cell_type": "code",
          "checksum": "4ad303c1132b8bbf7a4ab69ac8de1a8f",
          "grade": false,
          "grade_id": "cell-2bf54fa29b687eb9",
          "locked": false,
          "schema_version": 3,
          "solution": true,
          "task": false
        },
        "id": "c8b6180f"
      },
      "source": [
        "def kink_polygon(poly):\n",
        "    poly1 = []\n",
        "    poly2 = []\n",
        "    for i in range (0, len(poly)):\n",
        "        #print(i)\n",
        "        if i == len(poly)-1:\n",
        "            p0 = poly[i]\n",
        "            p1 = poly[0]\n",
        "            changeX = p1[0] - p0[0]\n",
        "            changeY =  p1[1] - p0[1]\n",
        "            v = (-changeY, changeX)\n",
        "            #print(v)\n",
        "            #print(changeY)\n",
        "    \n",
        "            q0 = p0\n",
        "            q1 = (p0[0] + 0.25*changeX, p0[1] + 0.25*changeY)\n",
        "            q2 = (p0[0] + 0.50*changeX + 0.25*v[0], p0[1] + 0.5*changeY + 0.25*v[1])\n",
        "            q3 = (p0[0] + 0.75*changeX, p0[1] + 0.75*changeY)\n",
        "            poly1.append(q0)\n",
        "            poly1.append(q1)\n",
        "            poly1.append(q2)\n",
        "            poly1.append(q3)\n",
        "        else:\n",
        "            p0 = poly[i]\n",
        "            p1 = poly[i+1]\n",
        "            changeX = p1[0] - p0[0]\n",
        "            changeY =  p1[1] - p0[1]\n",
        "            v = (-changeY, changeX)\n",
        "            #print(v)\n",
        "            #print(changeY)\n",
        "    \n",
        "            q0 = p0\n",
        "            q1 = (p0[0] + 0.25*changeX, p0[1] + 0.25*changeY)\n",
        "            q2 = (p0[0] + 0.50*changeX + 0.25*v[0], p0[1] + 0.5*changeY + 0.25*v[1])\n",
        "            q3 = (p0[0] + 0.75*changeX, p0[1] + 0.75*changeY)\n",
        "            poly1.append(q0)\n",
        "            poly1.append(q1)\n",
        "            poly1.append(q2)\n",
        "            poly1.append(q3)\n",
        "    return poly1"
      ],
      "id": "c8b6180f",
      "execution_count": 15,
      "outputs": []
    },
    {
      "cell_type": "code",
      "metadata": {
        "deletable": false,
        "nbgrader": {
          "cell_type": "code",
          "checksum": "1b8bec5a2e3934a117f9896fc12cfea9",
          "grade": false,
          "grade_id": "cell-b7f7a4f216cccf2c",
          "locked": false,
          "schema_version": 3,
          "solution": true,
          "task": false
        },
        "id": "f1cefb99"
      },
      "source": [
        "# You can use this space to debug your code. \n",
        "\n",
        "# YOUR CODE HERE"
      ],
      "id": "f1cefb99",
      "execution_count": 16,
      "outputs": []
    },
    {
      "cell_type": "markdown",
      "metadata": {
        "deletable": false,
        "editable": false,
        "nbgrader": {
          "cell_type": "markdown",
          "checksum": "01723d0986dbe18afd021b906b08a96c",
          "grade": false,
          "grade_id": "cell-54e5d55678e5467c",
          "locked": true,
          "schema_version": 3,
          "solution": false,
          "task": false
        },
        "id": "b826fe6b"
      },
      "source": [
        "Let us check that the solution works as intended. "
      ],
      "id": "b826fe6b"
    },
    {
      "cell_type": "code",
      "metadata": {
        "deletable": false,
        "editable": false,
        "nbgrader": {
          "cell_type": "code",
          "checksum": "165c2cd83edb3cb05fdec749527a834e",
          "grade": false,
          "grade_id": "cell-ca65d82f955da629",
          "locked": true,
          "schema_version": 3,
          "solution": false,
          "task": false
        },
        "id": "b7e0131b",
        "colab": {
          "base_uri": "https://localhost:8080/",
          "height": 265
        },
        "outputId": "50686a58-7be6-4e45-de2f-08bd323154b9"
      },
      "source": [
        "poly1 = [(0, 0), (1, 2), (2, 0)]\n",
        "poly2 = kink_polygon(poly1)\n",
        "draw_polygon(*poly2)"
      ],
      "id": "b7e0131b",
      "execution_count": 17,
      "outputs": [
        {
          "output_type": "display_data",
          "data": {
            "image/png": "[encoded data removed]",
            "text/plain": [
              "<Figure size 432x288 with 1 Axes>"
            ]
          },
          "metadata": {
            "needs_background": "light"
          }
        }
      ]
    },
    {
      "cell_type": "markdown",
      "metadata": {
        "deletable": false,
        "editable": false,
        "nbgrader": {
          "cell_type": "markdown",
          "checksum": "c965940edaee947b5e090d10266e8359",
          "grade": false,
          "grade_id": "cell-6c41ec08e92ebe54",
          "locked": true,
          "schema_version": 3,
          "solution": false,
          "task": false
        },
        "id": "0303842c"
      },
      "source": [
        "We can kink it one more time!"
      ],
      "id": "0303842c"
    },
    {
      "cell_type": "code",
      "metadata": {
        "deletable": false,
        "editable": false,
        "nbgrader": {
          "cell_type": "code",
          "checksum": "1f8fde2b0a0c1c007b02c55c94eddc54",
          "grade": false,
          "grade_id": "cell-4c258add9a811bf8",
          "locked": true,
          "schema_version": 3,
          "solution": false,
          "task": false
        },
        "id": "fa5deb28",
        "colab": {
          "base_uri": "https://localhost:8080/",
          "height": 265
        },
        "outputId": "e6c3d986-6ac7-40b7-b806-7b4ee71c0967"
      },
      "source": [
        "poly3 = kink_polygon(poly2)\n",
        "draw_polygon(*poly3)"
      ],
      "id": "fa5deb28",
      "execution_count": 18,
      "outputs": [
        {
          "output_type": "display_data",
          "data": {
            "image/png": "[encoded data removed]",
            "text/plain": [
              "<Figure size 432x288 with 1 Axes>"
            ]
          },
          "metadata": {
            "needs_background": "light"
          }
        }
      ]
    },
    {
      "cell_type": "markdown",
      "metadata": {
        "deletable": false,
        "editable": false,
        "nbgrader": {
          "cell_type": "markdown",
          "checksum": "80bf64ef47128b3367dd36b9c051bf9c",
          "grade": false,
          "grade_id": "cell-f602297e079815af",
          "locked": true,
          "schema_version": 3,
          "solution": false,
          "task": false
        },
        "id": "a872bb6b"
      },
      "source": [
        "Let us check that your solution works. "
      ],
      "id": "a872bb6b"
    },
    {
      "cell_type": "code",
      "metadata": {
        "deletable": false,
        "editable": false,
        "nbgrader": {
          "cell_type": "code",
          "checksum": "ce2ab09351dc64c19cb29c15f74d2d9b",
          "grade": true,
          "grade_id": "cell-e60f100ae9b79491",
          "locked": true,
          "points": 5,
          "schema_version": 3,
          "solution": false,
          "task": false
        },
        "id": "8a65533b"
      },
      "source": [
        "poly1 = [(0, 0), (1, 2), (2, 0)]\n",
        "poly2 = kink_polygon(poly1)\n",
        "approxeq(poly2, [(0, 0),\n",
        " (0.25, 0.5),\n",
        " (0.0, 1.25),\n",
        " (0.75, 1.5),\n",
        " (1, 2),\n",
        " (1.25, 1.5),\n",
        " (2.0, 1.25),\n",
        " (1.75, 0.5),\n",
        " (2, 0),\n",
        " (1.5, 0.0),\n",
        " (1.0, -0.5),\n",
        " (0.5, 0.0)])\n",
        "poly3 = kink_polygon(poly2)\n",
        "approxeq(poly3, [(0, 0),\n",
        " (0.0625, 0.125),\n",
        " (0.0, 0.3125),\n",
        " (0.1875, 0.375),\n",
        " (0.25, 0.5),\n",
        " (0.1875, 0.6875),\n",
        " (-0.0625, 0.8125),\n",
        " (0.0625, 1.0625),\n",
        " (0.0, 1.25),\n",
        " (0.1875, 1.3125),\n",
        " (0.3125, 1.5625),\n",
        " (0.5625, 1.4375),\n",
        " (0.75, 1.5),\n",
        " (0.8125, 1.625),\n",
        " (0.75, 1.8125),\n",
        " (0.9375, 1.875),\n",
        " (1, 2),\n",
        " (1.0625, 1.875),\n",
        " (1.25, 1.8125),\n",
        " (1.1875, 1.625),\n",
        " (1.25, 1.5),\n",
        " (1.4375, 1.4375),\n",
        " (1.6875, 1.5625),\n",
        " (1.8125, 1.3125),\n",
        " (2.0, 1.25),\n",
        " (1.9375, 1.0625),\n",
        " (2.0625, 0.8125),\n",
        " (1.8125, 0.6875),\n",
        " (1.75, 0.5),\n",
        " (1.8125, 0.375),\n",
        " (2.0, 0.3125),\n",
        " (1.9375, 0.125),\n",
        " (2, 0),\n",
        " (1.875, 0.0),\n",
        " (1.75, -0.125),\n",
        " (1.625, 0.0),\n",
        " (1.5, 0.0),\n",
        " (1.375, -0.125),\n",
        " (1.375, -0.375),\n",
        " (1.125, -0.375),\n",
        " (1.0, -0.5),\n",
        " (0.875, -0.375),\n",
        " (0.625, -0.375),\n",
        " (0.625, -0.125),\n",
        " (0.5, 0.0),\n",
        " (0.375, 0.0),\n",
        " (0.25, -0.125),\n",
        " (0.125, 0.0)])"
      ],
      "id": "8a65533b",
      "execution_count": 19,
      "outputs": []
    },
    {
      "cell_type": "markdown",
      "metadata": {
        "deletable": false,
        "editable": false,
        "nbgrader": {
          "cell_type": "markdown",
          "checksum": "641b86ef68ff77e383bacfd2c2575da0",
          "grade": false,
          "grade_id": "cell-7feee7da587f3d61",
          "locked": true,
          "schema_version": 3,
          "solution": false,
          "task": false
        },
        "id": "1896e20f"
      },
      "source": [
        "Here are some hidden tests, just for the sake of suspence."
      ],
      "id": "1896e20f"
    },
    {
      "cell_type": "code",
      "metadata": {
        "deletable": false,
        "editable": false,
        "nbgrader": {
          "cell_type": "code",
          "checksum": "b335eeff5f4afd2722a2281b3374a433",
          "grade": true,
          "grade_id": "cell-9bf9d8baa241e405",
          "locked": true,
          "points": 10,
          "schema_version": 3,
          "solution": false,
          "task": false
        },
        "id": "dcff8fd2"
      },
      "source": [
        "# 10 points.  Kinking a polygon in the dark. \n"
      ],
      "id": "dcff8fd2",
      "execution_count": 20,
      "outputs": []
    },
    {
      "cell_type": "markdown",
      "metadata": {
        "id": "e1da2639"
      },
      "source": [
        "## Areas and perimeter\n",
        "\n",
        "What's interesting about fractals is their area and perimeter.  If you have a polygon \n",
        "$(x_1, y_1), (x_2, y_2), \\ldots, (x_n, y_n)$, you can find the area via: \n",
        "\n",
        "$$\n",
        "\\sum_{i = 1}^{n} (x_{i+1} - x_i) \\cdot \\frac{y_i + y_{i+1}}{2} \\; ,\n",
        "$$\n",
        "\n",
        "and the perimeter via\n",
        "\n",
        "$$\n",
        "\\sum_{i=1}^n \\sqrt{(x_{i+1} - x_i)^2 + (y_{i+1} - y_i)^2} \\; , \n",
        "$$\n",
        "\n",
        "where we have used the convention that $x_{n+1} = x_1$ and $y_{n+1} = y_1$. \n",
        "Write functions to implement the above and compute area and perimeter of a polygon. "
      ],
      "id": "e1da2639"
    },
    {
      "cell_type": "code",
      "metadata": {
        "deletable": false,
        "nbgrader": {
          "cell_type": "code",
          "checksum": "ec7dccedeff747996c868317af0da43e",
          "grade": false,
          "grade_id": "cell-38beb1988b9d2c50",
          "locked": false,
          "schema_version": 3,
          "solution": true,
          "task": false
        },
        "id": "66d5f194"
      },
      "source": [
        "def poly_area(polygon):\n",
        "    \"\"\"Returns the area of a polygon.\"\"\"\n",
        "    area = 0\n",
        "    for i in range(0, len(polygon)-1):\n",
        "        #print(i)\n",
        "        b = polygon[i + 1][0] - polygon[i][0]\n",
        "        h = polygon[i][1] + polygon[i+1][1]\n",
        "        area += 0.5*h*b\n",
        "    return area"
      ],
      "id": "66d5f194",
      "execution_count": 21,
      "outputs": []
    },
    {
      "cell_type": "code",
      "metadata": {
        "deletable": false,
        "nbgrader": {
          "cell_type": "code",
          "checksum": "5e77f12d6e1f0f784925af6d901db2f8",
          "grade": false,
          "grade_id": "cell-1e651f7a7798d566",
          "locked": false,
          "schema_version": 3,
          "solution": true,
          "task": false
        },
        "id": "8aa984e8"
      },
      "source": [
        "import math \n",
        "\n",
        "def poly_perimeter(polygon):\n",
        "    \"\"\"Returns the perimeter of a polygon.\"\"\"\n",
        "    perimeter = 0\n",
        "    for i in range(0, len(polygon)-1):\n",
        "        perimeter += pow((pow(polygon[i+1][0] - polygon[i][0], 2)+pow(polygon[i+1][1] - polygon[i][1], 2)), 0.5)\n",
        "    perimeter += pow(pow(polygon[0][0] - polygon[len(polygon)-1][0], 2) + pow(polygon[0][1] - polygon[len(polygon)-1][1], 2), 0.5)\n",
        "    return perimeter"
      ],
      "id": "8aa984e8",
      "execution_count": 22,
      "outputs": []
    },
    {
      "cell_type": "code",
      "metadata": {
        "deletable": false,
        "nbgrader": {
          "cell_type": "code",
          "checksum": "9cfca13a449d1f41f0b77deafbb26dc6",
          "grade": false,
          "grade_id": "cell-907a72336aa0f57d",
          "locked": false,
          "schema_version": 3,
          "solution": true,
          "task": false
        },
        "id": "64d110f6"
      },
      "source": [
        "## Here you can test your code. \n",
        "\n",
        "# YOUR CODE HERE"
      ],
      "id": "64d110f6",
      "execution_count": 23,
      "outputs": []
    },
    {
      "cell_type": "markdown",
      "metadata": {
        "deletable": false,
        "editable": false,
        "nbgrader": {
          "cell_type": "markdown",
          "checksum": "0be467e1882e0db84b2ea3f99e4cdd8b",
          "grade": false,
          "grade_id": "cell-e9160f7f91b374ef",
          "locked": true,
          "schema_version": 3,
          "solution": false,
          "task": false
        },
        "id": "7e9e0925"
      },
      "source": [
        "Let us test both functions. "
      ],
      "id": "7e9e0925"
    },
    {
      "cell_type": "code",
      "metadata": {
        "deletable": false,
        "editable": false,
        "nbgrader": {
          "cell_type": "code",
          "checksum": "b13f87fdfb483fbb5e9b4077d098e9c5",
          "grade": true,
          "grade_id": "cell-97eefb64b915f006",
          "locked": true,
          "points": 10,
          "schema_version": 3,
          "solution": false,
          "task": false
        },
        "id": "f7a766e6"
      },
      "source": [
        "# 10 points: area and perimeter of polygons. \n",
        "\n",
        "poly1 = [(0, 0), (1, 2), (2, 0)]\n",
        "assert poly_area(poly1) == 2\n",
        "assert abs(poly_perimeter(poly1) - 6.472) < 0.01\n"
      ],
      "id": "f7a766e6",
      "execution_count": 24,
      "outputs": []
    },
    {
      "cell_type": "markdown",
      "metadata": {
        "deletable": false,
        "editable": false,
        "nbgrader": {
          "cell_type": "markdown",
          "checksum": "62c815ae11c809be217844623179cc9c",
          "grade": false,
          "grade_id": "cell-4dbfa8accf5ed0af",
          "locked": true,
          "schema_version": 3,
          "solution": false,
          "task": false
        },
        "id": "c1273e04"
      },
      "source": [
        "Let us visualize repeated kinking. "
      ],
      "id": "c1273e04"
    },
    {
      "cell_type": "code",
      "metadata": {
        "id": "d3243e74",
        "colab": {
          "base_uri": "https://localhost:8080/",
          "height": 1000
        },
        "outputId": "a8d190ce-df5c-467d-e28a-b432e268e665"
      },
      "source": [
        "poly = [(0, 0), (1, 2), (2, 0)]\n",
        "for n in range(6):\n",
        "    poly = kink_polygon(poly)\n",
        "    draw_polygon(*poly)"
      ],
      "id": "d3243e74",
      "execution_count": 25,
      "outputs": [
        {
          "output_type": "display_data",
          "data": {
            "image/png": "[encoded data removed]",
            "text/plain": [
              "<Figure size 432x288 with 1 Axes>"
            ]
          },
          "metadata": {
            "needs_background": "light"
          }
        },
        {
          "output_type": "display_data",
          "data": {
            "image/png": "[encoded data removed]",
            "text/plain": [
              "<Figure size 432x288 with 1 Axes>"
            ]
          },
          "metadata": {
            "needs_background": "light"
          }
        },
        {
          "output_type": "display_data",
          "data": {
            "image/png": "[encoded data removed]",
            "text/plain": [
              "<Figure size 432x288 with 1 Axes>"
            ]
          },
          "metadata": {
            "needs_background": "light"
          }
        },
        {
          "output_type": "display_data",
          "data": {
            "image/png": "[encoded data removed]",
            "text/plain": [
              "<Figure size 432x288 with 1 Axes>"
            ]
          },
          "metadata": {
            "needs_background": "light"
          }
        },
        {
          "output_type": "display_data",
          "data": {
            "image/png": "[encoded data removed]",
            "text/plain": [
              "<Figure size 432x288 with 1 Axes>"
            ]
          },
          "metadata": {
            "needs_background": "light"
          }
        },
        {
          "output_type": "display_data",
          "data": {
            "image/png": "[encoded data removed]",
            "text/plain": [
              "<Figure size 432x288 with 1 Axes>"
            ]
          },
          "metadata": {
            "needs_background": "light"
          }
        }
      ]
    },
    {
      "cell_type": "markdown",
      "metadata": {
        "id": "e1b1f865"
      },
      "source": [
        "Let's see how area and perimeter change as we add kinks. "
      ],
      "id": "e1b1f865"
    },
    {
      "cell_type": "code",
      "metadata": {
        "deletable": false,
        "editable": false,
        "nbgrader": {
          "cell_type": "code",
          "checksum": "5a086cb91121be26281fe8772bcb7cef",
          "grade": true,
          "grade_id": "cell-733c5457b2455c14",
          "locked": true,
          "points": 5,
          "schema_version": 3,
          "solution": false,
          "task": false
        },
        "id": "f64ca9ac",
        "colab": {
          "base_uri": "https://localhost:8080/"
        },
        "outputId": "2204eee4-2197-4a8c-8b1d-28e894bcfb40"
      },
      "source": [
        "# 5 points.  Behavior of perimeter, area.  \n",
        "\n",
        "poly = [(0, 0), (0, 1), (1, 1), (1, 0)]\n",
        "for n in range(7):\n",
        "    poly = kink_polygon(poly)\n",
        "    area = poly_area(poly)\n",
        "    perim = poly_perimeter(poly)\n",
        "    print(\"Area:\", area, \"Perimeter:\", perim)\n",
        "assert 14.9 < perim < 15\n",
        "assert 1.399 < area < 1.4"
      ],
      "id": "f64ca9ac",
      "execution_count": 26,
      "outputs": [
        {
          "output_type": "stream",
          "name": "stdout",
          "text": [
            "Area: 1.25 Perimeter: 4.828427124746191\n",
            "Area: 1.34375 Perimeter: 5.828427124746187\n",
            "Area: 1.37890625 Perimeter: 7.035533905932754\n",
            "Area: 1.39208984375 Perimeter: 8.492640687119291\n",
            "Area: 1.39703369140625 Perimeter: 10.25152416360244\n",
            "Area: 1.3988876342773438 Perimeter: 12.374684335382558\n",
            "Area: 1.399582862854004 Perimeter: 14.93756537627452\n"
          ]
        }
      ]
    },
    {
      "cell_type": "markdown",
      "metadata": {
        "deletable": false,
        "editable": false,
        "nbgrader": {
          "cell_type": "markdown",
          "checksum": "1e81a4c0c869e68f2291449d4186db28",
          "grade": false,
          "grade_id": "cell-6db8b044365962ef",
          "locked": true,
          "schema_version": 3,
          "solution": false,
          "task": false
        },
        "id": "114d0d19"
      },
      "source": [
        "See what happens?  The area converges, but the perimeter does not.  You end up with a finite area with an infinite perimeter.  That's true for every polygon you start with: "
      ],
      "id": "114d0d19"
    },
    {
      "cell_type": "code",
      "metadata": {
        "deletable": false,
        "editable": false,
        "nbgrader": {
          "cell_type": "code",
          "checksum": "8f3f55f9f8e592ac03f7b8a78ef56b45",
          "grade": true,
          "grade_id": "cell-9b738a35cd9b5bcf",
          "locked": true,
          "points": 5,
          "schema_version": 3,
          "solution": false,
          "task": false
        },
        "id": "cce3b076",
        "colab": {
          "base_uri": "https://localhost:8080/"
        },
        "outputId": "f2b7ba50-09ab-48a4-ede8-ce234de2f9e8"
      },
      "source": [
        "# 5 points.  Behavior of perimeter, area\n",
        "\n",
        "poly = [(0, 1), (1, 4), (6, 4), (8, 1)]\n",
        "for n in range(7):\n",
        "    poly = kink_polygon(poly)\n",
        "    area = poly_area(poly)\n",
        "    perim = poly_perimeter(poly)\n",
        "    print(\"Area:\", area, \"Perimeter:\", perim)\n",
        "assert 30.6 < area < 31\n",
        "assert 73 < perim < 74"
      ],
      "id": "cce3b076",
      "execution_count": 27,
      "outputs": [
        {
          "output_type": "stream",
          "name": "stdout",
          "text": [
            "Area: 28.5 Perimeter: 23.861880357537487\n",
            "Area: 29.625 Perimeter: 28.803837591445575\n",
            "Area: 30.234375 Perimeter: 34.769307680829996\n",
            "Area: 30.509765625 Perimeter: 41.97026707869125\n",
            "Area: 30.624755859375 Perimeter: 50.662593998898366\n",
            "Area: 30.670806884765625 Perimeter: 61.15516076857142\n",
            "Area: 30.68880844116211 Perimeter: 73.82080926826043\n"
          ]
        }
      ]
    }
  ]
}