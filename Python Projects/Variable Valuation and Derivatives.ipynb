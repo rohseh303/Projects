{
  "nbformat": 4,
  "nbformat_minor": 0,
  "metadata": {
    "colab": {
      "name": "Homework_8.ipynb",
      "provenance": [],
      "collapsed_sections": []
    },
    "kernelspec": {
      "display_name": "Python 3",
      "language": "python",
      "name": "python3"
    },
    "language_info": {
      "codemirror_mode": {
        "name": "ipython",
        "version": 3
      },
      "file_extension": ".py",
      "mimetype": "text/x-python",
      "name": "python",
      "nbconvert_exporter": "python",
      "pygments_lexer": "ipython3",
      "version": "3.7.10"
    },
    "test_info": {
      "id": "8f8d5e96512b87f9c93aa8b9bcd70ad6f6fcc60f"
    }
  },
  "cells": [
    {
      "cell_type": "markdown",
      "metadata": {
        "id": "zp6emcHlz60B"
      },
      "source": [
        "Before you turn this problem in, make sure everything runs as expected. First, **restart the kernel** (in the menubar, select Kernel$\\rightarrow$Restart) and then **run all cells** (in the menubar, select Cell$\\rightarrow$Run All).\n",
        "\n",
        "Make sure you fill in any place that says `YOUR CODE HERE` or \"YOUR ANSWER HERE\", as well as your name and collaborators below:"
      ]
    },
    {
      "cell_type": "code",
      "metadata": {
        "id": "uddJqTPjz60D"
      },
      "source": [
        "NAME = \"\"\n",
        "COLLABORATORS = \"\""
      ],
      "execution_count": 33,
      "outputs": []
    },
    {
      "cell_type": "markdown",
      "metadata": {
        "id": "vfkuRx44z60E"
      },
      "source": [
        "---"
      ]
    },
    {
      "cell_type": "markdown",
      "metadata": {
        "deletable": false,
        "editable": false,
        "nbgrader": {
          "cell_type": "markdown",
          "checksum": "189a63922f27ec62787c7ded71b290d7",
          "grade": false,
          "grade_id": "cell-a9f76b15ff05842a",
          "locked": true,
          "schema_version": 3,
          "solution": false,
          "task": false
        },
        "id": "ZK7uW-pVz60E"
      },
      "source": [
        "# CSE 30 Fall 2021 - Homework 8\n",
        "\n",
        "\n",
        "### Instructions\n",
        "\n",
        "Please disregard the YOUR NAME and COLLABORATORS above.  They are put there atomatically by the grading tool.\n",
        "You can find instructions on how to work on a homework on Canvas.  Here is a short summary: \n",
        "\n",
        "### Submitting your work\n",
        "\n",
        "To submit your work: \n",
        "\n",
        "* First, click on \"Runtime > Restart and run all\", and check that you get no errors.  This enables you to catch any error you might have introduced, and not noticed, due to your running cells out of order. \n",
        "* Second, download the notebook in .ipynb format (File > Download .ipynb) and upload the .ipynb file to [this form](https://docs.google.com/forms/d/e/1FAIpQLSfJz0Qg-Ry193nmhD_BpeurSXSwe9vrqrwQuAAeWLta1xjlVA/viewform?usp=sf_link). \n",
        "\n",
        "You can submit multiple times; the last submission before the deadline is the one that counts.\n",
        "\n",
        "### Homework format\n",
        "\n",
        "For each question in this notebook, there is: \n",
        "\n",
        "* A text description of the problem. \n",
        "* One or more places where you have to insert your solution.  You need to complete every place marked: \n",
        "\n",
        "    `# YOUR CODE HERE`\n",
        "    \n",
        "    and you should not modify any other place. \n",
        "* One or more test cells.  Each cell is worth some number of points, marked at the top.  You should not modify these tests cells.  The tests pass if no error is printed out: when there is a statement that says, for instance: \n",
        "\n",
        "    `assert x == 2`\n",
        "    \n",
        "    then the test passes if `x` has value 2, and fails otherwise.  You can insert a `print(x)` (for this case!) somewhere if you want to debug your work; it is up to you.  \n",
        "    \n",
        "### Notes:\n",
        "\n",
        "* Your code will be tested both according to the tests you can see (the `assert` statements you can see), _and_ additional tests.  This prevents you from hard-coding the answer to the particular questions posed.  Your code should solve the _general_ intended case, not hard-code the particular answer for the values used in the tests. \n",
        "\n",
        "* **Please do not delete or add cells!** The test is autograded, and if you modify the test by adding or deleting cells, even if you re-add cells you delete, you may not receive credit. \n",
        "\n",
        "* **Please do not import modules that are not part of the [standard library](https://docs.python.org/3/library/index.html).** You do not need any, and they will likely not available in the grading environment, leading your code to fail. \n",
        "\n",
        "* **If you are inactive too long, your notebook might get disconnected from the back-end.** Your work is never lost, but you have to re-run all the cells before you continue. \n",
        "\n",
        "* You can write out print statements in your code, to help you test/debug it. But remember: the code is graded on the basis of what it outputs or returns, not on the basis of what it prints.\n",
        "\n",
        "* **TAs and tutors have access to this notebook,** so if you let them know you need their help, they can look at your work and give you advice. \n",
        "\n",
        "### Grading\n",
        "\n",
        "Each cell where there are tests is worth a certain number of points.  You get the points allocated to a cell only if you pass _all_ the tests in the cell. \n",
        "\n",
        "The tests in a cell include both the tests you can see, and other, similar, tests that are used for grading only.  Therefore, you cannot hard-code the solutions: you really have to solve the essence of the problem, to receive the points in a cell. \n",
        "\n",
        "### Code of Conduct\n",
        "\n",
        "* Work on the test yourself, alone. \n",
        "* You can search documentation on the web, on sites such as the Python documentation sites, Stackoverflow, and similar, and you can use the results. \n",
        "* You cannot share your work with others or solicit their help.\n"
      ]
    },
    {
      "cell_type": "markdown",
      "metadata": {
        "deletable": false,
        "editable": false,
        "nbgrader": {
          "cell_type": "markdown",
          "checksum": "3943ec26c381fda56709721b853901dc",
          "grade": false,
          "grade_id": "cell-c4a9a3897766d07",
          "locked": true,
          "schema_version": 3,
          "solution": false
        },
        "id": "81WHKr8Yz60F"
      },
      "source": [
        "We will develop a data structure to represent arithmetic expressions containing variables, such as $3 + 4$ or $2 + x * (1 - y)$.  \n",
        "\n",
        "What is an expression?  An expression consists of one of these: \n",
        "\n",
        "\n",
        "1. A number\n",
        "2. A variable\n",
        "3. If $e_1$ and $e_2$ are expressions, then $e_1 + e_2$, $e_1 - e_2$, $e_1 * e_2$, and $e_1 / e_2$ are also expressions. \n",
        "\n",
        "Formally, the set of expressions is the _least_ set constructed according to the rules above. \n",
        "\n",
        "Thus, an expression can be either a constant, representing numbers and variables, or a composite expression, consisting of an operator, a left expression, and a right expression.  \n"
      ]
    },
    {
      "cell_type": "markdown",
      "metadata": {
        "deletable": false,
        "editable": false,
        "nbgrader": {
          "cell_type": "markdown",
          "checksum": "be383e2a19728998a0eb510c151936df",
          "grade": false,
          "grade_id": "cell-895e056532ef1d47",
          "locked": true,
          "schema_version": 3,
          "solution": false
        },
        "id": "m7EEULZsz60F"
      },
      "source": [
        "There are (at least) two ways of representing expressions. The simplest way is to represent expressions as trees, and define operations on them. \n",
        "The more sophisticated way consists in representing expressions via classes: there will be one class for variable and constants, and one class representing composite expressions; both of these classes will be subclasses of a generic \"expression\" class. \n",
        "\n",
        "In this chapter, we will represent expression as trees, to gain experience with writing recursive functions on trees; in the next chapter, we will show how to represent them more elegantly as classes."
      ]
    },
    {
      "cell_type": "markdown",
      "metadata": {
        "deletable": false,
        "editable": false,
        "nbgrader": {
          "cell_type": "markdown",
          "checksum": "afd8f6016d69c1e128f5256c9fefca6f",
          "grade": false,
          "grade_id": "cell-da7a377a0a85e3be",
          "locked": true,
          "schema_version": 3,
          "solution": false
        },
        "id": "4uS5t8r3z60G"
      },
      "source": [
        "We will represent expressions as trees.  A number will be represented via a number; a variable via a string, and the expression $e_1 \\odot e_2$ via the tuple $(\\odot, e_1, e_2)$, for $\\odot \\in \\{+, -, *, / \\}$.\n",
        "\n",
        "For example, we will represent $2 * (x + 1)$ via:\n",
        "\n",
        "    ('*', 2, ('+', 'x', 1))"
      ]
    },
    {
      "cell_type": "code",
      "metadata": {
        "deletable": false,
        "editable": false,
        "nbgrader": {
          "cell_type": "code",
          "checksum": "742a3633e0dbf0526f14b354225a15ee",
          "grade": false,
          "grade_id": "cell-894ae78616473d68",
          "locked": true,
          "schema_version": 3,
          "solution": false
        },
        "id": "sTFOEvrVz60G"
      },
      "source": [
        "e = ('*', 2, ('+', 'x', 1))\n"
      ],
      "execution_count": 34,
      "outputs": []
    },
    {
      "cell_type": "markdown",
      "metadata": {
        "deletable": false,
        "editable": false,
        "nbgrader": {
          "cell_type": "markdown",
          "checksum": "9c4f88b6943c89ea0524154e7761e74c",
          "grade": false,
          "grade_id": "cell-b031acf0d8be02f2",
          "locked": true,
          "schema_version": 3,
          "solution": false
        },
        "id": "D8b7Eecnz60H"
      },
      "source": [
        "In particular, we will consider expressions built out of the four arithmetic operators `\"+\"`, `\"-\"`, `\"*\"`, `\"/\"`. "
      ]
    },
    {
      "cell_type": "markdown",
      "metadata": {
        "deletable": false,
        "editable": false,
        "nbgrader": {
          "cell_type": "markdown",
          "checksum": "6edb716a66177f0587965cd434dd00b3",
          "grade": false,
          "grade_id": "cell-237982c484b9912a",
          "locked": true,
          "schema_version": 3,
          "solution": false
        },
        "id": "92HDzSr_z60H"
      },
      "source": [
        "### A compute function\n",
        "\n",
        "Let us define a function compute() that takes one such expression, and returns the expression obtained by performing all possible numerical computation.\n",
        "We consider first the simple case of an expression where the only operators that can appear are `+` and `-`, and where there are no variables.  "
      ]
    },
    {
      "cell_type": "markdown",
      "metadata": {
        "deletable": false,
        "editable": false,
        "nbgrader": {
          "cell_type": "markdown",
          "checksum": "60a91bdb9b214e34dfb7ffe717f8b2c9",
          "grade": false,
          "grade_id": "cell-deefb9e5c8eb6a87",
          "locked": true,
          "schema_version": 3,
          "solution": false
        },
        "id": "bb-R9ep2z60H"
      },
      "source": [
        "Let us create an exception to raise when we cannot interpret an expression. "
      ]
    },
    {
      "cell_type": "code",
      "metadata": {
        "deletable": false,
        "editable": false,
        "nbgrader": {
          "cell_type": "code",
          "checksum": "87fe90b8e728c723ad97edb120650ca5",
          "grade": false,
          "grade_id": "cell-1cde320dd5f8e7c3",
          "locked": true,
          "schema_version": 3,
          "solution": false
        },
        "id": "wKiwD_4Kz60H"
      },
      "source": [
        "class IllegalOperator(Exception):\n",
        "    pass\n"
      ],
      "execution_count": 35,
      "outputs": []
    },
    {
      "cell_type": "markdown",
      "metadata": {
        "deletable": false,
        "editable": false,
        "nbgrader": {
          "cell_type": "markdown",
          "checksum": "5f07d358acabed3fc935552e21795b3b",
          "grade": false,
          "grade_id": "cell-2e264d62da9b9a4c",
          "locked": true,
          "schema_version": 3,
          "solution": false
        },
        "id": "BARIVnCFz60H"
      },
      "source": [
        "Let us define a helper function `calc`, which takes as argument an operator and two numbers, and computes the required operation.  It will make it easier to write the rest of the code. "
      ]
    },
    {
      "cell_type": "code",
      "metadata": {
        "deletable": false,
        "editable": false,
        "nbgrader": {
          "cell_type": "code",
          "checksum": "c48542336f5ebf5718183d9f863d7cb1",
          "grade": false,
          "grade_id": "cell-218bad1b3e47f9e5",
          "locked": true,
          "schema_version": 3,
          "solution": false
        },
        "id": "K3Uwt9z8z60I"
      },
      "source": [
        "def calc(op, left, right):\n",
        "    if op == \"+\":\n",
        "        return left + right\n",
        "    elif op == \"-\":\n",
        "        return left - right\n",
        "    elif op == \"*\":\n",
        "        return left * right\n",
        "    elif op == \"/\":\n",
        "        return left / right\n",
        "    else:\n",
        "        raise IllegalOperator(op)\n"
      ],
      "execution_count": 36,
      "outputs": []
    },
    {
      "cell_type": "markdown",
      "metadata": {
        "deletable": false,
        "editable": false,
        "nbgrader": {
          "cell_type": "markdown",
          "checksum": "ef755cd0b62906276152d5cf05690055",
          "grade": false,
          "grade_id": "cell-ec58294987ebdfc8",
          "locked": true,
          "schema_version": 3,
          "solution": false
        },
        "id": "z44GoHegz60I"
      },
      "source": [
        "With this, we can write our compute method as follows. "
      ]
    },
    {
      "cell_type": "code",
      "metadata": {
        "deletable": false,
        "editable": false,
        "nbgrader": {
          "cell_type": "code",
          "checksum": "ec7a9319a259561954ce85b5f115e016",
          "grade": false,
          "grade_id": "cell-1632cab7ece674ea",
          "locked": true,
          "schema_version": 3,
          "solution": false
        },
        "id": "ogC3jb2Qz60I"
      },
      "source": [
        "def compute(e):\n",
        "    if isinstance(e, tuple):\n",
        "        # We have an expression.\n",
        "        op, l, r = e\n",
        "        # We compute the subexpressions.\n",
        "        ll = compute(l)\n",
        "        rr = compute(r)\n",
        "        # And on the basis of those, the whole expression.\n",
        "        return calc(op, ll, rr)\n",
        "    else:\n",
        "        # base expression; just return the number.\n",
        "        return e\n"
      ],
      "execution_count": 37,
      "outputs": []
    },
    {
      "cell_type": "code",
      "metadata": {
        "deletable": false,
        "editable": false,
        "nbgrader": {
          "cell_type": "code",
          "checksum": "921754f25b592a8665165df2f68be482",
          "grade": false,
          "grade_id": "cell-15bae9436c161cfd",
          "locked": true,
          "schema_version": 3,
          "solution": false
        },
        "colab": {
          "base_uri": "https://localhost:8080/"
        },
        "id": "FI5808EPz60I",
        "outputId": "0d2fdb86-3054-4ae2-bd92-781752b588d8"
      },
      "source": [
        "compute((\"+\", 4, 5))\n"
      ],
      "execution_count": 38,
      "outputs": [
        {
          "output_type": "execute_result",
          "data": {
            "text/plain": [
              "9"
            ]
          },
          "metadata": {},
          "execution_count": 38
        }
      ]
    },
    {
      "cell_type": "code",
      "metadata": {
        "deletable": false,
        "editable": false,
        "nbgrader": {
          "cell_type": "code",
          "checksum": "2bf0e3ef69eb706ee65c3afaf9e4312f",
          "grade": false,
          "grade_id": "cell-f715bac91c7a96cd",
          "locked": true,
          "schema_version": 3,
          "solution": false
        },
        "colab": {
          "base_uri": "https://localhost:8080/"
        },
        "id": "srCWWxXLz60I",
        "outputId": "b41ca13b-bf64-4e8a-e7e5-e1374fd83fca"
      },
      "source": [
        "compute((\"+\", (\"-\", 3, 1), (\"+\", 4, 9)))\n"
      ],
      "execution_count": 39,
      "outputs": [
        {
          "output_type": "execute_result",
          "data": {
            "text/plain": [
              "15"
            ]
          },
          "metadata": {},
          "execution_count": 39
        }
      ]
    },
    {
      "cell_type": "markdown",
      "metadata": {
        "deletable": false,
        "editable": false,
        "nbgrader": {
          "cell_type": "markdown",
          "checksum": "21841e226c35367ae97ca4a06a070853",
          "grade": false,
          "grade_id": "cell-8690d11258ddc325",
          "locked": true,
          "schema_version": 3,
          "solution": false
        },
        "id": "auUBXkO2z60I"
      },
      "source": [
        "## Expressions with variables"
      ]
    },
    {
      "cell_type": "markdown",
      "metadata": {
        "deletable": false,
        "editable": false,
        "nbgrader": {
          "cell_type": "markdown",
          "checksum": "00e5095cdb2c645bd35d5bb64b22300c",
          "grade": false,
          "grade_id": "cell-2161c8b13dbc31d4",
          "locked": true,
          "schema_version": 3,
          "solution": false
        },
        "id": "qmvKAnkHz60I"
      },
      "source": [
        "If an expression can have variables, we can distinguish three types of expressions: \n",
        "\n",
        "* Numbers \n",
        "* Variables\n",
        "* Composite expressions. \n",
        "\n",
        "To facilitate writing code, let us define for you three helper functions that tell us the type of an expression. "
      ]
    },
    {
      "cell_type": "code",
      "metadata": {
        "deletable": false,
        "editable": false,
        "nbgrader": {
          "cell_type": "code",
          "checksum": "f179807dba3795590f7c8f453f2af282",
          "grade": false,
          "grade_id": "cell-ed2ed9b77c6f3196",
          "locked": true,
          "schema_version": 3,
          "solution": false
        },
        "id": "KAqnwHUXz60J"
      },
      "source": [
        "from numbers import Number # The mother class of all numbers.\n",
        "\n",
        "def isnumber(e):\n",
        "    return isinstance(e, Number)\n",
        "\n",
        "def isvariable(e):\n",
        "    return isinstance(e, str)\n",
        "\n",
        "def iscomposite(e):\n",
        "    return isinstance(e, tuple)\n"
      ],
      "execution_count": 40,
      "outputs": []
    },
    {
      "cell_type": "markdown",
      "metadata": {
        "deletable": false,
        "editable": false,
        "nbgrader": {
          "cell_type": "markdown",
          "checksum": "09bc47d38b1a1d07a7936e6bc6467b06",
          "grade": false,
          "grade_id": "cell-6e26f78981b41a",
          "locked": true,
          "schema_version": 3,
          "solution": false
        },
        "id": "PMYJPJcCz60J"
      },
      "source": [
        "The idea we use to simplify an expression is the following: \n",
        "\n",
        "* If the expression is a Number, you return a number: it's already simplified. \n",
        "* If the expression is a variable, you return the variable (that is, the expression unchanged); there is nothing to be done. \n",
        "* If the expression is an operation, such as \"+\", \"-\", ..., then you consider the right and left children, and you reason: \n",
        "    * If all the two children are numbers, then you can compute the operation and return the result. \n",
        "    * Otherwise, again, there is nothing that can be done, and you return the expression unchanged. \n"
      ]
    },
    {
      "cell_type": "code",
      "metadata": {
        "deletable": false,
        "editable": false,
        "nbgrader": {
          "cell_type": "code",
          "checksum": "be6590f2fd912f242424f7abd5a1cd31",
          "grade": false,
          "grade_id": "cell-8c86e1c96765fe31",
          "locked": true,
          "schema_version": 3,
          "solution": false
        },
        "id": "m1CCTfiLz60J"
      },
      "source": [
        "def simplify(e):\n",
        "    if isinstance(e, tuple):\n",
        "        op, l, r = e\n",
        "        # We simplify the children expressions.\n",
        "        ll = simplify(l)\n",
        "        rr = simplify(r)\n",
        "        # We compute the expression if we can.\n",
        "        if isnumber(ll) and isnumber(rr):\n",
        "            return calc(op, ll, rr)\n",
        "        else:\n",
        "            return (op, ll, rr)\n",
        "    else:\n",
        "        # Leaf. No simplification is possible.\n",
        "        return e\n"
      ],
      "execution_count": 41,
      "outputs": []
    },
    {
      "cell_type": "markdown",
      "metadata": {
        "deletable": false,
        "editable": false,
        "nbgrader": {
          "cell_type": "markdown",
          "checksum": "4db79a37d6df448aea4e1c63243e6204",
          "grade": false,
          "grade_id": "cell-14746068caabcf03",
          "locked": true,
          "schema_version": 3,
          "solution": false
        },
        "id": "rHrUWGwoz60J"
      },
      "source": [
        "Let's see how this works."
      ]
    },
    {
      "cell_type": "code",
      "metadata": {
        "deletable": false,
        "editable": false,
        "nbgrader": {
          "cell_type": "code",
          "checksum": "02b7615ed1e478414f03bdc666942948",
          "grade": false,
          "grade_id": "cell-1b040683675de653",
          "locked": true,
          "schema_version": 3,
          "solution": false
        },
        "colab": {
          "base_uri": "https://localhost:8080/"
        },
        "id": "CbaD4CcKz60J",
        "outputId": "98da821e-5e29-45e2-cafb-ced591768dc1"
      },
      "source": [
        "simplify(3)\n"
      ],
      "execution_count": 42,
      "outputs": [
        {
          "output_type": "execute_result",
          "data": {
            "text/plain": [
              "3"
            ]
          },
          "metadata": {},
          "execution_count": 42
        }
      ]
    },
    {
      "cell_type": "code",
      "metadata": {
        "deletable": false,
        "editable": false,
        "nbgrader": {
          "cell_type": "code",
          "checksum": "720677105e5aa86325195e88bbab86a3",
          "grade": false,
          "grade_id": "cell-9772507fe8eb60f3",
          "locked": true,
          "schema_version": 3,
          "solution": false
        },
        "colab": {
          "base_uri": "https://localhost:8080/"
        },
        "id": "VbZ7PT8pz60J",
        "outputId": "15f00d3b-77a8-4771-e5f6-44269682fc10"
      },
      "source": [
        "simplify((\"+\", \"x\", 1))\n"
      ],
      "execution_count": 43,
      "outputs": [
        {
          "output_type": "execute_result",
          "data": {
            "text/plain": [
              "('+', 'x', 1)"
            ]
          },
          "metadata": {},
          "execution_count": 43
        }
      ]
    },
    {
      "cell_type": "markdown",
      "metadata": {
        "deletable": false,
        "editable": false,
        "nbgrader": {
          "cell_type": "markdown",
          "checksum": "8ec51b35df196ad4ec1533d7860a832e",
          "grade": false,
          "grade_id": "cell-60f6697b768411ce",
          "locked": true,
          "schema_version": 3,
          "solution": false
        },
        "id": "_jK9pEA1z60J"
      },
      "source": [
        "Yes, there was nothing we could simplify.  Let's try now with something we can simplify: "
      ]
    },
    {
      "cell_type": "code",
      "metadata": {
        "deletable": false,
        "editable": false,
        "nbgrader": {
          "cell_type": "code",
          "checksum": "3164a71cce81236e4294b5ec2de05551",
          "grade": false,
          "grade_id": "cell-97beb3dd0b91ab9a",
          "locked": true,
          "schema_version": 3,
          "solution": false
        },
        "colab": {
          "base_uri": "https://localhost:8080/"
        },
        "id": "j4FfWCSDz60K",
        "outputId": "20cd4432-d7d0-4ab5-960e-eb11be29ef16"
      },
      "source": [
        "simplify(('-', 5, 4))\n"
      ],
      "execution_count": 44,
      "outputs": [
        {
          "output_type": "execute_result",
          "data": {
            "text/plain": [
              "1"
            ]
          },
          "metadata": {},
          "execution_count": 44
        }
      ]
    },
    {
      "cell_type": "markdown",
      "metadata": {
        "deletable": false,
        "editable": false,
        "nbgrader": {
          "cell_type": "markdown",
          "checksum": "fb67898bc9df63163fd60e52509b6041",
          "grade": false,
          "grade_id": "cell-b8d39977123f0d10",
          "locked": true,
          "schema_version": 3,
          "solution": false
        },
        "id": "qD48fncaz60L"
      },
      "source": [
        "Can we simplify bigger expressions? "
      ]
    },
    {
      "cell_type": "code",
      "metadata": {
        "deletable": false,
        "editable": false,
        "nbgrader": {
          "cell_type": "code",
          "checksum": "d8481dde52ef4ccaf31757ed5f0d9ef5",
          "grade": false,
          "grade_id": "cell-3d7c43a39c2dc0c8",
          "locked": true,
          "schema_version": 3,
          "solution": false
        },
        "colab": {
          "base_uri": "https://localhost:8080/"
        },
        "id": "q8mY1c9Iz60L",
        "outputId": "9b2c2753-4565-49a3-b929-d17fd9915caf"
      },
      "source": [
        "simplify( ('+', 6, ('-', 7, 2)) )\n"
      ],
      "execution_count": 45,
      "outputs": [
        {
          "output_type": "execute_result",
          "data": {
            "text/plain": [
              "11"
            ]
          },
          "metadata": {},
          "execution_count": 45
        }
      ]
    },
    {
      "cell_type": "markdown",
      "metadata": {
        "deletable": false,
        "editable": false,
        "nbgrader": {
          "cell_type": "markdown",
          "checksum": "d4314a58ab0210de9aaf6b36afe9bb9b",
          "grade": false,
          "grade_id": "cell-3063d1334b93e67b",
          "locked": true,
          "schema_version": 3,
          "solution": false
        },
        "id": "F0Vk7ECHz60L"
      },
      "source": [
        "## Question 1: Evaluating expressions with respect to a variable valuation.\n",
        "\n",
        "The function `simplify` above can perform all numerical computations, but stops whenever it encounters a variable. It cannot do any better, in fact, because it does not know the values of variables. \n",
        "\n",
        "If we specify values for variables, we can then use those values in the computation, replacing each variable whose value is specified with the value itself. \n",
        "\n",
        "A _variable valuation_ is a mapping from variables to their values; we can represent it simply as a dictionary associating to each variable a number:"
      ]
    },
    {
      "cell_type": "code",
      "metadata": {
        "deletable": false,
        "editable": false,
        "nbgrader": {
          "cell_type": "code",
          "checksum": "07ec855e85b02c3b01dc295124155184",
          "grade": false,
          "grade_id": "cell-c3e5afbf5dfce117",
          "locked": true,
          "schema_version": 3,
          "solution": false
        },
        "id": "MjaQ690Hz60L"
      },
      "source": [
        "varval = {'x': 3, 'y': 8}\n"
      ],
      "execution_count": 46,
      "outputs": []
    },
    {
      "cell_type": "markdown",
      "metadata": {
        "deletable": false,
        "editable": false,
        "nbgrader": {
          "cell_type": "markdown",
          "checksum": "c25f05ce30f9c56c42a04126a884f339",
          "grade": false,
          "grade_id": "cell-843732cf881f9d8f",
          "locked": true,
          "schema_version": 3,
          "solution": false
        },
        "id": "udYGWkwLz60L"
      },
      "source": [
        "You can extend the evaluation function to take as input a variable valuation.  The idea is that, when you find a variable, you try to see whether its value is specified in the variable valuation.  If it is, you can replace the variable with the value, and carry on.  If it is not, you leave the variable as it is, since you cannot evaluate it. \n",
        "\n",
        "To check if a variable (a string) `s` is in a dictionary `d`, you can test\n",
        "\n",
        "    s in d\n",
        "\n",
        "and to get the value, in case it is present, you can just do `d[s]` of course.  We let you develop the code. "
      ]
    },
    {
      "cell_type": "code",
      "metadata": {
        "deletable": false,
        "nbgrader": {
          "cell_type": "code",
          "checksum": "6a2d5d2dd6acfa398241f7d87627ba86",
          "grade": false,
          "grade_id": "cell-337b8d343a65a1e9",
          "locked": false,
          "schema_version": 3,
          "solution": true
        },
        "id": "R5hxW4DCz60L"
      },
      "source": [
        "### Evaluating an expression with respect to a variable evaluation\n",
        "\n",
        "def compute(e, varval={}):\n",
        "    if iscomposite(e):\n",
        "        op, l, r = e\n",
        "        ll = compute(l, varval)\n",
        "        rr = compute(r, varval)\n",
        "        return simplify((op, ll, rr))\n",
        "    elif isnumber(e):\n",
        "        return e\n",
        "    elif isvariable(e):\n",
        "        if e in varval:\n",
        "            e = varval[e]\n",
        "        return e"
      ],
      "execution_count": 47,
      "outputs": []
    },
    {
      "cell_type": "markdown",
      "metadata": {
        "deletable": false,
        "editable": false,
        "nbgrader": {
          "cell_type": "markdown",
          "checksum": "08e5573e6b0935083ce2ab9017f123b2",
          "grade": false,
          "grade_id": "cell-d728344973a2e93",
          "locked": true,
          "schema_version": 3,
          "solution": false
        },
        "id": "Ien9JxSdz60L"
      },
      "source": [
        "Let us play with this. "
      ]
    },
    {
      "cell_type": "code",
      "metadata": {
        "deletable": false,
        "editable": false,
        "nbgrader": {
          "cell_type": "code",
          "checksum": "5c3e74b713b0a252f31c59c963afe07b",
          "grade": false,
          "grade_id": "cell-67664f949e14c1d5",
          "locked": true,
          "schema_version": 3,
          "solution": false
        },
        "colab": {
          "base_uri": "https://localhost:8080/"
        },
        "id": "0ykE4l_Mz60L",
        "outputId": "6db269fa-1d4e-4b10-d472-5a93bcb5ef39"
      },
      "source": [
        "## You can modify this cell to test your code.\n",
        "\n",
        "e = ('*', 2, ('+', 'x', ('-', 3, 2)))\n",
        "print(compute(e))\n",
        "print(compute(e, varval={'x': 6}))\n"
      ],
      "execution_count": 48,
      "outputs": [
        {
          "output_type": "stream",
          "name": "stdout",
          "text": [
            "('*', 2, ('+', 'x', 1))\n",
            "14\n"
          ]
        }
      ]
    },
    {
      "cell_type": "markdown",
      "metadata": {
        "deletable": false,
        "editable": false,
        "nbgrader": {
          "cell_type": "markdown",
          "checksum": "8395ad45788979f1abffdeed106a63d4",
          "grade": false,
          "grade_id": "cell-68f1abf1f8b28c97",
          "locked": true,
          "schema_version": 3,
          "solution": false
        },
        "id": "VG-UMaHoz60L"
      },
      "source": [
        "If we provide the values for only some of the variables, the compute function defined above, will plug in the values for those variables and perform all computations possible.  Of course, if the expression contains variables for which the valuation does not specify a value, the resulting expression will still contain those variables: it will not be simply a number.  In computer science, evaluating an expression as far as possible using the values for a subset of the variables is knwon as _partial evaluation_."
      ]
    },
    {
      "cell_type": "code",
      "metadata": {
        "deletable": false,
        "editable": false,
        "nbgrader": {
          "cell_type": "code",
          "checksum": "da2e7d071cfbff6d55c7bd6d87b966d8",
          "grade": true,
          "grade_id": "cell-f5a1006e27cc7b6b",
          "locked": true,
          "points": 10,
          "schema_version": 3,
          "solution": false,
          "task": false
        },
        "id": "zZjHWZgoz60L"
      },
      "source": [
        "## Tests for compute.  10 points. \n",
        "\n",
        "e = 'x'\n",
        "assert compute(e) == 'x'\n",
        "assert compute(e, varval={'x': 3}) == 3\n",
        "\n",
        "e = ('*', 2, ('+', 'x', ('-', 3, 2)))\n",
        "assert compute(e) == ('*', 2, ('+', 'x', 1))\n",
        "assert compute(e, varval={'x': 6}) == 14\n",
        "assert compute(e, varval={'y': 10}) == ('*', 2, ('+', 'x', 1))\n",
        "\n",
        "e = ('+', ('-', 'yy', 3), ('*', 'x', 4))\n",
        "assert compute(e, varval={'x': 2}) == ('+', ('-', 'yy', 3), 8)\n",
        "assert compute(e, varval={'yy': 3}) == ('+', 0, ('*', 'x', 4))\n",
        "assert compute(e, varval={'x': 2, 'yy': 3}) == 8"
      ],
      "execution_count": 49,
      "outputs": []
    },
    {
      "cell_type": "code",
      "metadata": {
        "deletable": false,
        "editable": false,
        "nbgrader": {
          "cell_type": "code",
          "checksum": "d7f35a7933fdf8369603171874505bdb",
          "grade": true,
          "grade_id": "cell-c648cadfsfds4521b7da",
          "locked": true,
          "points": 10,
          "schema_version": 3,
          "solution": false,
          "task": false
        },
        "id": "sRhibb3Tz60L"
      },
      "source": [
        "### Hidden tests for compute.  10 points. \n"
      ],
      "execution_count": 50,
      "outputs": []
    },
    {
      "cell_type": "markdown",
      "metadata": {
        "deletable": false,
        "editable": false,
        "nbgrader": {
          "cell_type": "markdown",
          "checksum": "5c83343eb17544e4377b58ea15a9881f",
          "grade": false,
          "grade_id": "cell-f7c9aa0464c7df86",
          "locked": true,
          "schema_version": 3,
          "solution": false
        },
        "id": "mKpo9vRHz60L"
      },
      "source": [
        "## When are two expressions equal? \n",
        "\n",
        "> _Or: it's better to be lucky than to be smart._\n",
        "\n",
        "> _Or: if you don't know how to do it right, do it at random._ \n",
        "\n",
        "> _Or: the power of randomization._"
      ]
    },
    {
      "cell_type": "markdown",
      "metadata": {
        "deletable": false,
        "editable": false,
        "nbgrader": {
          "cell_type": "markdown",
          "checksum": "3bd5c3414ae7778071a0c82ee6fc5e10",
          "grade": false,
          "grade_id": "cell-8ed491a2a68adea2",
          "locked": true,
          "schema_version": 3,
          "solution": false
        },
        "id": "I-qbMLAPz60M"
      },
      "source": [
        "We now consider the following problem: given two expressions $e$ and $f$, how can we decide whether they are equal in value, that is, whether they yield always the same value for all values of the variables? \n",
        "\n",
        "This _\"value equality\"_ is a different notion from the structural equality we defined before.  For instance, the two expressions `(\"+\", \"x\", 1)` and `(\"-\", (*, 2, \"x\"), \"x\")` are not structurally equal, but they are equal in values.  \n",
        "\n",
        "How can we test for value equality of expressions?  There are two ways: the high road, and the pirate road. Of course, we take the pirate road.  \n",
        "\n",
        "The high-road approach consists in trying to demonstrate, in some way, that the two expressions are equal.  One way of doing so would be to define a set of [rewriting rules](https://en.wikipedia.org/wiki/Rewriting) for expressions, that try to transform one expression into the other; this would mimick the process often done by hand to show that two expressions are equal.  Another way would be to use theorem provers that can reason about expressions and real numbers, such as [PVS](https://pvs.csl.sri.com).  The problem is that these approaches are a lot of work.  Is there a way to be lazy, and still get the job done? \n",
        "\n",
        "There is, it turns out.  Suppose you have two expressions $f, g$ containing variable $x$ only.  The idea is that if $f$ and $g$ are built with the usual operators of algebra, it is exceedingly unlikely for $f$ and $g$ to give the same value  many values of $x$, and yet not be always equal.  This would not be true if our expressions could contain if-then-else statements, but for the operators we defined so far, it holds.  Indeed, one could be more precise, and try to come up with a theorem of the form: \n",
        "\n",
        "> If $f$ and $g$ have \"zerosity\" $n$, and are equal for $n+1$ values of $x$, then they are equal for all values of $x$. \n",
        "\n",
        "We could then try to define the \"zerosity\" of an expression to make this hold: for example, for two polynomials of degree at most $d$, once you show that they are equal for $d+1$ points, they must be equal everywhere ([why?](https://en.wikipedia.org/wiki/Fundamental_theorem_of_algebra)).  But this again would be a smart approach, and we are trying to see if we can solve the problem while being as stupid as possible.  So our idea will simply be: pick 1000 values of $x$ at random; if the two expressions are equal for all the values, then they must be equal everywhere.  This is a somewhat special case of a [Monte Carlo method](https://en.wikipedia.org/wiki/Monte_Carlo_method), a method used to estimate the probability of complex phenomena (where expression equality is our phenomenon).\n",
        "\n",
        "There are only two wrinkles with this.  The first is that an expression can contain many variables, and we have to try to value assignments for all of the variables.  This is easy to overcome; we just need some helper function that gives us the set of variables in a function.  The second wrinkle is: how do we generate the possible value assignments?  How big do these values need to be on average?  According to what probability distribution?  We could dive into a lot of theory and reasoning about how to compute appropriate probability distributions, but since our goal is to be stupid, we will use one of the simplest distributions with infinite domain: the Gaussian one. "
      ]
    },
    {
      "cell_type": "markdown",
      "metadata": {
        "deletable": false,
        "editable": false,
        "nbgrader": {
          "cell_type": "markdown",
          "checksum": "2bc5cb8a6aab9c94e471725e8ff7c90b",
          "grade": false,
          "grade_id": "cell-6d0d776b9956054f",
          "locked": true,
          "schema_version": 3,
          "solution": false,
          "task": false
        },
        "id": "g1FBOOY6z60M"
      },
      "source": [
        "## Question 2: Variable Occurrences\n",
        "\n",
        "Let us start by writing the function `variables` such that, if `e` is an expression, `variables(e)` is the set of variables that appear in it."
      ]
    },
    {
      "cell_type": "code",
      "metadata": {
        "deletable": false,
        "nbgrader": {
          "cell_type": "code",
          "checksum": "584a3244ea480898e505417c47230371",
          "grade": false,
          "grade_id": "cell-6281c30c94c7279a",
          "locked": false,
          "schema_version": 3,
          "solution": true
        },
        "id": "Hh1p-Algz60M"
      },
      "source": [
        "### Exercise: define `variables`\n",
        "\n",
        "def variables(e, o = set()):\n",
        "    \n",
        "    if iscomposite(e):\n",
        "        op, r, l = e\n",
        "        \n",
        "        if isinstance(r, str):\n",
        "            o.add(r)\n",
        "        \n",
        "        if isinstance(l, str):\n",
        "            o.add(l)\n",
        "        \n",
        "        variables(r, o)\n",
        "        variables(l, o)\n",
        "\n",
        "        return o\n",
        "    else:\n",
        "        if isinstance(e, str):\n",
        "            o.add(e)\n",
        "        return o"
      ],
      "execution_count": 51,
      "outputs": []
    },
    {
      "cell_type": "code",
      "metadata": {
        "deletable": false,
        "nbgrader": {
          "cell_type": "code",
          "checksum": "c28aa492b21a1a5734b76b92e09da60e",
          "grade": false,
          "grade_id": "cell-4d44e8082f99faaf",
          "locked": false,
          "schema_version": 3,
          "solution": true,
          "task": false
        },
        "id": "Yy2Tyb1Nz60M"
      },
      "source": [
        ""
      ],
      "execution_count": 51,
      "outputs": []
    },
    {
      "cell_type": "code",
      "metadata": {
        "deletable": false,
        "editable": false,
        "nbgrader": {
          "cell_type": "code",
          "checksum": "eaaa6bbeb397dda14b62e0ea831c5bfe",
          "grade": true,
          "grade_id": "cell-d876104e03768f88",
          "locked": true,
          "points": 10,
          "schema_version": 3,
          "solution": false
        },
        "id": "0pXQbCjUz60M"
      },
      "source": [
        "### 10 points. Tests for `Expr.variables`\n",
        "\n",
        "e = ('*', ('+', 'x', 2), ('/', 'x', 'yay'))\n",
        "assert variables(e) == {'x', 'yay'}\n",
        "\n"
      ],
      "execution_count": 52,
      "outputs": []
    },
    {
      "cell_type": "markdown",
      "metadata": {
        "deletable": false,
        "editable": false,
        "nbgrader": {
          "cell_type": "markdown",
          "checksum": "d78540b559b82a5977b5cbf889b89f6c",
          "grade": false,
          "grade_id": "cell-7c753d9adf286890",
          "locked": true,
          "schema_version": 3,
          "solution": false
        },
        "id": "5GuoaH8pz60M"
      },
      "source": [
        "## Question 3: Value equality\n",
        "\n",
        "Now we let you write the `value_equality` method.  \n",
        "Given the two expressions $e$ and $f$, first compute the set of variables $V$ that appear in either $e$ or $f$. \n",
        "Then, the idea consists in performing `num_sample` times the following test for equality: \n",
        "\n",
        "* First, produce a variable assignment (a dictionary) mapping each variable in $V$ to a random value.  Choose these random values from the gaussian distribution centered around 0 and with standard deviation 10 (for instance; any continuous distribution with infinite domain would work).  You can obtain such numbers using [`random.gauss(0, 10)`](https://docs.python.org/3/library/random.html#random.gauss). \n",
        "* Then, compute the values of $e$ and $f$ with respect to that variable evaluation.  If the values are closer than a specified tolerance `tolerance`, you consider $e$ and $f$ equal (for that variable valuation).  Otherwise, you can stop and return that $e$ and $f$ are different. \n",
        "\n",
        "If you can repeat the process `num_sample` times, and $e$ and $f$ are considered equal every time, then you declare them equal. "
      ]
    },
    {
      "cell_type": "code",
      "metadata": {
        "deletable": false,
        "nbgrader": {
          "cell_type": "code",
          "checksum": "343af725c8ea909512fd5696ffd25b21",
          "grade": false,
          "grade_id": "cell-58f369f645788fc7",
          "locked": false,
          "schema_version": 3,
          "solution": true
        },
        "id": "ECv3HuuSz60M"
      },
      "source": [
        "### Exercise: implementation of value equality\n",
        "\n",
        "import random\n",
        "    #first separate the two tuples\n",
        "    #then generate random values and store the outputs into two lists\n",
        "    #if lists are equivalent, then output true otherwise false\n",
        "def value_equality(e, f, num_samples=1000, tolerance=1e-6):\n",
        "    \"\"\"Return True if the two expressions self and other are numerically\n",
        "    equivalent.  Equivalence is tested by generating\n",
        "    num_samples assignments, and checking that equality holds\n",
        "    for all of them.  Equality is checked up to tolerance, that is,\n",
        "    the values of the two expressions have to be closer than tolerance.\n",
        "    It can be done in less than 10 lines of code.\"\"\"\n",
        "    e_var = variables(e, o=set())\n",
        "    f_var = variables(f, o=set())\n",
        "\n",
        "    for x in range(num_samples):\n",
        "        d = {}\n",
        "        for i in e_var:\n",
        "            d.update({i:random.gauss(0,10)})\n",
        "        for j in f_var:\n",
        "            d.update({j:random.gauss(0,10)})\n",
        "\n",
        "        if abs(compute(e, d) - compute(f, d)) > tolerance:\n",
        "            return False\n",
        "    return True"
      ],
      "execution_count": 53,
      "outputs": []
    },
    {
      "cell_type": "code",
      "metadata": {
        "deletable": false,
        "nbgrader": {
          "cell_type": "code",
          "checksum": "0930170b8f5d59a10938ca50677ab4e0",
          "grade": false,
          "grade_id": "cell-4a08af849a008724",
          "locked": false,
          "schema_version": 3,
          "solution": true,
          "task": false
        },
        "id": "vWQ-Dq0xz60M"
      },
      "source": [
        "# YOUR CODE HERE"
      ],
      "execution_count": 54,
      "outputs": []
    },
    {
      "cell_type": "code",
      "metadata": {
        "deletable": false,
        "editable": false,
        "nbgrader": {
          "cell_type": "code",
          "checksum": "48ef1c79b0c62cbf63fa7fccaaabdc6a",
          "grade": true,
          "grade_id": "cell-160cd252c67d22ae",
          "locked": true,
          "points": 5,
          "schema_version": 3,
          "solution": false
        },
        "id": "vnsymY6Lz60M"
      },
      "source": [
        "### 5 points: Tests for value equality\n",
        "\n",
        "assert value_equality('x', 'x')\n",
        "assert value_equality(3, 3)\n",
        "assert not value_equality(3, 'x')\n",
        "\n",
        "e1 = ('+', ('*', 'x', 1), ('*', 'y', 0))\n",
        "e2 = 'x'\n",
        "assert value_equality(e1, e2)\n",
        "\n",
        "e3 = ('/', ('*', 'x', 'x'), ('*', 'x', 1))\n",
        "e3b = ('/', ('*', 'x', 'y'), ('*', 'x', 1))\n",
        "assert value_equality(e1, e3)\n",
        "assert not value_equality(e1, e3b)\n",
        "\n",
        "e4 = ('/', 'y', 2)\n",
        "assert not value_equality(e1, e4)\n",
        "assert not value_equality(e3, e4)\n",
        "\n",
        "e5 = (\"+\", \"cat\", (\"-\", \"dog\", \"dog\"))\n",
        "assert value_equality(e5, \"cat\")"
      ],
      "execution_count": 55,
      "outputs": []
    },
    {
      "cell_type": "code",
      "metadata": {
        "deletable": false,
        "editable": false,
        "nbgrader": {
          "cell_type": "code",
          "checksum": "5cded6e9dbd9bfcf8ba92852f68bac32",
          "grade": true,
          "grade_id": "cell-4e7331a482d18506",
          "locked": true,
          "points": 10,
          "schema_version": 3,
          "solution": false,
          "task": false
        },
        "id": "XC3A08Vhz60M"
      },
      "source": [
        "## 10 points: hidden tests for value equality.\n",
        "\n"
      ],
      "execution_count": 56,
      "outputs": []
    },
    {
      "cell_type": "markdown",
      "metadata": {
        "deletable": false,
        "editable": false,
        "nbgrader": {
          "cell_type": "markdown",
          "checksum": "27dcf681b57fee56a05a56832db7aa9e",
          "grade": false,
          "grade_id": "cell-c71fd8cdc3ad6d7e",
          "locked": true,
          "schema_version": 3,
          "solution": false
        },
        "id": "gtmOZIbaz60M"
      },
      "source": [
        "## Symbolic Expressions\n",
        "\n",
        "The notation we developed enables the representation of _symbolic expressions:_ expressions in which not only numbers appear, but also symbols.  Accordingly, we can perform _symbolic_ operations on the expressions: operations that encode what you do with pencil and paper when you work on an expression. \n",
        "\n",
        "Our first symbolic operations will be the implementation of _derivatives._"
      ]
    },
    {
      "cell_type": "markdown",
      "metadata": {
        "deletable": false,
        "editable": false,
        "nbgrader": {
          "cell_type": "markdown",
          "checksum": "5023d10b7443022fc95ce11f6f2fd467",
          "grade": false,
          "grade_id": "cell-5495e28736fef8bf",
          "locked": true,
          "schema_version": 3,
          "solution": false
        },
        "id": "_w94uYkMz60M"
      },
      "source": [
        "### Derivatives\n",
        "\n",
        "Given an expression $f$ and a variable $x$, we can compute symbolically the (partial) derivative\n",
        "\n",
        "$$\n",
        "\\frac{\\partial f}{\\partial x}\n",
        "$$\n",
        "\n",
        "of $f$ with respect to $x$. \n",
        "For instance:\n",
        "\n",
        "$$\n",
        "\\begin{align*}\n",
        "\\frac{\\partial}{\\partial x}(x^2 + 3y + 4) & = 2x \\\\[1ex]\n",
        "\\frac{\\partial}{\\partial x}(x^2y + xy^2 + z) & = 2yx + y^2 + z \\; . \n",
        "\\end{align*}\n",
        "$$\n",
        "\n",
        "Here, the \"partial\" in partial derivative simply means: if you need to take the derivative with respect to a specific variable, simply treat all other variables as constants. \n",
        "\n",
        "Computing symbolic derivatives seems complicated, but we can take it in steps.  Our expression trees have leaves, consisting of \n",
        "\n",
        "* numerical constants\n",
        "* variables\n",
        "\n",
        "and operators, corresponding to `+`, `-`, `*`, `/`. \n",
        "Therefore, we break down the task into the computation of the symbolic derivative for numerical constants, variables, and arithmetic operators.  The cases for the leaf nodes are:  \n",
        "\n",
        "* For a constant $c$, $\\partial c / \\partial x = 0$.\n",
        "* For a variable $y \\neq x$,  $\\partial y / \\partial x = 0$.\n",
        "* $\\partial x / \\partial x = 1$.\n",
        "\n",
        "For operators, we can use:\n",
        "\n",
        "$$\n",
        " \\begin{align*}\n",
        " \\frac{\\partial}{\\partial x}(f \\pm g) & = \\frac{\\partial f}{\\partial x} \\pm \\frac  {\\partial g}{\\partial x}, \\\\[1ex]\n",
        " \\frac{\\partial}{\\partial x}(f \\cdot g) & = \\frac{\\partial f}{\\partial x} \\cdot g + f \\cdot \\frac{\\partial g}{\\partial x}, \\\\[1ex]\n",
        " \\frac{\\partial}{\\partial x}\\left(\\frac{f}{g}\\right) & = \\frac{\\frac\n",
        "  {\\partial f}{\\partial x} \\cdot g - f \\cdot \\frac{\\partial g}{\\partial x}}{g^2}. \n",
        "\\end{align*}\n",
        "$$"
      ]
    },
    {
      "cell_type": "markdown",
      "metadata": {
        "deletable": false,
        "editable": false,
        "nbgrader": {
          "cell_type": "markdown",
          "checksum": "482b78255200ca374bb48082a5c2ba81",
          "grade": false,
          "grade_id": "cell-8fb10e01dbbc147b",
          "locked": true,
          "schema_version": 3,
          "solution": false
        },
        "id": "J6NLp2plz60M"
      },
      "source": [
        "## Question 4: Derivative of a leaf expression\n",
        "\n",
        "Let's start from a leaf expression.  The function `derivate_leaf` takes as argument an expression that is a leaf, and a variable, and returns the symbolic derivative of the leaf writh respect to the variable. "
      ]
    },
    {
      "cell_type": "code",
      "metadata": {
        "deletable": false,
        "nbgrader": {
          "cell_type": "code",
          "checksum": "abd79a6d3ed04e10eadc93ced664fbf4",
          "grade": false,
          "grade_id": "cell-58c60069f141755d",
          "locked": false,
          "schema_version": 3,
          "solution": true
        },
        "id": "_P8kgVP-z60M"
      },
      "source": [
        "### Derivation of a leaf expression\n",
        "\n",
        "def derivate_leaf(e, x):\n",
        "    \"\"\"This function takes as input an expression e and a variable x,\n",
        "    and returns the symbolic derivative of e wrt. x, as an expression.\"\"\"\n",
        "    if isvariable(e) and e == x:\n",
        "        return 1\n",
        "    else:\n",
        "        return 0\n"
      ],
      "execution_count": 57,
      "outputs": []
    },
    {
      "cell_type": "code",
      "metadata": {
        "deletable": false,
        "nbgrader": {
          "cell_type": "code",
          "checksum": "4aa6c56477792894f26ab5d5c8720cc0",
          "grade": false,
          "grade_id": "cell-e9dfd33ff6e2c0d4",
          "locked": false,
          "schema_version": 3,
          "solution": true,
          "task": false
        },
        "id": "OseGfFpUz60M"
      },
      "source": [
        "# YOUR CODE HERE"
      ],
      "execution_count": 58,
      "outputs": []
    },
    {
      "cell_type": "markdown",
      "metadata": {
        "deletable": false,
        "editable": false,
        "nbgrader": {
          "cell_type": "markdown",
          "checksum": "c3fd13b80d98a6f42a3d8806d0ba8bc7",
          "grade": false,
          "grade_id": "cell-03adda7dc4301127",
          "locked": true,
          "schema_version": 3,
          "solution": false,
          "task": false
        },
        "id": "TVO65Bmvz60N"
      },
      "source": [
        "Here are some tests. "
      ]
    },
    {
      "cell_type": "code",
      "metadata": {
        "deletable": false,
        "editable": false,
        "nbgrader": {
          "cell_type": "code",
          "checksum": "2cffaa5fc6d736a7315070363c9dfa1e",
          "grade": true,
          "grade_id": "cell-25a5536755a07b7a",
          "locked": true,
          "points": 5,
          "schema_version": 3,
          "solution": false,
          "task": false
        },
        "id": "OhuiZN2Jz60N"
      },
      "source": [
        "# 5 points. \n",
        "\n",
        "assert derivate_leaf(\"x\", \"x\") == 1\n",
        "assert derivate_leaf(\"x\", \"y\") == 0\n",
        "assert derivate_leaf(\"y\", \"z\") == 0\n",
        "assert derivate_leaf(4, \"x\") == 0\n"
      ],
      "execution_count": 59,
      "outputs": []
    },
    {
      "cell_type": "markdown",
      "metadata": {
        "deletable": false,
        "editable": false,
        "nbgrader": {
          "cell_type": "markdown",
          "checksum": "91de8a188a2e0225bb6bb0bca00b6a26",
          "grade": false,
          "grade_id": "cell-7b40ada520e26d5f",
          "locked": true,
          "schema_version": 3,
          "solution": false
        },
        "id": "7cMDQj29z60N"
      },
      "source": [
        "## Question 5: Derivative of an expression\n",
        "\n",
        "We now let you implement the derivative of a general expression.  The function is recursive: for instance, if the expression is (`*`, $f$, $g$), to compute its derivative with respect to a variable $x$, we use: \n",
        "\n",
        "$$\n",
        "\\frac{\\partial}{\\partial x}(f \\cdot g) = \\frac{\\partial f}{\\partial x} \\cdot g + f \\cdot \\frac{\\partial g}{\\partial x}\n",
        "$$\n",
        "\n",
        "and so we need to recursively call symbolic derivation on the $f$ and $g$ sub-expressions, to obtain $\\partial f / \\partial x$ and $\\partial g / \\partial x$, and then produce and return an expression representing the result. \n",
        "\n",
        "**Important:** The code for checking expression equality is _not_ able to cope with the commutativity of `+` and `*`.  So, in your solution, please use _exactly_ these forms: \n",
        "\n",
        "$$\n",
        " \\begin{align*}\n",
        " \\frac{\\partial}{\\partial x}(f \\pm g) & = \\frac{\\partial f}{\\partial x} \\pm \\frac  {\\partial g}{\\partial x}, \\\\[1ex]\n",
        " \\frac{\\partial}{\\partial x}(f \\cdot g) & = \\frac{\\partial f}{\\partial x} \\cdot g + f \\cdot \\frac{\\partial g}{\\partial x}, \\\\[1ex]\n",
        " \\frac{\\partial}{\\partial x}\\left(\\frac{f}{g}\\right) & = \\frac{\\frac\n",
        "  {\\partial f}{\\partial x} \\cdot g - f \\cdot \\frac{\\partial g}{\\partial x}}{g^2}. \n",
        "\\end{align*}\n",
        "$$\n",
        "\n",
        "and not, for instance, $\\frac{\\partial}{\\partial x}(f \\cdot g) = g \\cdot \\frac{\\partial f}{\\partial x} + f \\cdot \\frac{\\partial g}{\\partial x}$, which is mathematically equivalent, but would be considered different by the tests. \n",
        "\n",
        "\n",
        "\n"
      ]
    },
    {
      "cell_type": "code",
      "metadata": {
        "deletable": false,
        "nbgrader": {
          "cell_type": "code",
          "checksum": "dfffe6bdb8c14fd99c0a433a85dba54f",
          "grade": false,
          "grade_id": "cell-4cf23b13e3d04ce0",
          "locked": false,
          "schema_version": 3,
          "solution": true
        },
        "id": "ckh_wQdgz60N"
      },
      "source": [
        "### Implement `derivate`\n",
        "\n",
        "def derivate(e, x):\n",
        "    \"\"\"Returns the derivative of e wrt x.\n",
        "    It can be done in less than 15 lines of code.\"\"\"\n",
        "    if isinstance(e, tuple):\n",
        "        # We have an expression.\n",
        "        op, l, r = e\n",
        "        # We compute the subexpressions.\n",
        "        ll = derivate(l, x)\n",
        "        rr = derivate(r, x)\n",
        "        # And on the basis of those, the whole expression.\n",
        "        if op == \"+\" or op == \"-\":\n",
        "            return (op, ll, rr)\n",
        "        elif op == \"*\":\n",
        "            return ('+', ('*', ll, r), ('*', l, rr))\n",
        "        elif op == \"/\":\n",
        "            return ('/', ('-', ('*', ll, r), ('*', l, rr)), ('*', r, r))\n",
        "    else:\n",
        "        # base expression; just return the number.\n",
        "        return derivate_leaf(e, x)\n"
      ],
      "execution_count": 60,
      "outputs": []
    },
    {
      "cell_type": "code",
      "metadata": {
        "deletable": false,
        "nbgrader": {
          "cell_type": "code",
          "checksum": "1043d308ecee9528ec18a1d7febd171e",
          "grade": false,
          "grade_id": "cell-e433963fc1bc3002",
          "locked": false,
          "schema_version": 3,
          "solution": true,
          "task": false
        },
        "id": "zHAWQLrSz60N"
      },
      "source": [
        "# YOUR CODE HERE"
      ],
      "execution_count": 61,
      "outputs": []
    },
    {
      "cell_type": "code",
      "metadata": {
        "deletable": false,
        "editable": false,
        "nbgrader": {
          "cell_type": "code",
          "checksum": "d68727810919c692748b2da0d4edefc3",
          "grade": true,
          "grade_id": "cell-6cce151e04740a38",
          "locked": true,
          "points": 5,
          "schema_version": 3,
          "solution": false
        },
        "id": "Hw6jXhJyz60N"
      },
      "source": [
        "### 5 points: Tests for `derivate` for single-operator expressions\n",
        "\n",
        "assert derivate(('+', 'x', 'x'), 'x') == ('+', 1, 1)\n",
        "assert derivate(('-', 4, 'x'), 'x') == ('-', 0, 1)\n",
        "assert derivate(('*', 2, 'x'), 'x') == ('+', ('*', 0, 'x'), ('*', 2, 1))\n",
        "assert derivate(('/', 2, 'x'), 'x') == ('/', ('-', ('*', 0, 'x'), ('*', 2, 1)), ('*', 'x', 'x'))\n"
      ],
      "execution_count": 62,
      "outputs": []
    },
    {
      "cell_type": "code",
      "metadata": {
        "deletable": false,
        "editable": false,
        "nbgrader": {
          "cell_type": "code",
          "checksum": "2c2fc0217e10fab9c1d9cdee9c548ff5",
          "grade": true,
          "grade_id": "cell-a0b442b03b5fa01a",
          "locked": true,
          "points": 5,
          "schema_version": 3,
          "solution": false
        },
        "id": "lKLpac9Oz60N"
      },
      "source": [
        "### 5 points: Hidden tests for `derivate` for single-operator expressions\n",
        "\n"
      ],
      "execution_count": 63,
      "outputs": []
    },
    {
      "cell_type": "code",
      "metadata": {
        "deletable": false,
        "editable": false,
        "nbgrader": {
          "cell_type": "code",
          "checksum": "3bae1e8eb4b8c989b786b77e63d75db9",
          "grade": true,
          "grade_id": "cell-f64a5d3aa63b2ffc",
          "locked": true,
          "points": 10,
          "schema_version": 3,
          "solution": false
        },
        "id": "Z79C6OdGz60N"
      },
      "source": [
        "### 10 points: Tests for `derivate` for composite expressions\n",
        "\n",
        "e1 = ('*', 'x', 'x')\n",
        "e2 = ('*', 3, 'x')\n",
        "num = ('-', e1, e2)\n",
        "e3 = ('*', 'a', 'x')\n",
        "den = ('+', e1, e3)\n",
        "e = ('/', num, den)\n",
        "\n",
        "f = ('/',\n",
        " ('-',\n",
        "  ('*',\n",
        "   ('-',\n",
        "    ('+', ('*', 1, 'x'), ('*', 'x', 1)),\n",
        "    ('+', ('*', 0, 'x'), ('*', 3, 1))),\n",
        "   ('+', ('*', 'x', 'x'), ('*', 'a', 'x'))),\n",
        "  ('*',\n",
        "   ('-', ('*', 'x', 'x'), ('*', 3, 'x')),\n",
        "   ('+',\n",
        "    ('+', ('*', 1, 'x'), ('*', 'x', 1)),\n",
        "    ('+', ('*', 0, 'x'), ('*', 'a', 1))))),\n",
        " ('*',\n",
        "  ('+', ('*', 'x', 'x'), ('*', 'a', 'x')),\n",
        "  ('+', ('*', 'x', 'x'), ('*', 'a', 'x'))))\n",
        "\n",
        "assert derivate(e, 'x') == f\n",
        "\n"
      ],
      "execution_count": 64,
      "outputs": []
    },
    {
      "cell_type": "code",
      "metadata": {
        "id": "ycmwUQMbz60N"
      },
      "source": [
        ""
      ],
      "execution_count": 64,
      "outputs": []
    }
  ]
}